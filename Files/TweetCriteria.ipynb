{
 "cells": [
  {
   "cell_type": "code",
   "execution_count": 1,
   "metadata": {
    "collapsed": true
   },
   "outputs": [],
   "source": [
    "class TweetCriteria:\n",
    "\n",
    "\tdef __init__(self):\n",
    "\t\tself.maxTweets = 0\n",
    "\n",
    "\tdef setUsername(self, username):\n",
    "\t\tself.username = username\n",
    "\t\treturn self\n",
    "\n",
    "\tdef setSince(self, since):\n",
    "\t\tself.since = since\n",
    "\t\treturn self\n",
    "\n",
    "\tdef setUntil(self, until):\n",
    "\t\tself.until = until\n",
    "\t\treturn self\n",
    "\n",
    "\tdef setQuerySearch(self, querySearch):\n",
    "\t\tself.querySearch = querySearch\n",
    "\t\treturn self\n",
    "\n",
    "\tdef setMaxTweets(self, maxTweets):\n",
    "\t\tself.maxTweets = maxTweets\n",
    "\t\treturn self\n",
    "\n",
    "\tdef setLang(self, Lang):\n",
    "\t\tself.lang = Lang\n",
    "\t\treturn self\n",
    "\n",
    "\tdef setTopTweets(self, topTweets):\n",
    " \t\tself.topTweets = topTweets\n",
    " \t\treturn self"
   ]
  },
  {
   "cell_type": "code",
   "execution_count": null,
   "metadata": {
    "collapsed": true
   },
   "outputs": [],
   "source": []
  }
 ],
 "metadata": {
  "kernelspec": {
   "display_name": "Python 3",
   "language": "python",
   "name": "python3"
  },
  "language_info": {
   "codemirror_mode": {
    "name": "ipython",
    "version": 3
   },
   "file_extension": ".py",
   "mimetype": "text/x-python",
   "name": "python",
   "nbconvert_exporter": "python",
   "pygments_lexer": "ipython3",
   "version": "3.6.3"
  }
 },
 "nbformat": 4,
 "nbformat_minor": 2
}
