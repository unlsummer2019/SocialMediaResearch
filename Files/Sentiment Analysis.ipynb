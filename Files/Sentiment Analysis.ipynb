{
 "cells": [
  {
   "cell_type": "code",
   "execution_count": 12,
   "metadata": {},
   "outputs": [],
   "source": [
    "import re\n",
    "from textblob import TextBlob\n",
    "import tweepy\n",
    "%run LDA_Example_Functions.ipynb\n",
    "%run functions.ipynb"
   ]
  },
  {
   "cell_type": "code",
   "execution_count": 5,
   "metadata": {},
   "outputs": [],
   "source": [
    "# Import Dataset\n",
    "features1 = featuresExtraction(\"../Data/secondTwitterDataFull.json\")\n",
    "features2 = featuresExtraction(\"../Data/secondTwitterData21.json\")\n",
    "features3 = featuresExtraction(\"../Data/secondTwitterData4.json\")\n",
    "features4 = featuresExtraction(\"../Data/secondTwitterData5.json\")\n",
    "features5 = featuresExtraction(\"../Data/secondTwitterDataFull9.json\")\n",
    "features6 = featuresExtraction(\"../Data/secondTwitterDataFull2.json\")\n",
    "features7 = featuresExtraction(\"../Data/secondTwitterData3.json\")\n",
    "features8 = featuresExtraction(\"../Data/secondTwitterData2.json\")\n",
    "features9 = featuresExtraction(\"../Data/secondTwitterData1.json\")\n",
    "\n",
    "featuresFull = np.append(features1, features2)\n",
    "featuresFull = np.append(featuresFull, features3)\n",
    "featuresFull = np.append(featuresFull, features4)\n",
    "featuresFull = np.append(featuresFull, features5)\n",
    "featuresFull= np.append(featuresFull, features6)\n",
    "featuresFull = np.append(featuresFull, features7)\n",
    "featuresFull = np.append(featuresFull, features8)\n",
    "featuresFull = np.append(featuresFull, features9)"
   ]
  },
  {
   "cell_type": "code",
   "execution_count": 24,
   "metadata": {},
   "outputs": [
    {
     "data": {
      "text/plain": [
       "35556"
      ]
     },
     "execution_count": 24,
     "metadata": {},
     "output_type": "execute_result"
    }
   ],
   "source": [
    "len(featuresFull)"
   ]
  },
  {
   "cell_type": "code",
   "execution_count": null,
   "metadata": {},
   "outputs": [],
   "source": []
  },
  {
   "cell_type": "code",
   "execution_count": 16,
   "metadata": {},
   "outputs": [],
   "source": [
    "def clean_tweet(tweet):\n",
    "    return ' '.join(re.sub(\"(@[A-Za-z0-9]+)|([^0-9A-Za-z \\t]) |(\\w+:\\/\\/\\S+)\", \" \", tweet).split())"
   ]
  },
  {
   "cell_type": "code",
   "execution_count": 17,
   "metadata": {},
   "outputs": [],
   "source": [
    "def get_tweet_sentiment(tweets):\n",
    "    \n",
    "    sentiment_tweets = []\n",
    "    \n",
    "    for tweet in tweets:\n",
    "        analysis = TextBlob(clean_tweet(tweet))\n",
    "    \n",
    "        if analysis.sentiment.polarity > 0:\n",
    "             sentiment_tweets.append({\"text\": tweet, \"sentiment\": 'positive'})\n",
    "        elif analysis.sentiment.polarity == 0:\n",
    "            sentiment_tweets.append({\"text\": tweet, \"sentiment\": 'neutral'})\n",
    "        else:\n",
    "            sentiment_tweets.append({\"text\": tweet, \"sentiment\": 'negative'})\n",
    "        \n",
    "    return sentiment_tweets"
   ]
  },
  {
   "cell_type": "code",
   "execution_count": 18,
   "metadata": {},
   "outputs": [],
   "source": [
    "tweets = get_tweet_sentiment(featuresFull)"
   ]
  },
  {
   "cell_type": "code",
   "execution_count": 23,
   "metadata": {},
   "outputs": [
    {
     "data": {
      "text/plain": [
       "[{'text': 'AND, PRAY\\nPRAY\\nPRAY\\nAND, SPREAD THE WORD \\nSPREAD THE WORD\\nSPREAD THE WORD\\n#MAGA #ProLife #JesusIsLord #JesusSaves\\n #JesusLovesUs #JesusIsBuildingOurHomes \\n#HeavenHasWalls #BuildTheWallNow #WalkAway https://t.co/qfOKQSUNTR',\n",
       "  'sentiment': 'neutral'},\n",
       " {'text': \"NC Voters!! TOMORROW is the last day to register to vote on November 6th!! With #Kavanaugh on the Supreme Court, we will need some #prochoice representatives who will #Fight4HER and defend abortion access with all they've got! https://t.co/C7qc1RdowY\",\n",
       "  'sentiment': 'neutral'},\n",
       " {'text': 'Unforgivable.\\nand our government subsidizes these teachings. WTF\\nCancel all catholic school funding until they get out of other peoples decision making.',\n",
       "  'sentiment': 'negative'},\n",
       " {'text': 'RT @StopTrump2020: #CommonSenseGunLaws #ProChoice https://t.co/AGRAHMy6LA',\n",
       "  'sentiment': 'neutral'},\n",
       " {'text': 'Unsere Forderungen: #wegmit218, #wegmit219a und #prochoice! Mehr Forderungen findet Ihr in unserem Aufruf für die feministische Demo an 27.10. in #München https://t.co/Fbv9XjpyIn \\n\\n#muc2710 #nofundis https://t.co/nxlz9KPOwb',\n",
       "  'sentiment': 'neutral'},\n",
       " {'text': 'AND, PRAY\\nPRAY\\nPRAY\\nAND, SPREAD THE WORD \\nSPREAD THE WORD\\nSPREAD THE WORD\\n#MAGA #ProLife #JesusIsLord #JesusSaves\\n #JesusLovesUs #JesusIsBuildingOurHomes \\n#HeavenHasWalls #BuildTheWallNow #WalkAway https://t.co/qfOKQSUNTR',\n",
       "  'sentiment': 'neutral'},\n",
       " {'text': 'RT @StopTrump2020: #CommonSenseGunLaws #ProChoice https://t.co/AGRAHMy6LA',\n",
       "  'sentiment': 'neutral'},\n",
       " {'text': 'RT @StopTrump2020: #CommonSenseGunLaws #ProChoice https://t.co/AGRAHMy6LA',\n",
       "  'sentiment': 'neutral'},\n",
       " {'text': '@drbrandner @friedahug Diese Meinung sollte eigentlich nicht unpopulär sein. #ProLife',\n",
       "  'sentiment': 'neutral'},\n",
       " {'text': 'AND, PRAY\\nPRAY\\nPRAY\\nAND, SPREAD THE WORD \\nSPREAD THE WORD\\nSPREAD THE WORD\\n#MAGA #ProLife #JesusIsLord #JesusSaves\\n #JesusLovesUs #JesusIsBuildingOurHomes \\n#HeavenHasWalls #BuildTheWallNow #WalkAway https://t.co/qfOKQSUNTR',\n",
       "  'sentiment': 'neutral'},\n",
       " {'text': '@notmuchelse This baby was just as alive in womb! #ProLife #MAGA #UnbornLivesMatter',\n",
       "  'sentiment': 'positive'}]"
      ]
     },
     "execution_count": 23,
     "metadata": {},
     "output_type": "execute_result"
    }
   ],
   "source": [
    "tweets[20:31]"
   ]
  },
  {
   "cell_type": "code",
   "execution_count": 26,
   "metadata": {},
   "outputs": [],
   "source": [
    "cleanedTweets = [clean_tweet(tweet) for tweet in featuresFull ]"
   ]
  },
  {
   "cell_type": "code",
   "execution_count": 27,
   "metadata": {},
   "outputs": [
    {
     "data": {
      "text/plain": [
       "['#ProLife #DefundPP',\n",
       " \"#PopeFrancis likened #abortion to hiring a hitman during his general audience in #Rome today “Is it right to take a human life to solve a problem It's like hiring a hitman, the pope said #Catholic #ProLife\",\n",
       " 'RT #CommonSenseGunLaws #ProChoice',\n",
       " \"_O_Cats I'm here and ready to fight for ALL #LGBTQ #BLM #ProChoice #Democracy\",\n",
       " 'Beautiful. Ultrasound video of a baby at 12 weeks. Just remember the left has no problem snuffing the life out of this innocent baby As a matter of fact they advocate for the murder of this baby every chance they get calling us anti woman #ProLife']"
      ]
     },
     "execution_count": 27,
     "metadata": {},
     "output_type": "execute_result"
    }
   ],
   "source": [
    "cleanedTweets[:5]"
   ]
  },
  {
   "cell_type": "code",
   "execution_count": null,
   "metadata": {},
   "outputs": [],
   "source": []
  }
 ],
 "metadata": {
  "kernelspec": {
   "display_name": "Python 3",
   "language": "python",
   "name": "python3"
  },
  "language_info": {
   "codemirror_mode": {
    "name": "ipython",
    "version": 3
   },
   "file_extension": ".py",
   "mimetype": "text/x-python",
   "name": "python",
   "nbconvert_exporter": "python",
   "pygments_lexer": "ipython3",
   "version": "3.7.0"
  }
 },
 "nbformat": 4,
 "nbformat_minor": 2
}
