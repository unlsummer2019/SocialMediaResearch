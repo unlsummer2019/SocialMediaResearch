{
 "cells": [
  {
   "cell_type": "code",
   "execution_count": 1,
   "metadata": {},
   "outputs": [
    {
     "ename": "ValueError",
     "evalue": "attempted relative import beyond top-level package",
     "output_type": "error",
     "traceback": [
      "\u001b[1;31m---------------------------------------------------------------------------\u001b[0m",
      "\u001b[1;31mValueError\u001b[0m                                Traceback (most recent call last)",
      "\u001b[1;32m<ipython-input-1-9dbd6ba52011>\u001b[0m in \u001b[0;36m<module>\u001b[1;34m()\u001b[0m\n\u001b[0;32m      1\u001b[0m \u001b[1;32mimport\u001b[0m \u001b[0murllib\u001b[0m\u001b[1;33m.\u001b[0m\u001b[0mrequest\u001b[0m\u001b[1;33m,\u001b[0m \u001b[0murllib\u001b[0m\u001b[1;33m.\u001b[0m\u001b[0mparse\u001b[0m\u001b[1;33m,\u001b[0m \u001b[0murllib\u001b[0m\u001b[1;33m.\u001b[0m\u001b[0merror\u001b[0m\u001b[1;33m,\u001b[0m\u001b[0murllib\u001b[0m\u001b[1;33m.\u001b[0m\u001b[0mrequest\u001b[0m\u001b[1;33m,\u001b[0m\u001b[0murllib\u001b[0m\u001b[1;33m.\u001b[0m\u001b[0merror\u001b[0m\u001b[1;33m,\u001b[0m\u001b[0murllib\u001b[0m\u001b[1;33m.\u001b[0m\u001b[0mparse\u001b[0m\u001b[1;33m,\u001b[0m\u001b[0mjson\u001b[0m\u001b[1;33m,\u001b[0m\u001b[0mre\u001b[0m\u001b[1;33m,\u001b[0m\u001b[0mdatetime\u001b[0m\u001b[1;33m,\u001b[0m\u001b[0msys\u001b[0m\u001b[1;33m,\u001b[0m\u001b[0mhttp\u001b[0m\u001b[1;33m.\u001b[0m\u001b[0mcookiejar\u001b[0m\u001b[1;33m\u001b[0m\u001b[0m\n\u001b[1;32m----> 2\u001b[1;33m \u001b[1;32mfrom\u001b[0m \u001b[1;33m.\u001b[0m\u001b[1;33m.\u001b[0m \u001b[1;32mimport\u001b[0m \u001b[0mmodels\u001b[0m\u001b[1;33m\u001b[0m\u001b[0m\n\u001b[0m\u001b[0;32m      3\u001b[0m \u001b[1;32mfrom\u001b[0m \u001b[0mpyquery\u001b[0m \u001b[1;32mimport\u001b[0m \u001b[0mPyQuery\u001b[0m\u001b[1;33m\u001b[0m\u001b[0m\n\u001b[0;32m      4\u001b[0m \u001b[1;33m\u001b[0m\u001b[0m\n\u001b[0;32m      5\u001b[0m \u001b[1;32mclass\u001b[0m \u001b[0mTweetManager\u001b[0m\u001b[1;33m:\u001b[0m\u001b[1;33m\u001b[0m\u001b[0m\n",
      "\u001b[1;31mValueError\u001b[0m: attempted relative import beyond top-level package"
     ]
    }
   ],
   "source": [
    "import urllib.request, urllib.parse, urllib.error,urllib.request,urllib.error,urllib.parse,json,re,datetime,sys,http.cookiejar\n",
    "from .. import models\n",
    "from pyquery import PyQuery\n",
    "\n",
    "class TweetManager:\n",
    "\t\n",
    "\tdef __init__(self):\n",
    "\t\tpass\n",
    "\t\t\n",
    "\t@staticmethod\n",
    "\tdef getTweets(tweetCriteria, receiveBuffer=None, bufferLength=100, proxy=None):\n",
    "\t\trefreshCursor = ''\n",
    "\t\n",
    "\t\tresults = []\n",
    "\t\tresultsAux = []\n",
    "\t\tcookieJar = http.cookiejar.CookieJar()\n",
    "\n",
    "\t\tactive = True\n",
    "\n",
    "\t\twhile active:\n",
    "\t\t\tjson = TweetManager.getJsonReponse(tweetCriteria, refreshCursor, cookieJar, proxy)\n",
    "\t\t\tif len(json['items_html'].strip()) == 0:\n",
    "\t\t\t\tbreak\n",
    "\n",
    "\t\t\trefreshCursor = json['min_position']\n",
    "\t\t\tscrapedTweets = PyQuery(json['items_html'])\n",
    "\t\t\t#Remove incomplete tweets withheld by Twitter Guidelines\n",
    "\t\t\tscrapedTweets.remove('div.withheld-tweet')\n",
    "\t\t\ttweets = scrapedTweets('div.js-stream-tweet')\n",
    "\t\t\t\n",
    "\t\t\tif len(tweets) == 0:\n",
    "\t\t\t\tbreak\n",
    "\t\t\t\n",
    "\t\t\tfor tweetHTML in tweets:\n",
    "\t\t\t\ttweetPQ = PyQuery(tweetHTML)\n",
    "\t\t\t\ttweet = models.Tweet()\n",
    "\t\t\t\t\n",
    "\t\t\t\tusernameTweet = tweetPQ(\"span.username.js-action-profile-name b\").text()\n",
    "\t\t\t\ttxt = re.sub(r\"\\s+\", \" \", tweetPQ(\"p.js-tweet-text\").text().replace('# ', '#').replace('@ ', '@'))\n",
    "\t\t\t\tretweets = int(tweetPQ(\"span.ProfileTweet-action--retweet span.ProfileTweet-actionCount\").attr(\"data-tweet-stat-count\").replace(\",\", \"\"))\n",
    "\t\t\t\tfavorites = int(tweetPQ(\"span.ProfileTweet-action--favorite span.ProfileTweet-actionCount\").attr(\"data-tweet-stat-count\").replace(\",\", \"\"))\n",
    "\t\t\t\tdateSec = int(tweetPQ(\"small.time span.js-short-timestamp\").attr(\"data-time\"))\n",
    "\t\t\t\tid = tweetPQ.attr(\"data-tweet-id\")\n",
    "\t\t\t\tpermalink = tweetPQ.attr(\"data-permalink-path\")\n",
    "\t\t\t\tuser_id = int(tweetPQ(\"a.js-user-profile-link\").attr(\"data-user-id\"))\n",
    "\t\t\t\t\n",
    "\t\t\t\tgeo = ''\n",
    "\t\t\t\tgeoSpan = tweetPQ('span.Tweet-geo')\n",
    "\t\t\t\tif len(geoSpan) > 0:\n",
    "\t\t\t\t\tgeo = geoSpan.attr('title')\n",
    "\t\t\t\turls = []\n",
    "\t\t\t\tfor link in tweetPQ(\"a\"):\n",
    "\t\t\t\t\ttry:\n",
    "\t\t\t\t\t\turls.append((link.attrib[\"data-expanded-url\"]))\n",
    "\t\t\t\t\texcept KeyError:\n",
    "\t\t\t\t\t\tpass\n",
    "\t\t\t\ttweet.id = id\n",
    "\t\t\t\ttweet.permalink = 'https://twitter.com' + permalink\n",
    "\t\t\t\ttweet.username = usernameTweet\n",
    "\t\t\t\t\n",
    "\t\t\t\ttweet.text = txt\n",
    "\t\t\t\ttweet.date = datetime.datetime.fromtimestamp(dateSec)\n",
    "\t\t\t\ttweet.formatted_date = datetime.datetime.fromtimestamp(dateSec).strftime(\"%a %b %d %X +0000 %Y\")\n",
    "\t\t\t\ttweet.retweets = retweets\n",
    "\t\t\t\ttweet.favorites = favorites\n",
    "\t\t\t\ttweet.mentions = \" \".join(re.compile('(@\\\\w*)').findall(tweet.text))\n",
    "\t\t\t\ttweet.hashtags = \" \".join(re.compile('(#\\\\w*)').findall(tweet.text))\n",
    "\t\t\t\ttweet.geo = geo\n",
    "\t\t\t\ttweet.urls = \",\".join(urls)\n",
    "\t\t\t\ttweet.author_id = user_id\n",
    "\t\t\t\t\n",
    "\t\t\t\tresults.append(tweet)\n",
    "\t\t\t\tresultsAux.append(tweet)\n",
    "\t\t\t\t\n",
    "\t\t\t\tif receiveBuffer and len(resultsAux) >= bufferLength:\n",
    "\t\t\t\t\treceiveBuffer(resultsAux)\n",
    "\t\t\t\t\tresultsAux = []\n",
    "\t\t\t\t\n",
    "\t\t\t\tif tweetCriteria.maxTweets > 0 and len(results) >= tweetCriteria.maxTweets:\n",
    "\t\t\t\t\tactive = False\n",
    "\t\t\t\t\tbreak\n",
    "\t\t\t\t\t\n",
    "\t\t\n",
    "\t\tif receiveBuffer and len(resultsAux) > 0:\n",
    "\t\t\treceiveBuffer(resultsAux)\n",
    "\t\t\n",
    "\t\treturn results\n",
    "\t\n",
    "\t@staticmethod\n",
    "\tdef getJsonReponse(tweetCriteria, refreshCursor, cookieJar, proxy):\n",
    "\t\turl = \"https://twitter.com/i/search/timeline?f=tweets&q=%s&src=typd&%smax_position=%s\"\n",
    "\t\t\n",
    "\t\turlGetData = ''\n",
    "\t\tif hasattr(tweetCriteria, 'username'):\n",
    "\t\t\turlGetData += ' from:' + tweetCriteria.username\n",
    "\t\t\t\n",
    "\t\tif hasattr(tweetCriteria, 'since'):\n",
    "\t\t\turlGetData += ' since:' + tweetCriteria.since\n",
    "\t\t\t\n",
    "\t\tif hasattr(tweetCriteria, 'until'):\n",
    "\t\t\turlGetData += ' until:' + tweetCriteria.until\n",
    "\t\t\t\n",
    "\t\tif hasattr(tweetCriteria, 'querySearch'):\n",
    "\t\t\turlGetData += ' ' + tweetCriteria.querySearch\n",
    "\t\t\t\n",
    "\t\tif hasattr(tweetCriteria, 'lang'):\n",
    "\t\t\turlLang = 'lang=' + tweetCriteria.lang + '&'\n",
    "\t\telse:\n",
    "\t\t\turlLang = ''\n",
    "\t\turl = url % (urllib.parse.quote(urlGetData), urlLang, refreshCursor)\n",
    "\t\t#print(url)\n",
    "\n",
    "\t\theaders = [\n",
    "\t\t\t('Host', \"twitter.com\"),\n",
    "\t\t\t('User-Agent', \"Mozilla/5.0 (Windows NT 6.1; Win64; x64)\"),\n",
    "\t\t\t('Accept', \"application/json, text/javascript, */*; q=0.01\"),\n",
    "\t\t\t('Accept-Language', \"de,en-US;q=0.7,en;q=0.3\"),\n",
    "\t\t\t('X-Requested-With', \"XMLHttpRequest\"),\n",
    "\t\t\t('Referer', url),\n",
    "\t\t\t('Connection', \"keep-alive\")\n",
    "\t\t]\n",
    "\n",
    "\t\tif proxy:\n",
    "\t\t\topener = urllib.request.build_opener(urllib.request.ProxyHandler({'http': proxy, 'https': proxy}), urllib.request.HTTPCookieProcessor(cookieJar))\n",
    "\t\telse:\n",
    "\t\t\topener = urllib.request.build_opener(urllib.request.HTTPCookieProcessor(cookieJar))\n",
    "\t\topener.addheaders = headers\n",
    "\n",
    "\t\ttry:\n",
    "\t\t\tresponse = opener.open(url)\n",
    "\t\t\tjsonResponse = response.read()\n",
    "\t\texcept:\n",
    "\t\t\t#print(\"Twitter weird response. Try to see on browser: \", url)\n",
    "\t\t\tprint(\"Twitter weird response. Try to see on browser: https://twitter.com/search?q=%s&src=typd\" % urllib.parse.quote(urlGetData))\n",
    "\t\t\tprint(\"Unexpected error:\", sys.exc_info()[0])\n",
    "\t\t\tsys.exit()\n",
    "\t\t\treturn\n",
    "\t\t\n",
    "\t\tdataJson = json.loads(jsonResponse.decode())\n",
    "\t\t\n",
    "\t\treturn dataJson\t"
   ]
  },
  {
   "cell_type": "code",
   "execution_count": 5,
   "metadata": {},
   "outputs": [],
   "source": [
    "%run functions.ipynb"
   ]
  },
  {
   "cell_type": "code",
   "execution_count": 6,
   "metadata": {},
   "outputs": [],
   "source": [
    "f = featuresExtraction(\"../Data/secondTwitterData.json\")"
   ]
  },
  {
   "cell_type": "code",
   "execution_count": 8,
   "metadata": {},
   "outputs": [
    {
     "data": {
      "text/plain": [
       "'Y’all do all this propaganda to end abortion but do nothing to help with prenatal care or anything after the baby is born https://t.co/U0iO8k2f5N'"
      ]
     },
     "execution_count": 8,
     "metadata": {},
     "output_type": "execute_result"
    }
   ],
   "source": [
    "f[1]"
   ]
  },
  {
   "cell_type": "code",
   "execution_count": null,
   "metadata": {
    "collapsed": true
   },
   "outputs": [],
   "source": []
  }
 ],
 "metadata": {
  "kernelspec": {
   "display_name": "Python 3",
   "language": "python",
   "name": "python3"
  },
  "language_info": {
   "codemirror_mode": {
    "name": "ipython",
    "version": 3
   },
   "file_extension": ".py",
   "mimetype": "text/x-python",
   "name": "python",
   "nbconvert_exporter": "python",
   "pygments_lexer": "ipython3",
   "version": "3.7.2"
  }
 },
 "nbformat": 4,
 "nbformat_minor": 2
}
