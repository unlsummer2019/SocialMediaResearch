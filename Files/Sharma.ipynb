{
 "cells": [
  {
   "cell_type": "code",
   "execution_count": 1,
   "metadata": {},
   "outputs": [
    {
     "name": "stderr",
     "output_type": "stream",
     "text": [
      "C:\\ProgramData\\Anaconda3\\lib\\site-packages\\sklearn\\ensemble\\weight_boosting.py:29: DeprecationWarning: numpy.core.umath_tests is an internal NumPy module and should not be imported. It will be removed in a future NumPy release.\n",
      "  from numpy.core.umath_tests import inner1d\n"
     ]
    }
   ],
   "source": [
    "import pandas as pd  \n",
    "import numpy as np  \n",
    "import matplotlib.pyplot as plt\n",
    "from statistics import mean\n",
    "from sklearn.svm import SVC\n",
    "from sklearn.ensemble import RandomForestClassifier\n",
    "from sklearn.model_selection import cross_validate, train_test_split, KFold, cross_val_predict, cross_val_score\n",
    "from sklearn.metrics import classification_report, confusion_matrix\n",
    "from sklearn.feature_extraction.text import TfidfVectorizer\n",
    "%run functions.ipynb"
   ]
  },
  {
   "cell_type": "code",
   "execution_count": 2,
   "metadata": {},
   "outputs": [
    {
     "name": "stderr",
     "output_type": "stream",
     "text": [
      "C:\\ProgramData\\Anaconda3\\lib\\site-packages\\ipykernel_launcher.py:7: VisibleDeprecationWarning: Reading unicode strings without specifying the encoding argument is deprecated. Set the encoding, use None for the system default.\n",
      "  import sys\n"
     ]
    }
   ],
   "source": [
    "features1 = featuresExtraction(\"../Data/secondTwitterDataFull.json\")\n",
    "k = featuresExtraction(\"../Data/memoTweets2.json\")\n",
    "y = labelExtraction(\"../Data/labels1.txt\")\n",
    "tfidf = TfidfVectorizer(sublinear_tf=True, min_df=5, norm='l2', encoding='latin-1', ngram_range=(1, 2), stop_words='english')\n",
    "X = tfidf.fit_transform(features1)\n",
    "X1 = tfidf.fit_transform(k)"
   ]
  },
  {
   "cell_type": "code",
   "execution_count": 16,
   "metadata": {},
   "outputs": [
    {
     "data": {
      "text/plain": [
       "'How many little girls have had ALL THEIR DAYS ripped from them by Planned Parenthood and the evil child sacrifice that is ABORTION?'"
      ]
     },
     "execution_count": 16,
     "metadata": {},
     "output_type": "execute_result"
    }
   ],
   "source": [
    "k[0]"
   ]
  },
  {
   "cell_type": "code",
   "execution_count": 13,
   "metadata": {},
   "outputs": [
    {
     "data": {
      "text/plain": [
       "'Lucy- My #abortion saved my life. I could not have finished my studies in campus and started a career in journalism with an unintended pregnancy https://t.co/pGuwyujsPm #MyAbortionStory #KeepWanjikuSafe @SicilyKariuki @EstherPassaris @MOH_Kenya https://t.co/exEjH3KMAm'"
      ]
     },
     "execution_count": 13,
     "metadata": {},
     "output_type": "execute_result"
    }
   ],
   "source": [
    "features1[9]"
   ]
  },
  {
   "cell_type": "code",
   "execution_count": 5,
   "metadata": {
    "collapsed": true
   },
   "outputs": [],
   "source": [
    "clf = SVC(kernel='linear')\n",
    "scores = cross_val_score(clf, X1, y, cv=10)"
   ]
  },
  {
   "cell_type": "code",
   "execution_count": 6,
   "metadata": {},
   "outputs": [
    {
     "name": "stdout",
     "output_type": "stream",
     "text": [
      "Cross-validated scores:  [ 0.63414634  0.73170732  0.73170732  0.65853659  0.7         0.65        0.65\n",
      "  0.76923077  0.66666667  0.44736842]\n"
     ]
    }
   ],
   "source": [
    "print(\"Cross-validated scores: \", scores)"
   ]
  },
  {
   "cell_type": "code",
   "execution_count": 7,
   "metadata": {},
   "outputs": [
    {
     "name": "stdout",
     "output_type": "stream",
     "text": [
      "Accuracy: 0.66 (+/- 0.17)\n"
     ]
    }
   ],
   "source": [
    "print(\"Accuracy: %0.2f (+/- %0.2f)\" % (scores.mean(), scores.std() * 2))"
   ]
  },
  {
   "cell_type": "code",
   "execution_count": 4,
   "metadata": {
    "collapsed": true
   },
   "outputs": [],
   "source": [
    "features2 = featuresExtraction(\"../Data/secondTwitterData21.json\")\n",
    "features3 = featuresExtraction(\"../Data/secondTwitterData4.json\")\n",
    "features4 = featuresExtraction(\"../Data/secondTwitterData5.json\")\n",
    "features5 = featuresExtraction(\"../Data/secondTwitterDataFull9.json\")\n",
    "features6 = featuresExtraction(\"../Data/secondTwitterDataFull2.json\")"
   ]
  },
  {
   "cell_type": "code",
   "execution_count": 5,
   "metadata": {},
   "outputs": [
    {
     "name": "stdout",
     "output_type": "stream",
     "text": [
      "5153\n",
      "1975\n",
      "2051\n"
     ]
    }
   ],
   "source": [
    "print(len(features4))\n",
    "print(len(features2))\n",
    "print(len(features3))"
   ]
  },
  {
   "cell_type": "code",
   "execution_count": 6,
   "metadata": {
    "collapsed": true
   },
   "outputs": [],
   "source": [
    "featuresFull = np.append(features2, features3)"
   ]
  },
  {
   "cell_type": "code",
   "execution_count": 7,
   "metadata": {
    "collapsed": true
   },
   "outputs": [],
   "source": [
    "featuresFull = np.append(featuresFull, features4)"
   ]
  },
  {
   "cell_type": "code",
   "execution_count": 8,
   "metadata": {
    "collapsed": true
   },
   "outputs": [],
   "source": [
    "featuresFull = np.append(featuresFull, features5)"
   ]
  },
  {
   "cell_type": "code",
   "execution_count": 9,
   "metadata": {
    "collapsed": true
   },
   "outputs": [],
   "source": [
    "featuresFull = np.append(featuresFull, features6)"
   ]
  },
  {
   "cell_type": "code",
   "execution_count": 10,
   "metadata": {
    "collapsed": true
   },
   "outputs": [],
   "source": [
    "featuresFull = np.append(k, featuresFull)\n"
   ]
  },
  {
   "cell_type": "code",
   "execution_count": 14,
   "metadata": {
    "collapsed": true
   },
   "outputs": [],
   "source": [
    "featuresFull = np.append(featuresFull, features1)"
   ]
  },
  {
   "cell_type": "code",
   "execution_count": 21,
   "metadata": {},
   "outputs": [],
   "source": [
    "features7 = featuresExtraction(\"../Data/secondTwitterData3.json\")\n",
    "features8 = featuresExtraction(\"../Data/secondTwitterData2.json\")\n",
    "features9 = featuresExtraction(\"../Data/secondTwitterData1.json\")"
   ]
  },
  {
   "cell_type": "code",
   "execution_count": 26,
   "metadata": {},
   "outputs": [],
   "source": [
    "featuresFull = np.append(featuresFull, features7)\n",
    "featuresFull = np.append(featuresFull, features8)\n",
    "featuresFull = np.append(featuresFull, features9)"
   ]
  },
  {
   "cell_type": "code",
   "execution_count": 27,
   "metadata": {},
   "outputs": [
    {
     "data": {
      "text/plain": [
       "35956"
      ]
     },
     "execution_count": 27,
     "metadata": {},
     "output_type": "execute_result"
    }
   ],
   "source": [
    "len(featuresFull)"
   ]
  },
  {
   "cell_type": "code",
   "execution_count": 28,
   "metadata": {
    "collapsed": true
   },
   "outputs": [],
   "source": [
    "X_test = tfidf.fit_transform(featuresFull)"
   ]
  },
  {
   "cell_type": "code",
   "execution_count": 29,
   "metadata": {},
   "outputs": [
    {
     "data": {
      "text/plain": [
       "(35956, 24751)"
      ]
     },
     "execution_count": 29,
     "metadata": {},
     "output_type": "execute_result"
    }
   ],
   "source": [
    "X_test.shape"
   ]
  },
  {
   "cell_type": "code",
   "execution_count": 30,
   "metadata": {
    "collapsed": true
   },
   "outputs": [],
   "source": [
    "x_train = X_test[:400]"
   ]
  },
  {
   "cell_type": "code",
   "execution_count": 31,
   "metadata": {
    "collapsed": true
   },
   "outputs": [],
   "source": [
    "x_testj = X_test[400:]"
   ]
  },
  {
   "cell_type": "code",
   "execution_count": 32,
   "metadata": {},
   "outputs": [
    {
     "data": {
      "text/plain": [
       "(35556, 24751)"
      ]
     },
     "execution_count": 32,
     "metadata": {},
     "output_type": "execute_result"
    }
   ],
   "source": [
    "x_testj.shape"
   ]
  },
  {
   "cell_type": "code",
   "execution_count": 33,
   "metadata": {},
   "outputs": [
    {
     "data": {
      "text/plain": [
       "SVC(C=1.0, cache_size=200, class_weight=None, coef0=0.0,\n",
       "  decision_function_shape='ovr', degree=3, gamma='auto', kernel='linear',\n",
       "  max_iter=-1, probability=False, random_state=None, shrinking=True,\n",
       "  tol=0.001, verbose=False)"
      ]
     },
     "execution_count": 33,
     "metadata": {},
     "output_type": "execute_result"
    }
   ],
   "source": [
    "svclassifier = SVC(kernel='linear')  \n",
    "svclassifier.fit(x_train, y) "
   ]
  },
  {
   "cell_type": "code",
   "execution_count": 41,
   "metadata": {},
   "outputs": [],
   "source": [
    "y_pred = svclassifier.predict(x_testj)"
   ]
  },
  {
   "cell_type": "code",
   "execution_count": 42,
   "metadata": {},
   "outputs": [
    {
     "data": {
      "text/plain": [
       "array([b'against', b'against', b'against', b'neutral', b'against',\n",
       "       b'against', b'against', b'against', b'against', b'against',\n",
       "       b'against', b'against', b'against', b'against', b'against',\n",
       "       b'against', b'against', b'against', b'against', b'against',\n",
       "       b'against', b'against', b'against', b'against', b'against',\n",
       "       b'against', b'against', b'against', b'against', b'against',\n",
       "       b'against', b'against', b'against', b'neutral', b'against',\n",
       "       b'against', b'against', b'against', b'against', b'against',\n",
       "       b'against', b'against', b'against', b'against', b'against',\n",
       "       b'against', b'against', b'against', b'against', b'against',\n",
       "       b'against', b'against', b'against', b'against', b'against',\n",
       "       b'against', b'against', b'against', b'against', b'against',\n",
       "       b'against', b'against', b'against', b'against', b'against',\n",
       "       b'against', b'against', b'against', b'against', b'against',\n",
       "       b'against', b'against', b'against', b'against', b'against',\n",
       "       b'against', b'against', b'against', b'against', b'against',\n",
       "       b'against', b'against', b'against', b'against', b'against',\n",
       "       b'against', b'for', b'against', b'against', b'against', b'against',\n",
       "       b'against', b'against', b'against', b'against', b'against',\n",
       "       b'against', b'against', b'against', b'against', b'against',\n",
       "       b'against', b'against', b'against', b'against', b'against',\n",
       "       b'against', b'against', b'against', b'against', b'neutral',\n",
       "       b'against', b'against', b'against', b'against', b'against',\n",
       "       b'against', b'against', b'against', b'against', b'against',\n",
       "       b'against', b'against', b'against', b'against', b'against',\n",
       "       b'against', b'against', b'against', b'against', b'against',\n",
       "       b'against', b'against', b'against', b'against', b'against',\n",
       "       b'against', b'against', b'against', b'against', b'against',\n",
       "       b'against', b'against', b'against', b'against', b'against',\n",
       "       b'against', b'against', b'against', b'against', b'against',\n",
       "       b'against', b'against', b'against', b'against', b'against',\n",
       "       b'against', b'against', b'against', b'against', b'against',\n",
       "       b'against', b'against', b'against', b'against', b'against',\n",
       "       b'against', b'against', b'against', b'against', b'against',\n",
       "       b'against', b'against', b'against', b'against', b'against',\n",
       "       b'against', b'against', b'against', b'against', b'against',\n",
       "       b'against', b'against', b'against', b'against', b'against',\n",
       "       b'against', b'against', b'against', b'against', b'against',\n",
       "       b'against', b'against', b'against', b'against', b'against',\n",
       "       b'against', b'against', b'against', b'against'], dtype='|S7')"
      ]
     },
     "execution_count": 42,
     "metadata": {},
     "output_type": "execute_result"
    }
   ],
   "source": [
    "y_pred[:200]"
   ]
  },
  {
   "cell_type": "code",
   "execution_count": 48,
   "metadata": {},
   "outputs": [
    {
     "name": "stdout",
     "output_type": "stream",
     "text": [
      "0 Does anyone know what the Democratic party actually stands for?\n",
      "\n",
      "Besides abortion, gun control, illegal immigration, socialism, and pure hatred of conservatives, there really isn't much else going on.\n",
      "\n",
      "Am I right??\n",
      "\n",
      "1 @soledadobrien It's the racism for many, it really is, that and his claims to oppose abortion rights. I'm from DEEP Tr*mp territory, which is why I moved away 20 years ago. I can tell you, they've been seething about not being allowed to say racist things in public for years now.\n",
      "\n",
      "2 Don't be ashamed to have an abortion \n",
      "It is legal to have it and you're acting within your rights.\n",
      "Don't let the stigma around abortion force you to go and have back door abortion because you might end up dead and you don't owe anyone any explanation it's your body and your right\n",
      "\n",
      "3 RT @shaneeeomekaa: Polys don’t believe in abortion they just give they kids to one of their aunties\n",
      "\n",
      "4 @LateCambrian @wondrlost @EmilyMiller @tedcruz Anyone who doesn’t meet the standards listed and is seeking an abortion to avoid taking responsibility for their choice. Having a kid is tough and will put a financial burden on you but that is life and just aborting that responsibility isn’t the answer\n",
      "\n",
      "5 NFL Quarterback Philip Rivers and his wife know their 8 children are a blessing from God. \n",
      "\n",
      "New one-minute commentary from @LifeIssuesUSA \n",
      "\n",
      "https://t.co/UJcm0doxuh #ProLife\n",
      "\n",
      "6 Congrats to the women of Queensland! It’s about time! Queensland parliament votes to legalise abortion https://t.co/fpgOhaS5Ts #womenshealth #reproductiverights #ProChoice #abortion #WomensRights #healthcare\n",
      "\n",
      "7 Abortion will be legalized in Queensland, after lawmakers in the Australian state overturned 19th-century legislation banning the procedure https://t.co/xd2ySOmMqL https://t.co/2v19Un5Lx5\n",
      "\n",
      "8 Watching so many people tweet about #MyChildhoodHeroTaughtMe, it’s sad that everyday 3,000 innocent children are slaughtered by #Abortion and will never have a hero. Be a hero for them and raise your voice against this holocaust. #maga #Deplorables #prolife #hero\n",
      "\n",
      "9 A new anti-abortion propaganda film tries to paint all abortion providers as criminals, Dr. Willie J. Parker writes. https://t.co/d2eksNiUGF\n",
      "\n",
      "10 In case you forgot (I haven't), @senatorscarnati &amp; plenty of his @PASenateGOP caucus had NO problem voting in favor of SB3, a completely unconstitutional abortion ban that would've inevitably led to court challenges. \n",
      "https://t.co/QyMCO6Eo4C\n",
      "#PASenate #PAPolitics #windowtojustice\n",
      "\n",
      "11 Ex-Trump staffer Jason Miller sues Gizmodo after losing CNN job over explosive abortion allegation https://t.co/5X2isP7EFF via @phillydotcom https://t.co/LIFvSiMjgF\n",
      "\n",
      "12 RT @LifeNewsHQ: Hollywood Gives Nearly $40 Million to Pro-Abortion Candidates https://t.co/dmkfDD0laf https://t.co/XoRhPvZO0Y\n",
      "\n",
      "13 #Indiana lawmakers are spending your hard earned tax dollars in millions, trying to take away your rights.\n",
      "\n",
      "Is there anyone who is in favor of this?  While the AG and the Speaker of the IN house both have sexual harassment cases pending before them. #VOTE https://t.co/acQISPDbCr\n",
      "\n",
      "14 RT @FFRF: Kuddos, Queensland and the activists who organized and fought for this historic victory 👏👏👏 https://t.co/ifhjH7fX0B\n",
      "\n",
      "15 RT @ginarush: #BREAKING Abortion will be decriminalised in Queensland. It passed!!!\n",
      "\n",
      "16 Just an FYI to anyone who uses the \"abortion is necessary because in a lot of cases women abort their child if they (the mother) is in danger\" only 2.8% women have an abortion due to a maternal health risk. And only 3.3% of abortions are due to a fetal health risk.\n",
      "\n",
      "17 Don't be ashamed to have an abortion \n",
      "It is legal to have it and you're acting within your rights.\n",
      "Don't let the stigma around abortion force you to go and have back door abortion because you might end up dead and you don't owe anyone any explanation it's your body and your right\n",
      "\n",
      "18 Contrasted with Katz’s “service” of condemning preborn children to premature deaths, Representative Schaefer has a long history of supporting the Right to Life of the most vulnerable members of the human race. https://t.co/otkHd6R5JU\n",
      "\n",
      "19 @PawanKu54827606 @reshu202 WomenEmpowermentByBapuji  is working day &amp; night on Anti-Abortion Camps, De-addiction Camps &amp; many more..  #NariTuNarayani \n",
      "https://t.co/A5hOE3IVOX\n",
      "\n",
      "20 RT @CPheagin: Abortion is murder. \n",
      "There's no way around that fact and it should be illegal. \n",
      "#MAGA #WednesdayWisdom https://t.co/ndx4AjhsPd\n",
      "\n",
      "21 @PPact @kathryn_basco DON'T BE FOOLED!!!! @HillaryClinton SAID THIS. \n",
      "🚨🚨 ONE REASON ABORTION SHOULD BE AGAINST THE LAW...IT WAS DESIGNED AS A WAY TO CONTROL THE AFRICAN-AMERICAN POPULATION!!! THAT IS NOT OK...THAT'S GENOCIDE https://t.co/UVj7K0ZGZw\n",
      "\n",
      "22 Weird. Canada now has single payer health care, no abortion restrictions, same-sex marriage and legal weed. And their Christians aren't fleeing to America. Must not be all that bad.\n",
      "\n",
      "23 No they should not cuz #McCaskill  is a liar, she is deceiving Americans to get votes!! #PlannedParenthood #DemocratsHateAmerica she's NOT #prolife, she is a FAR #Left #Progressive #Democrat\n",
      "#ProjectVeritas #JamesOkeefe https://t.co/kSWHKlZhnt\n",
      "\n",
      "24 RT @CPheagin: Abortion is murder. \n",
      "There's no way around that fact and it should be illegal. \n",
      "#MAGA #WednesdayWisdom https://t.co/ndx4AjhsPd\n",
      "\n",
      "25 It’s a little ironic that while @alicetweet is trying to defend #LyinTed, she is telling lies about @BetoORourke. She knows damn well there is no such thing as a taxpayer-funded abortion, and Beto has never promoted such a thing. @tedcruz and his spox are liars.\n",
      "\n",
      "26 Weird. Canada now has single payer health care, no abortion restrictions, same-sex marriage and legal weed. And their Christians aren't fleeing to America. Must not be all that bad.\n",
      "\n",
      "27 #Indiana lawmakers are spending your hard earned tax dollars in millions, trying to take away your rights.\n",
      "\n",
      "Is there anyone who is in favor of this?  While the AG and the Speaker of the IN house both have sexual harassment cases pending before them. #VOTE https://t.co/acQISPDbCr\n",
      "\n",
      "28 .@gop and .@realdonaldTrump continue giving $500 mil of US tax payer dollars to PP.\n",
      "\n",
      "Right or wrong, Atleast Hollywood is giving their own money.. https://t.co/rVzjke8Pj3\n",
      "\n",
      "29 #Indiana lawmakers are spending your hard earned tax dollars in millions, trying to take away your rights.\n",
      "\n",
      "Is there anyone who is in favor of this?  While the AG and the Speaker of the IN house both have sexual harassment cases pending before them. #VOTE https://t.co/acQISPDbCr\n",
      "\n",
      "30 RT @EmilyMiller: Beto O’Rourke is far left on abortion and has repeatedly voted for late term abortions and taxpayer funded abortions. -@te…\n",
      "\n",
      "31 Roe lied about being raped because she thought it’d gain her sympathy for an abortion. She also became a pro-life activist later on in life and tried to overturn her own case and failed because she felt awful that women were using it as birth control and thanking her for it. https://t.co/5FxZOrrBol\n",
      "\n",
      "32 #Indiana lawmakers are spending your hard earned tax dollars in millions, trying to take away your rights.\n",
      "\n",
      "Is there anyone who is in favor of this?  While the AG and the Speaker of the IN house both have sexual harassment cases pending before them. #VOTE https://t.co/acQISPDbCr\n",
      "\n",
      "33 Did you\"  pray \" before you slandered Mark Sanford in your sickening TV campaign ads or before SC for Equality endorsed you @karringtonsc ? I bet NOT\n",
      "\n",
      "34 Gosnell: The Serial Killer the Media Ignore - American Thinker - #Gosnell\n",
      "#UnbornLivesMatter #AbortionIsMurder #abortion #prolife #DefundPlannedParenthood\n",
      "#defundpp #GosnellMovie https://t.co/x6p8ofw8rb https://t.co/GS4a6hdZxZ\n",
      "\n",
      "35 New post (Queensland Becomes Latest Australian State to Decriminalize Abortion) has been published on News Bits - https://t.co/TnIcdVYo4I\n",
      "\n",
      "36 RT @TSMJ1962: SCOTUS May Consider Down Syndrome Abortion Ban in What Would Be a Pivotal Case for Disability Rights  https://t.co/K6npIlFkVN\n",
      "\n",
      "37 I want to know where they got the 1 in 4 statistic, that seems extremely high to me\n",
      "\n",
      "38 Leftists want to end capital punishment - because it doesn't respect the human dignity of LIFE.\n",
      "\n",
      "Why don't they want to end abortion?\n",
      "That's LIFE\n",
      "\n",
      "39 Leftists want to end capital punishment - because it doesn't respect the human dignity of LIFE.\n",
      "\n",
      "Why don't they want to end abortion?\n",
      "That's LIFE\n",
      "\n",
      "40 Does anyone know what the Democratic party actually stands for?\n",
      "\n",
      "Besides abortion, gun control, illegal immigration, socialism, and pure hatred of conservatives, there really isn't much else going on.\n",
      "\n",
      "Am I right??\n",
      "\n",
      "41 BREAKING: Queensland, Australia has decriminalized most abortions, creates a 150m buffer zone preventing people from harassing patients obtaining care, &amp; requires medical providers unwilling to provide abortion care to refer patients to another provider. https://t.co/pI84rgXeap\n",
      "\n",
      "42 im watching a video on abortion for my class so are u guys pro life or pro choice\n",
      "\n",
      "43 ❗URGENT ❗\n",
      "Please write to your MP urging them to vote against Diana Johnson's 10 Minute Rule Bill which will on Tuesday 23rd October seek to decriminalise abortion. The bill would allow for abortion on demand, for any reason, and would... https://t.co/sekShzECrI\n",
      "\n",
      "44 Don't be ashamed to have an abortion \n",
      "It is legal to have it and you're acting within your rights.\n",
      "Don't let the stigma around abortion force you to go and have back door abortion because you might end up dead and you don't owe anyone any explanation it's your body and your right\n",
      "\n",
      "45 RT @blackvoices: A new anti-abortion propaganda film tries to paint all abortion providers as criminals, Dr. Willie J. Parker writes. https…\n",
      "\n",
      "46 Share this with your #prolife friends, because this series will absolutely equip them to have more productive and persuasive conversations with their pro-choice friends about this film! https://t.co/9jTIUN9aMy\n",
      "\n",
      "47 Sinema is extreme and doesn't rep AZ values (clearly)! #prolife #AZSen\n",
      "\n",
      "48 @Julescelt @HeidiM_67 @AskWrestlingGuy @gemgirl223 If they had claumed it as a case study applicable to the whole pipulation, then your statement would be true, except they stated that there were only 600,000 abortions in that year. Which omits 400,000. On top of that, they deliberately falsified abortion numbers in mexico.\n",
      "\n",
      "49 @MomWifeGrammy @AMPRo1219 @carysimond @TomiLahren @realDonaldTrump They want the drugs, many are addicted and vote for politicians who enable access to street drugs. Treatments mean more drugs and health care costs. Abortion does too. Big Pharma/med Industry rake in $$, kickbacks to “campaign contributions” fund their lifestyle and piggy banks.\n",
      "\n",
      "50 @nytimes I’m sorry but your last episode of #TheDaily is completely bogus. People who call themselves “pro-life” are against the right for women to chose, so this Joan Barry is either pro-choice or she thinks abortion should be illégal. And the Democratic Party is pro-choice.\n",
      "\n",
      "51 Yessir You Are Correct!\n",
      "\n",
      "52 Professor Files Title IX Complaint After Funding Request Denied For Abortion Debate Because Participants Are Male | Daily Wire https://t.co/6fol1GTZcF\n",
      "\n",
      "53 For the LAST TIME, being pro-CHOICE does not mean you would get an abortion yourself or that you agree with others getting abortions, it means you support giving everyone the CHOICE to CHOOSE for THEMSELVES\n",
      "\n",
      "54 ⬇️ A powerful, heartbreaking story of Noemi Olivera, a women in #Uruguay who was denied an abortion due to her provider's personal beliefs. Globally, 70+ jurisdictions allow for the denial of health services on the basis of \"conscience.\" #Unconscionable #EveryWomanMatters\n",
      "\n",
      "55 For the LAST TIME, being pro-CHOICE does not mean you would get an abortion yourself or that you agree with others getting abortions, it means you support giving everyone the CHOICE to CHOOSE for THEMSELVES\n",
      "\n",
      "56 RT @blackvoices: A new anti-abortion propaganda film tries to paint all abortion providers as criminals, Dr. Willie J. Parker writes. https…\n",
      "\n",
      "57 @ProLifeAll @EWTN But abortion!\n",
      "\n",
      "58 Health workers who refuse to provide abortion services to women who need them, Judges who block access despite the law on the basis of their personal beliefs should not be allowed to do so. They bear none of the consequences.  It's unconscionable. #FIGO2018 #EveryWomanMatters\n",
      "\n",
      "59 The DUP: Any difference between the legal regime in Northern Ireland and Britain will lead to the break-up of the UK.\n",
      "\n",
      "Except on Agriculture.\n",
      "And Animal Welfare.\n",
      "And Employment Law.\n",
      "And Same Sex Marriage.\n",
      "And Abortion.\n",
      "\n",
      "We quite like those. But ANYTHING ELSE IS A BLOOD RED LINE.\n",
      "\n",
      "60 For the LAST TIME, being pro-CHOICE does not mean you would get an abortion yourself or that you agree with others getting abortions, it means you support giving everyone the CHOICE to CHOOSE for THEMSELVES\n",
      "\n",
      "61 TODAY @cathiherrod &amp; @SBAList announce door-to-door canvassing campaign 'to expose @RepSinema's extreme views on abortion.' 1030am newser at Capitol. #AZSEN\n",
      "\n",
      "62 @USCCB @CardinalDolan Please make the Church Great Again, excommunicate arrogant heretical catholic politicians that support abortion/murder.  Please Save the Babies Please step up and enforce Church teaching Please save the babies !! https://t.co/3IfQPxR3Ag\n",
      "\n",
      "63 @thomaslhorrocks @NPWhite717 @matteocarr @Sgonzo88 This is why we are strong on abortion. Because at least there, we can call it murder and look to scripture.\n",
      "\n",
      "But let's be real.... scripture is far less clear on DV. And, in my opinion, Calvinists are lazy and refuse to apply an ethic that isn't explicit in the text.\n",
      "\n",
      "64 WATCH: Senator McCaskill Will \"100%\" Support Abortion, Is \"very pro-choice\" But Doesn't Want to Appear \"too far left to get the moderate voters\" And Conceals Planned Parenthood Contributions FULL REPORT: https://t.co/t8Dp8Ps6lK https://t.co/BrV1yZtTbR\n",
      "\n",
      "65 For the LAST TIME, being pro-CHOICE does not mean you would get an abortion yourself or that you agree with others getting abortions, it means you support giving everyone the CHOICE to CHOOSE for THEMSELVES\n",
      "\n",
      "66 Weird. Canada now has single payer health care, no abortion restrictions, same-sex marriage and legal weed. And their Christians aren't fleeing to America. Must not be all that bad.\n",
      "\n",
      "67 For the LAST TIME, being pro-CHOICE does not mean you would get an abortion yourself or that you agree with others getting abortions, it means you support giving everyone the CHOICE to CHOOSE for THEMSELVES\n",
      "\n",
      "68 Leftists want to end capital punishment - because it doesn't respect the human dignity of LIFE.\n",
      "\n",
      "Why don't they want to end abortion?\n",
      "That's LIFE\n",
      "\n",
      "69 NFL Quarterback Philip Rivers and his wife know their 8 children are a blessing from God. \n",
      "\n",
      "New one-minute commentary from @LifeIssuesUSA \n",
      "\n",
      "https://t.co/UJcm0doxuh #ProLife\n",
      "\n",
      "70 Weird. Canada now has single payer health care, no abortion restrictions, same-sex marriage and legal weed. And their Christians aren't fleeing to America. Must not be all that bad.\n",
      "\n",
      "71 Does anyone know what the Democratic party actually stands for?\n",
      "\n",
      "Besides abortion, gun control, illegal immigration, socialism, and pure hatred of conservatives, there really isn't much else going on.\n",
      "\n",
      "Am I right??\n",
      "\n",
      "72 #Indiana lawmakers are spending your hard earned tax dollars in millions, trying to take away your rights.\n",
      "\n",
      "Is there anyone who is in favor of this?  While the AG and the Speaker of the IN house both have sexual harassment cases pending before them. #VOTE https://t.co/acQISPDbCr\n",
      "\n",
      "73 #Indiana lawmakers are spending your hard earned tax dollars in millions, trying to take away your rights.\n",
      "\n",
      "Is there anyone who is in favor of this?  While the AG and the Speaker of the IN house both have sexual harassment cases pending before them. #VOTE https://t.co/acQISPDbCr\n",
      "\n",
      "74 Don't be ashamed to have an abortion \n",
      "It is legal to have it and you're acting within your rights.\n",
      "Don't let the stigma around abortion force you to go and have back door abortion because you might end up dead and you don't owe anyone any explanation it's your body and your right\n",
      "\n",
      "75 @clintsessentia1 @SocialistVoice @SteMattMurray Right instead they walk out like “damn glad that’s over, now I can go on and keep sleeping around with whoever I want and be back if it happens again. #CloseYourLegs #AbortionIsMurder #Murder #Prolife\n",
      "\n",
      "76 @ProChoiceWA @NARAL @Rossophonic @NatalieBrand @DrKimSchrier @DinoRossiWA Abortion is dangerous and immoral.\n",
      "\n",
      "77 Hi, West Virginians. Can’t believe I have to say this, but:\n",
      "\n",
      "Please. Please. Please. Vote.\n",
      "\n",
      "Vote “NO” on Amendment 1. It’s designed such that, should Roe v. Wade ever be overturned, the state can absolve itself of any responsibility to provide abortion services.\n",
      "\n",
      "78 Don't be ashamed to have an abortion \n",
      "It is legal to have it and you're acting within your rights.\n",
      "Don't let the stigma around abortion force you to go and have back door abortion because you might end up dead and you don't owe anyone any explanation it's your body and your right\n",
      "\n",
      "79 SCOTUS May Consider Down Syndrome Abortion Ban in What Would Be a Pivotal Case for Disability Rights @FDRLST @LaurettaBrown6  https://t.co/DZfTioCy5c\n",
      "\n",
      "80 @davidhogg111 So you're anti-abortion then yes?\n",
      "\n",
      "81 reminder that a contemporary liberal talking to any one of these soldiers would get about two sentences into any conversation about abortion, gays, women, blacks, immigration, flag-burning, anthem-kneeling,etc. before screaming at him for being a racist fascist white supremacist https://t.co/dIZzL93V0l\n",
      "\n",
      "82 Health workers who refuse to provide abortion services to women who need them, Judges who block access despite the law on the basis of their personal beliefs should not be allowed to do so. They bear none of the consequences.  It's unconscionable. #FIGO2018 #EveryWomanMatters\n",
      "\n",
      "83 For the LAST TIME, being pro-CHOICE does not mean you would get an abortion yourself or that you agree with others getting abortions, it means you support giving everyone the CHOICE to CHOOSE for THEMSELVES\n",
      "\n",
      "84 Abortion is murder, plain and simple. https://t.co/h7M0py6UJY via @church_militant\n",
      "\n",
      "85 Professor Files Title IX Complaint After Funding Request Denied For Abortion Debate Because Participants Are Male https://t.co/1qQfRr6DOb\n",
      "\n",
      "86 In Northern Ireland abortion is a crime punishable by life in prison. Women like Emma, who discovered at 20 wks pregnant her baby had a fatal condition, cannot make their own choices. \n",
      "\n",
      "On 23 October, MPs can vote to change this. Email yours now.\n",
      "#nowforNI https://t.co/01PGUf7Xvd https://t.co/gt9GTyyI3r\n",
      "\n",
      "87 Free Beacon: Indiana Takes Abortion Law to Supreme Court https://t.co/AAutjFg9MG\n",
      "\n",
      "88 Does anyone know what the Democratic party actually stands for?\n",
      "\n",
      "Besides abortion, gun control, illegal immigration, socialism, and pure hatred of conservatives, there really isn't much else going on.\n",
      "\n",
      "Am I right??\n",
      "\n",
      "89 Weird. Canada now has single payer health care, no abortion restrictions, same-sex marriage and legal weed. And their Christians aren't fleeing to America. Must not be all that bad.\n",
      "\n",
      "90 In order to be OK with abortion, you also have to be OK with infanticide, @conservmillen argues.\n",
      "\n",
      "\"What changes when they are outside of the womb? They are still a child.\"\n",
      "\n",
      "Watch more ==&gt; https://t.co/f6Lmpu9LhY https://t.co/alcPlwSwhk\n",
      "\n",
      "91 First sentence says it all:\n",
      "\n",
      "IN NY MORE BLACK BABIES ARE ABORTED THAN BORN.\n",
      "\n",
      "Yet, #BlackLivesMatter, @RepMaxineWaters @RepCummings and the @OfficialCBC remain silent. \n",
      "\n",
      "When is the systematic slaughter of black Americans going to end? \n",
      "\n",
      "#TimyLivesAtStake\n",
      "\n",
      "https://t.co/m4Q6ukzCJ1\n",
      "\n",
      "92 For the LAST TIME, being pro-CHOICE does not mean you would get an abortion yourself or that you agree with others getting abortions, it means you support giving everyone the CHOICE to CHOOSE for THEMSELVES\n",
      "\n",
      "93 #Indiana lawmakers are spending your hard earned tax dollars in millions, trying to take away your rights.\n",
      "\n",
      "Is there anyone who is in favor of this?  While the AG and the Speaker of the IN house both have sexual harassment cases pending before them. #VOTE https://t.co/acQISPDbCr\n",
      "\n",
      "94 RT @ElJeasel: How disrespectful to the troops. https://t.co/4CjCT2YvAX\n",
      "\n",
      "95 Professor Files Title IX Complaint After Funding Request Denied For Abortion Debate Because Participants Are Male https://t.co/y2t40KuSCq https://t.co/inqsrO5DvR\n",
      "\n",
      "96 Professor Files Title IX Complaint After Funding Request Denied For Abortion Debate Because Participants Are Male https://t.co/YwvZgiq5ci via The Daily Wire https://t.co/w6KCvJKJeT\n",
      "\n",
      "97 Another day, another Australian state decriminalises abortion to full term. And we're called 'The Lucky Country?' Not so lucky for all those babies who never make it out alive. https://t.co/oQP157GiDJ\n",
      "\n",
      "98 Professor Files Title IX Complaint After Funding Request Denied For Abortion Debate Because Participants Are Male https://t.co/ZkUeeqICTb https://t.co/b847aZ1HSw\n",
      "\n",
      "99 Indiana Takes Abortion Law to Supreme Court https://t.co/1vScA28oxp via @FreeBeacon https://t.co/cvLhknZn0F\n",
      "\n",
      "100 We MUST protect freedom of conscience for doctors and healthcare workers in the new abortion law! Try to make it this evening #AmendTheBill #ConscientiousObjection https://t.co/Bt7zey2Qdm\n",
      "\n",
      "101 First sentence says it all:\n",
      "\n",
      "IN NY MORE BLACK BABIES ARE ABORTED THAN BORN.\n",
      "\n",
      "Yet, #BlackLivesMatter, @RepMaxineWaters @RepCummings and the @OfficialCBC remain silent. \n",
      "\n",
      "When is the systematic slaughter of black Americans going to end? \n",
      "\n",
      "#TimyLivesAtStake\n",
      "\n",
      "https://t.co/m4Q6ukzCJ1\n",
      "\n",
      "102 As science advances (just the other day a 22 week old baby was born and is doing well), where so we draw the line? Is a late term abortion now everything after 22 weeks? Some liberals, say that infanticide should be allowed up until 3 years old.... \n",
      "\n",
      "#TinyLivesAtStake https://t.co/gI427n1yIT\n",
      "\n",
      "103 Does anyone know what the Democratic party actually stands for?\n",
      "\n",
      "Besides abortion, gun control, illegal immigration, socialism, and pure hatred of conservatives, there really isn't much else going on.\n",
      "\n",
      "Am I right??\n",
      "\n",
      "104 I think it’s sad that people think of reproductive rights as ONLY abortion. If you don’t believe in abortion, great, don’t get one. But basing a vote on that only also stops prenatal care, birth control, and female health exams. #votesmart\n",
      "\n",
      "105 Does anyone know what the Democratic party actually stands for?\n",
      "\n",
      "Besides abortion, gun control, illegal immigration, socialism, and pure hatred of conservatives, there really isn't much else going on.\n",
      "\n",
      "Am I right??\n",
      "\n",
      "106 Facts matter.  Beto’s lies today:\n",
      "\n",
      "👎🏻 30K people die p/year from “gun violence.”  He’s including the 20k from suicide. \n",
      "👎🏻His mom is a lifelong republican. She corrected him, last 15 of 17 elections-Voted DEM!\n",
      "👎🏻 Medicaid funding abortion (Hyde Amend. prohibits it) \n",
      " #TexasDebate\n",
      "\n",
      "107 For the LAST TIME, being pro-CHOICE does not mean you would get an abortion yourself or that you agree with others getting abortions, it means you support giving everyone the CHOICE to CHOOSE for THEMSELVES\n",
      "\n",
      "108 Does anyone know what the Democratic party actually stands for?\n",
      "\n",
      "Besides abortion, gun control, illegal immigration, socialism, and pure hatred of conservatives, there really isn't much else going on.\n",
      "\n",
      "Am I right??\n",
      "\n",
      "109 @ReneeCarrollAZ I will never forget the first time I saw a heart beat inside of me. It was a miracle, it was just before six weeks, and I knew what was true and right at that very moment‼️\n",
      "\n",
      "People who believe in abortion should NOT have children‼️\n",
      "\n",
      "110 Did you\"  pray \" before you slandered Mark Sanford in your sickening TV campaign ads or before SC for Equality endorsed you @karringtonsc ? I bet NOT https://t.co/iLqN01GVsR\n",
      "\n",
      "111 Does anyone know what the Democratic party actually stands for?\n",
      "\n",
      "Besides abortion, gun control, illegal immigration, socialism, and pure hatred of conservatives, there really isn't much else going on.\n",
      "\n",
      "Am I right??\n",
      "\n",
      "112 Does anyone know what the Democratic party actually stands for?\n",
      "\n",
      "Besides abortion, gun control, illegal immigration, socialism, and pure hatred of conservatives, there really isn't much else going on.\n",
      "\n",
      "Am I right??\n",
      "\n",
      "113 #Indiana lawmakers are spending your hard earned tax dollars in millions, trying to take away your rights.\n",
      "\n",
      "Is there anyone who is in favor of this?  While the AG and the Speaker of the IN house both have sexual harassment cases pending before them. #VOTE https://t.co/acQISPDbCr\n",
      "\n",
      "114 @ACTBrigitte They also are silent about the “gendercide” of girl babies though sex selective abortions in places like China and India. Girl babies are disproportionately more likely to be killed by abortion across the globe yet they call it “women’s rights”.\n",
      "\n",
      "115 #TODAY is the feast day of St. Gerard Majella, patron saint of pregnant women. Here's a novena asking for his intercession: https://t.co/L9rsuBNCsD #EWTN #Catholic #prolife #prowoman #prayforus https://t.co/ozHRSvXlqc\n",
      "\n",
      "116 For the LAST TIME, being pro-CHOICE does not mean you would get an abortion yourself or that you agree with others getting abortions, it means you support giving everyone the CHOICE to CHOOSE for THEMSELVES\n",
      "\n",
      "117 For the LAST TIME, being pro-CHOICE does not mean you would get an abortion yourself or that you agree with others getting abortions, it means you support giving everyone the CHOICE to CHOOSE for THEMSELVES\n",
      "\n",
      "118 RT @CPheagin: Abortion is murder. \n",
      "There's no way around that fact and it should be illegal. \n",
      "#MAGA #WednesdayWisdom https://t.co/ndx4AjhsPd\n",
      "\n",
      "119 This is the legislation @TonyAvella &amp; IDC blocked, and which @Paladino4Senate will likely oppose. We need to elect @LiuNewYork, NYSD11!\n",
      "\n",
      "120 .@jaydeeptank welcomes 10 of our member societies to meet to discuss next steps in our Safe Abortion project https://t.co/bSddYMPgyH https://t.co/KTQMIOXRQJ\n",
      "\n",
      "121 #Queensland parliament has voted to legalise abortion. Loud cheers in the legislative assembly chamber brought to an end a 50-year struggle by women’s groups in the #Australian state once notorious for its conservatism. https://t.co/dyUFNtWrm9\n",
      "\n",
      "122 My heart grieves for the unborn children of Queensland, as now there will not be any laws to safeguard their lives. #Catholic #Christian #ProLife #bothlivesmatter\n",
      "\n",
      "123 @theamityvivian I’m just tired of abortion as a scare tactic. Women have sex. Men have sex. Sex shouldn’t be something women are terrified of. I was on BC and used protection when I got pregnant with my oldest. People are just dumb.\n",
      "\n",
      "124 RT @frfrankpavone: Stop forcing your immoral beliefs on your babies body! #UnbornLivesMatter ! #prolife https://t.co/T3hp3aU7Bz\n",
      "\n",
      "125 Queensland parliament votes to legalise abortion #Women'sRightToChoose #ProChoice #AbortionRights https://t.co/AIytC2bSiH\n",
      "\n",
      "126 Abortion will become legal until 22 weeks gestation, and thereafter with the approval of two doctors. Safe access zones will restrict protesters and people who harass women from coming with 150m of abortion clinics. https://t.co/EXTpjhSt9X\n",
      "\n",
      "127 For the LAST TIME, being pro-CHOICE does not mean you would get an abortion yourself or that you agree with others getting abortions, it means you support giving everyone the CHOICE to CHOOSE for THEMSELVES\n",
      "\n",
      "128 RT @TSMJ1962: SCOTUS May Consider Down Syndrome Abortion Ban in What Would Be a Pivotal Case for Disability Rights  https://t.co/K6npIlFkVN\n",
      "\n",
      "129 Does anyone know what the Democratic party actually stands for?\n",
      "\n",
      "Besides abortion, gun control, illegal immigration, socialism, and pure hatred of conservatives, there really isn't much else going on.\n",
      "\n",
      "Am I right??\n",
      "\n",
      "130 RT @FFRF: Kuddos, Queensland and the activists who organized and fought for this historic victory 👏👏👏 https://t.co/ifhjH7fX0B\n",
      "\n",
      "131 I'm not an enthusiastic Republican, but Democrats' hatred of their own defending human life means I won't change parties anytime soon. cc @CCamosy https://t.co/diMPV8yzlY\n",
      "\n",
      "132 Facts matter.  Beto’s lies today:\n",
      "\n",
      "👎🏻 30K people die p/year from “gun violence.”  He’s including the 20k from suicide. \n",
      "👎🏻His mom is a lifelong republican. She corrected him, last 15 of 17 elections-Voted DEM!\n",
      "👎🏻 Medicaid funding abortion (Hyde Amend. prohibits it) \n",
      " #TexasDebate\n",
      "\n",
      "133 The Bill (Section 11) currently allows for abortion up until birth despite Minister Harris's promises.  This is barbaric #unjustbill #AmendtheBill https://t.co/XXvBIQ38Lp\n",
      "\n",
      "134 Some information about how medical abortion pills will be prescribed by GPs under the new legislation: https://t.co/mUJSCQiHhT #legisl8\n",
      "\n",
      "135 SCOTUS may not have your back, but we always will. Check out our database to keep up the fight to #ExposeFakeClinics &amp; #EndTheLies pushed by anti-abortion fake clinics. https://t.co/S8KFbv8Slh\n",
      "\n",
      "136 Congratulations to the women of #Queensland for this momentous victory! Every woman around the 🌏 deserves access to healthcare, and that includes safe and legal #abortion. \n",
      "https://t.co/ZyyjgWd1Ly\n",
      "\n",
      "137 Here’s how YOU can help legalise abortion in Northern Ireland – and it only takes a few minutes @emilyrbakes https://t.co/5hvXCBxlwI https://t.co/OpvcO3s1nB\n",
      "\n",
      "138 #Indiana lawmakers are spending your hard earned tax dollars in millions, trying to take away your rights.\n",
      "\n",
      "Is there anyone who is in favor of this?  While the AG and the Speaker of the IN house both have sexual harassment cases pending before them. #VOTE https://t.co/acQISPDbCr\n",
      "\n",
      "139 Abortion will be legalized in Queensland, after lawmakers in the Australian state overturned 19th-century legislation banning the procedure https://t.co/xd2ySOmMqL https://t.co/2v19Un5Lx5\n",
      "\n",
      "140 @JohnDCarlson moderated a great panel last night w/@sullivanamy, @DouthatNYT, &amp; @kathrynlopez as they discussed religion in the civic sphere. Topics included abortion, women's vote, partisan divisions, &amp; so much more. Thanks @ASU_SCETL for putting on a great event! #ASUHumanities https://t.co/Ko9QBzxW7A\n",
      "\n",
      "141 @HeidiM_67 @tcsorr @VahJJDentata @PPact @DrLeanaWen Better alternative for everyone. All the evidence shows that abortion, while giving a false sense of relief short term, actually messes up women's lives.\n",
      "\n",
      "142 This message from Pope Francis about abortions is a bit ignorant. Protect Roe v Wade SCOTUS. Must televise @Scotus @cspan @CNN\n",
      "\n",
      "143 Does anyone know what the Democratic party actually stands for?\n",
      "\n",
      "Besides abortion, gun control, illegal immigration, socialism, and pure hatred of conservatives, there really isn't much else going on.\n",
      "\n",
      "Am I right??\n",
      "\n",
      "144 “The baby was too young to be viable — 21 weeks. I couldn’t just let him die. I took to the baby to the neonatal intensive unit...He survived until the next day and then died.”\n",
      "\n",
      "Ron Bryce explains how the death of an abortion survivor changed his life.  https://t.co/B6H1R2qOhE\n",
      "\n",
      "145 A new anti-abortion propaganda film tries to paint all abortion providers as criminals, Dr. Willie J. Parker writes. https://t.co/GR4Vrd0Gsf\n",
      "\n",
      "146 For the LAST TIME, being pro-CHOICE does not mean you would get an abortion yourself or that you agree with others getting abortions, it means you support giving everyone the CHOICE to CHOOSE for THEMSELVES\n",
      "\n",
      "147 On 23 October @DianaJohnsonMP will bring in a bill to decriminalise consensual abortion up to 24 weeks in England, Wales and Northern Ireland\n",
      "\n",
      "Will you ask your MP to stand with her and vote for change? Email yours now - https://t.co/pfOmnX3Zo1 via @bpas1968 #nowforNI https://t.co/hpSQNPZoFv\n",
      "\n",
      "148 Professor Files Title IX Complaint After Funding Request Denied For Abortion Debate Because Participants Are Male https://t.co/59bmhlbJy9\n",
      "\n",
      "149 London mayoral candidate Shaun Bailey faces fresh wave of criticism over teenage pregnancy remarks\n",
      "\n",
      "He said that the act of giving young people access to condoms and abortion services normalises sex and pushes them towards a life of crime\n",
      "\n",
      "#BackBailey\n",
      "\n",
      "https://t.co/f1L4K5zEsw\n",
      "\n",
      "150 BREAKING: Queensland, Australia has decriminalized most abortions, creates a 150m buffer zone preventing people from harassing patients obtaining care, &amp; requires medical providers unwilling to provide abortion care to refer patients to another provider. https://t.co/pI84rgXeap\n",
      "\n",
      "151 RT @BUNNYH00D: Not sleeping with people you don’t like &gt;&gt;&gt;&gt;&gt;&gt;&gt;&gt;&gt;&gt;&gt;&gt; https://t.co/5FybU86Oct\n",
      "\n",
      "152 RT @BruvverEccles: The modern equivalent of Sodom and Gomorrah. But you knew that. https://t.co/DqvVrX3Ckq\n",
      "\n",
      "153 RT @workbench59: @mike98079518 I could never cast a vote for a pro abortion candidate https://t.co/YADf38CldR\n",
      "\n",
      "154 .@gop and .@realdonaldTrump continue giving $500 mil of US tax payer dollars to PP.\n",
      "\n",
      "Right or wrong, Atleast Hollywood is giving their own money.. https://t.co/rVzjke8Pj3\n",
      "\n",
      "155 @Midgespeaks Gosnell: The Serial Killer the Media Ignore - American Thinker - #Gosnell #UnbornLivesMatter #AbortionIsMurder #abortion #prolife #DefundPlannedParenthood #defundpp #GosnellMovie https://t.co/x6p8ofw8rb https://t.co/nE5SDnNb4e\n",
      "\n",
      "156 As science advances (just the other day a 22 week old baby was born and is doing well), where so we draw the line? Is a late term abortion now everything after 22 weeks? Some liberals, say that infanticide should be allowed up until 3 years old.... \n",
      "\n",
      "#TinyLivesAtStake https://t.co/gI427n1yIT\n",
      "\n",
      "157 RT @CPheagin: Abortion is murder. \n",
      "There's no way around that fact and it should be illegal. \n",
      "#MAGA #WednesdayWisdom https://t.co/ndx4AjhsPd\n",
      "\n",
      "158 Leftists want to end capital punishment - because it doesn't respect the human dignity of LIFE.\n",
      "\n",
      "Why don't they want to end abortion?\n",
      "That's LIFE\n",
      "\n",
      "159 @MAL___ @JoeBuddenPod Joe expose the I want you to have an abortion texts from DRAKE tmz posted A YEAR B4 PUSH DISS\n",
      "\n",
      "https://t.co/xKD7OdAm8q https://t.co/iv9xHOlI76\n",
      "\n",
      "160 @clairecmc lies about how they get money from @PPFA to hide it from #ProLife Democrats #Missouri #MOSen #TinyLivesAtStake #JeremiahsLaw #AbortionIsMurder #DefundPP #DefundPlannedParenthood #AbortionIsMurder #OverturnRoeVsWade #AmericanHolocaust #VoteRedToSaveAmerica #VoteRed2018 https://t.co/8v9TEBOwRv\n",
      "\n",
      "161 RT @LifeNewsHQ: Hollywood Gives Nearly $40 Million to Pro-Abortion Candidates https://t.co/dmkfDD0laf https://t.co/XoRhPvZO0Y\n",
      "\n",
      "162 For the LAST TIME, being pro-CHOICE does not mean you would get an abortion yourself or that you agree with others getting abortions, it means you support giving everyone the CHOICE to CHOOSE for THEMSELVES\n",
      "\n",
      "163 TODAY @cathiherrod &amp; @SBAList announce door-to-door canvassing campaign 'to expose @RepSinema's extreme views on abortion.' 1030am newser at Capitol. #AZSEN\n",
      "\n",
      "164 Weird. Canada now has single payer health care, no abortion restrictions, same-sex marriage and legal weed. And their Christians aren't fleeing to America. Must not be all that bad.\n",
      "\n",
      "165 @mogabee3 @taylordauthor @WingsScotland @gregmoodie The Catholic church and the Orange Order are on the same page when it comes to abortion, gay marriage and the like, they could buddy up\n",
      "\n",
      "166 GREAT NEWS: Only one abortion facility remains in Missouri! \n",
      "\n",
      "Missouri is among several states, including Kentucky and Mississippi, that could soon be abortion-free. Let's continue to ensure that every child in every state is protected. https://t.co/gEYUXWzHYQ\n",
      "\n",
      "167 7 in 10 Yes voters support #Conscience rights, #ConscientiousObjection according to this Amárach Opinion Poll.\n",
      "\n",
      "#AmendtheBill #Abortion #SimonHarris #Government https://t.co/n5kSQBPh5A\n",
      "\n",
      "168 you be mindin ya business and ya ting come out of nowhere like ‘guess which one of my friends got an abortion’ lmao women be wild wit the extra info\n",
      "\n",
      "169 A Queensland law making abortion illegal has been challenged for decades. This week’s vote could be different: Women are driving the debate. The New York Time https://t.co/vkilfxMOGT\n",
      "\n",
      "170 @Robillard @billpostmus Oddly many Jewish &amp; Catholic’s are in name only - support abortion &amp; gender twisted identity policies in disregard of their textual scriptures forbidding such - therefore it also influences other policies\n",
      "\n",
      "171 Ohio women need to know their reproductive rights are on the ballot this year. Yet @MikeDeWine is way too extreme on this issue, leaving no exception for rape or incest. One-party rule in Ohio and Washington would only embolden his anti-choice policies. https://t.co/o84WU5QiUm\n",
      "\n",
      "172 RT @BUNNYH00D: Not sleeping with people you don’t like &gt;&gt;&gt;&gt;&gt;&gt;&gt;&gt;&gt;&gt;&gt;&gt; https://t.co/5FybU86Oct\n",
      "\n",
      "173 This isn't empowering women, @Oprah, it's murdering them. ---&gt; @Oprah Promotes “Shout Your Abortion” Movement Where Women Brag About Their Abortions https://t.co/U9EvALM8Ql @O_Magazine #prolife\n",
      "\n",
      "174 \"How many of us think of consulting an OB-GYN for an abortion? For most women and girls, popping that infamous abortion pill seems so much easier and so very confidential.\"\n",
      "\n",
      "#MyBodyMyChoice @GHS @myright_2choice \n",
      "https://t.co/lRUFm2ODaz\n",
      "\n",
      "175 As science advances (just the other day a 22 week old baby was born and is doing well), where so we draw the line? Is a late term abortion now everything after 22 weeks? Some liberals, say that infanticide should be allowed up until 3 years old.... \n",
      "\n",
      "#TinyLivesAtStake https://t.co/gI427n1yIT\n",
      "\n",
      "176 President Trump Names Two Pro-Life Advocates as Federal Judges, Abortion Activists Go Nuts!\n",
      "\n",
      "#TinyLivesAtStake\n",
      "#ProLife🙏🏼\n",
      "#ChooseLife\n",
      "#DefundPP\n",
      "#ReverseROEvsWADE\n",
      "\n",
      "https://t.co/vXu3sifmgv\n",
      "\n",
      "177 There’s A Baby In My Stomach…Should I Kill It?\n",
      "\n",
      "\"The lies white women tell Black women about...abortion\"...\n",
      "\n",
      "Kindle Price:\n",
      "\n",
      "$9.99\n",
      "\n",
      "https://t.co/rqsZPqL2Y7\n",
      "\n",
      "#BlackTwitter Groups\n",
      "Books Book Clubs\n",
      "\n",
      "BHC's Black Wall Street Businesses Network\n",
      "\n",
      "Black People Making\n",
      "#BlackLivesMatter\n",
      "\n",
      "178 #Queensland parliament has voted to legalise abortion. Loud cheers in the legislative assembly chamber brought to an end a 50-year struggle by women’s groups in the #Australian state once notorious for its conservatism. https://t.co/dyUFNtWrm9\n",
      "\n",
      "179 So a fetus is not a baby but Meghan Markle has a #BabyBump and she’s carrying the #RoyalBaby? Shouldn’t we call it a #ClumpOfCellsBump and #RoyalProductOfConception? Human life begins at conception #royal or not. #Abortion is murder! #MondayMotivation #maga #Deplorables #prolife\n",
      "\n",
      "180 First sentence says it all:\n",
      "\n",
      "IN NY MORE BLACK BABIES ARE ABORTED THAN BORN.\n",
      "\n",
      "Yet, #BlackLivesMatter, @RepMaxineWaters @RepCummings and the @OfficialCBC remain silent. \n",
      "\n",
      "When is the systematic slaughter of black Americans going to end? \n",
      "\n",
      "#TimyLivesAtStake\n",
      "\n",
      "https://t.co/m4Q6ukzCJ1\n",
      "\n",
      "181 “The baby was too young to be viable — 21 weeks. I couldn’t just let him die. I took to the baby to the neonatal intensive unit...He survived until the next day and then died.”\n",
      "\n",
      "Ron Bryce explains how the death of an abortion survivor changed his life.  https://t.co/B6H1R2qOhE\n",
      "\n",
      "182 Jesus people are telling everyone in line at Canada's first weed shop that they're all going to hell..\n",
      "\n",
      "I didn't know weed was the gateway drug to abortion\n",
      "\n",
      "🙄\n",
      "\n",
      "183 @Black_Dana00 @RikkiJacobsen @AbdikadirGeddi @CNN FYI - Having an abortion when you're not ready to have a child IS being responsible.\n",
      "\n",
      "184 @TylerPa43220293 @prscountryheart @Education4Libs Last time he ran for president he was pro choice... if you think he really gives two craps about this topic, you are sadly mistaken. \n",
      "\n",
      "https://t.co/r6JwU2RBGR\n",
      "\n",
      "185 When I sat in the trial of #Gosnell I was literally nauseated by the horrors I saw and heard about. This serial killer seemed to enjoy hearing about the way he murdered children. Go see the @GosnellMovie and see what the #Abortion industry is truly like. #gosnellmovie #maga\n",
      "\n",
      "186 Also mentions the self-deception involved in the #Repealthe8th referendum here in Ireland. The dishonesty of the abortion debate https://t.co/P6KDLl1ZX5 #FightOnLoveBoth #Dáil #ConscientiousObjection\n",
      "\n",
      "187 RT @theelectwoman08: This is an awful, wack ass tweet. https://t.co/xG8DkqFLky\n",
      "\n",
      "188 Gosnell: The Movie should be watched by everyone. Gosnell killed 7 babies who were alive &amp; severed their spinal chords with scissors. A Woman also died during a botched Abortion. Gosnell didn’t follow the law &amp; killed babies after 24 wks!😢 \n",
      "https://t.co/jahWMUqF5R via @washtimes\n",
      "\n",
      "189 🚨MI - VOTE for @JohnJamesMI🚨\n",
      "\n",
      "▶️Combat Vet, decorated 3 times 4 his svc in Iraq.\n",
      "▶️Added 100's of jobs to his business.\n",
      "▶️Conservative, family man that supports Trump's agenda. \n",
      "▶️Supports anti-abortion, pro-gun, &amp; closed borders.\n",
      "▶️Endorsed by @realDonaldTrump \n",
      "\n",
      "#LetsFlyMI\n",
      "\n",
      "190 \"Among the worst details of the testimony was Gosnell’s joke that one  baby he aborted was “big enough” to “walk me to the bus stop.”\" @KSPrior on the Gosnell move https://t.co/aKGEKWoQfh\n",
      "\n",
      "191 Weird. Canada now has single payer health care, no abortion restrictions, same-sex marriage and legal weed. And their Christians aren't fleeing to America. Must not be all that bad.\n",
      "\n",
      "192 Dale Jackson's 7 Things: Ivey and Maddox clash on abortion, Alabama candidates load up on cash for the final stretch, “Horseface” and “Tiny”, and more … \n",
      "By @TheDaleJackson https://t.co/kNLr8Cj7Iq\n",
      "\n",
      "193 Ah! They tell me tomorrow 28th Sept is “International Safe Abortion Day”.\n",
      "So I invite you all to tweet to tell them #AbortionIsNeverSafe .\n",
      "Yes,wether it’s done in a back alley or in an air-conditioned backroom in PlannedParenthood, Abortion is never safe.https://t.co/MxFT7plaa4\n",
      "\n",
      "194 RT @freesafelegal: Some information about how medical abortion pills will be prescribed by GPs under the new legislation: https://t.co/mUJS…\n",
      "\n",
      "195 London mayoral candidate Shaun Bailey faces fresh wave of criticism over teenage pregnancy remarks\n",
      "\n",
      "He said that the act of giving young people access to condoms and abortion services normalises sex and pushes them towards a life of crime\n",
      "\n",
      "#BackBailey\n",
      "\n",
      "https://t.co/f1L4K5zEsw\n",
      "\n",
      "196 RT @blackvoices: A new anti-abortion propaganda film tries to paint all abortion providers as criminals, Dr. Willie J. Parker writes. https…\n",
      "\n",
      "197 Congratulations to the women of #Queensland for this momentous victory! Every woman around the 🌏 deserves access to healthcare, and that includes safe and legal #abortion. \n",
      "https://t.co/ZyyjgWd1Ly\n",
      "\n",
      "198 Weird. Canada now has single payer health care, no abortion restrictions, same-sex marriage and legal weed. And their Christians aren't fleeing to America. Must not be all that bad.\n",
      "\n",
      "199 Reminder to self: Obama is the EVIL Anti-Messiah, the \"polite\" devil lurking in the shadows.\n",
      "Abortion CEO: My proudest moment is forcing Christians to pay for Abortion Drugs (CORT RU486 Dr Christine Blasey Ford). Jubilant when Obama personally calls... https://t.co/SS1Ozt6tCW\n",
      "\n"
     ]
    }
   ],
   "source": [
    "count = 0\n",
    "for x in featuresFull[400:600]:\n",
    "    print(count, x)\n",
    "    print()\n",
    "    count = count + 1"
   ]
  },
  {
   "cell_type": "code",
   "execution_count": 16,
   "metadata": {
    "collapsed": true
   },
   "outputs": [],
   "source": [
    "features5 = featuresExtraction(\"../Data/secondTwitterDataFull2.json\")"
   ]
  },
  {
   "cell_type": "code",
   "execution_count": 17,
   "metadata": {},
   "outputs": [
    {
     "data": {
      "text/plain": [
       "5080"
      ]
     },
     "execution_count": 17,
     "metadata": {},
     "output_type": "execute_result"
    }
   ],
   "source": [
    "len(features5)"
   ]
  },
  {
   "cell_type": "code",
   "execution_count": 85,
   "metadata": {},
   "outputs": [
    {
     "ename": "ValueError",
     "evalue": "Target is multiclass but average='binary'. Please choose another average setting.",
     "output_type": "error",
     "traceback": [
      "\u001b[1;31m---------------------------------------------------------------------------\u001b[0m",
      "\u001b[1;31mValueError\u001b[0m                                Traceback (most recent call last)",
      "\u001b[1;32m<ipython-input-85-dcb9832adbfe>\u001b[0m in \u001b[0;36m<module>\u001b[1;34m()\u001b[0m\n\u001b[1;32m----> 1\u001b[1;33m \u001b[0mval\u001b[0m \u001b[1;33m=\u001b[0m \u001b[0mcross_validate\u001b[0m\u001b[1;33m(\u001b[0m\u001b[0mclf\u001b[0m\u001b[1;33m,\u001b[0m \u001b[0mX1\u001b[0m\u001b[1;33m,\u001b[0m \u001b[0my\u001b[0m\u001b[1;33m,\u001b[0m \u001b[0mscoring\u001b[0m \u001b[1;33m=\u001b[0m \u001b[1;33m[\u001b[0m\u001b[1;34m'accuracy'\u001b[0m\u001b[1;33m,\u001b[0m \u001b[1;34m'precision'\u001b[0m\u001b[1;33m]\u001b[0m\u001b[1;33m,\u001b[0m \u001b[0mcv\u001b[0m\u001b[1;33m=\u001b[0m\u001b[1;36m10\u001b[0m\u001b[1;33m)\u001b[0m\u001b[1;33m\u001b[0m\u001b[0m\n\u001b[0m",
      "\u001b[1;32mC:\\ProgramData\\Anaconda3\\lib\\site-packages\\sklearn\\model_selection\\_validation.py\u001b[0m in \u001b[0;36mcross_validate\u001b[1;34m(estimator, X, y, groups, scoring, cv, n_jobs, verbose, fit_params, pre_dispatch, return_train_score)\u001b[0m\n\u001b[0;32m    204\u001b[0m             \u001b[0mfit_params\u001b[0m\u001b[1;33m,\u001b[0m \u001b[0mreturn_train_score\u001b[0m\u001b[1;33m=\u001b[0m\u001b[0mreturn_train_score\u001b[0m\u001b[1;33m,\u001b[0m\u001b[1;33m\u001b[0m\u001b[0m\n\u001b[0;32m    205\u001b[0m             return_times=True)\n\u001b[1;32m--> 206\u001b[1;33m         for train, test in cv.split(X, y, groups))\n\u001b[0m\u001b[0;32m    207\u001b[0m \u001b[1;33m\u001b[0m\u001b[0m\n\u001b[0;32m    208\u001b[0m     \u001b[1;32mif\u001b[0m \u001b[0mreturn_train_score\u001b[0m\u001b[1;33m:\u001b[0m\u001b[1;33m\u001b[0m\u001b[0m\n",
      "\u001b[1;32mC:\\ProgramData\\Anaconda3\\lib\\site-packages\\sklearn\\externals\\joblib\\parallel.py\u001b[0m in \u001b[0;36m__call__\u001b[1;34m(self, iterable)\u001b[0m\n\u001b[0;32m    777\u001b[0m             \u001b[1;31m# was dispatched. In particular this covers the edge\u001b[0m\u001b[1;33m\u001b[0m\u001b[1;33m\u001b[0m\u001b[0m\n\u001b[0;32m    778\u001b[0m             \u001b[1;31m# case of Parallel used with an exhausted iterator.\u001b[0m\u001b[1;33m\u001b[0m\u001b[1;33m\u001b[0m\u001b[0m\n\u001b[1;32m--> 779\u001b[1;33m             \u001b[1;32mwhile\u001b[0m \u001b[0mself\u001b[0m\u001b[1;33m.\u001b[0m\u001b[0mdispatch_one_batch\u001b[0m\u001b[1;33m(\u001b[0m\u001b[0miterator\u001b[0m\u001b[1;33m)\u001b[0m\u001b[1;33m:\u001b[0m\u001b[1;33m\u001b[0m\u001b[0m\n\u001b[0m\u001b[0;32m    780\u001b[0m                 \u001b[0mself\u001b[0m\u001b[1;33m.\u001b[0m\u001b[0m_iterating\u001b[0m \u001b[1;33m=\u001b[0m \u001b[1;32mTrue\u001b[0m\u001b[1;33m\u001b[0m\u001b[0m\n\u001b[0;32m    781\u001b[0m             \u001b[1;32melse\u001b[0m\u001b[1;33m:\u001b[0m\u001b[1;33m\u001b[0m\u001b[0m\n",
      "\u001b[1;32mC:\\ProgramData\\Anaconda3\\lib\\site-packages\\sklearn\\externals\\joblib\\parallel.py\u001b[0m in \u001b[0;36mdispatch_one_batch\u001b[1;34m(self, iterator)\u001b[0m\n\u001b[0;32m    623\u001b[0m                 \u001b[1;32mreturn\u001b[0m \u001b[1;32mFalse\u001b[0m\u001b[1;33m\u001b[0m\u001b[0m\n\u001b[0;32m    624\u001b[0m             \u001b[1;32melse\u001b[0m\u001b[1;33m:\u001b[0m\u001b[1;33m\u001b[0m\u001b[0m\n\u001b[1;32m--> 625\u001b[1;33m                 \u001b[0mself\u001b[0m\u001b[1;33m.\u001b[0m\u001b[0m_dispatch\u001b[0m\u001b[1;33m(\u001b[0m\u001b[0mtasks\u001b[0m\u001b[1;33m)\u001b[0m\u001b[1;33m\u001b[0m\u001b[0m\n\u001b[0m\u001b[0;32m    626\u001b[0m                 \u001b[1;32mreturn\u001b[0m \u001b[1;32mTrue\u001b[0m\u001b[1;33m\u001b[0m\u001b[0m\n\u001b[0;32m    627\u001b[0m \u001b[1;33m\u001b[0m\u001b[0m\n",
      "\u001b[1;32mC:\\ProgramData\\Anaconda3\\lib\\site-packages\\sklearn\\externals\\joblib\\parallel.py\u001b[0m in \u001b[0;36m_dispatch\u001b[1;34m(self, batch)\u001b[0m\n\u001b[0;32m    586\u001b[0m         \u001b[0mdispatch_timestamp\u001b[0m \u001b[1;33m=\u001b[0m \u001b[0mtime\u001b[0m\u001b[1;33m.\u001b[0m\u001b[0mtime\u001b[0m\u001b[1;33m(\u001b[0m\u001b[1;33m)\u001b[0m\u001b[1;33m\u001b[0m\u001b[0m\n\u001b[0;32m    587\u001b[0m         \u001b[0mcb\u001b[0m \u001b[1;33m=\u001b[0m \u001b[0mBatchCompletionCallBack\u001b[0m\u001b[1;33m(\u001b[0m\u001b[0mdispatch_timestamp\u001b[0m\u001b[1;33m,\u001b[0m \u001b[0mlen\u001b[0m\u001b[1;33m(\u001b[0m\u001b[0mbatch\u001b[0m\u001b[1;33m)\u001b[0m\u001b[1;33m,\u001b[0m \u001b[0mself\u001b[0m\u001b[1;33m)\u001b[0m\u001b[1;33m\u001b[0m\u001b[0m\n\u001b[1;32m--> 588\u001b[1;33m         \u001b[0mjob\u001b[0m \u001b[1;33m=\u001b[0m \u001b[0mself\u001b[0m\u001b[1;33m.\u001b[0m\u001b[0m_backend\u001b[0m\u001b[1;33m.\u001b[0m\u001b[0mapply_async\u001b[0m\u001b[1;33m(\u001b[0m\u001b[0mbatch\u001b[0m\u001b[1;33m,\u001b[0m \u001b[0mcallback\u001b[0m\u001b[1;33m=\u001b[0m\u001b[0mcb\u001b[0m\u001b[1;33m)\u001b[0m\u001b[1;33m\u001b[0m\u001b[0m\n\u001b[0m\u001b[0;32m    589\u001b[0m         \u001b[0mself\u001b[0m\u001b[1;33m.\u001b[0m\u001b[0m_jobs\u001b[0m\u001b[1;33m.\u001b[0m\u001b[0mappend\u001b[0m\u001b[1;33m(\u001b[0m\u001b[0mjob\u001b[0m\u001b[1;33m)\u001b[0m\u001b[1;33m\u001b[0m\u001b[0m\n\u001b[0;32m    590\u001b[0m \u001b[1;33m\u001b[0m\u001b[0m\n",
      "\u001b[1;32mC:\\ProgramData\\Anaconda3\\lib\\site-packages\\sklearn\\externals\\joblib\\_parallel_backends.py\u001b[0m in \u001b[0;36mapply_async\u001b[1;34m(self, func, callback)\u001b[0m\n\u001b[0;32m    109\u001b[0m     \u001b[1;32mdef\u001b[0m \u001b[0mapply_async\u001b[0m\u001b[1;33m(\u001b[0m\u001b[0mself\u001b[0m\u001b[1;33m,\u001b[0m \u001b[0mfunc\u001b[0m\u001b[1;33m,\u001b[0m \u001b[0mcallback\u001b[0m\u001b[1;33m=\u001b[0m\u001b[1;32mNone\u001b[0m\u001b[1;33m)\u001b[0m\u001b[1;33m:\u001b[0m\u001b[1;33m\u001b[0m\u001b[0m\n\u001b[0;32m    110\u001b[0m         \u001b[1;34m\"\"\"Schedule a func to be run\"\"\"\u001b[0m\u001b[1;33m\u001b[0m\u001b[0m\n\u001b[1;32m--> 111\u001b[1;33m         \u001b[0mresult\u001b[0m \u001b[1;33m=\u001b[0m \u001b[0mImmediateResult\u001b[0m\u001b[1;33m(\u001b[0m\u001b[0mfunc\u001b[0m\u001b[1;33m)\u001b[0m\u001b[1;33m\u001b[0m\u001b[0m\n\u001b[0m\u001b[0;32m    112\u001b[0m         \u001b[1;32mif\u001b[0m \u001b[0mcallback\u001b[0m\u001b[1;33m:\u001b[0m\u001b[1;33m\u001b[0m\u001b[0m\n\u001b[0;32m    113\u001b[0m             \u001b[0mcallback\u001b[0m\u001b[1;33m(\u001b[0m\u001b[0mresult\u001b[0m\u001b[1;33m)\u001b[0m\u001b[1;33m\u001b[0m\u001b[0m\n",
      "\u001b[1;32mC:\\ProgramData\\Anaconda3\\lib\\site-packages\\sklearn\\externals\\joblib\\_parallel_backends.py\u001b[0m in \u001b[0;36m__init__\u001b[1;34m(self, batch)\u001b[0m\n\u001b[0;32m    330\u001b[0m         \u001b[1;31m# Don't delay the application, to avoid keeping the input\u001b[0m\u001b[1;33m\u001b[0m\u001b[1;33m\u001b[0m\u001b[0m\n\u001b[0;32m    331\u001b[0m         \u001b[1;31m# arguments in memory\u001b[0m\u001b[1;33m\u001b[0m\u001b[1;33m\u001b[0m\u001b[0m\n\u001b[1;32m--> 332\u001b[1;33m         \u001b[0mself\u001b[0m\u001b[1;33m.\u001b[0m\u001b[0mresults\u001b[0m \u001b[1;33m=\u001b[0m \u001b[0mbatch\u001b[0m\u001b[1;33m(\u001b[0m\u001b[1;33m)\u001b[0m\u001b[1;33m\u001b[0m\u001b[0m\n\u001b[0m\u001b[0;32m    333\u001b[0m \u001b[1;33m\u001b[0m\u001b[0m\n\u001b[0;32m    334\u001b[0m     \u001b[1;32mdef\u001b[0m \u001b[0mget\u001b[0m\u001b[1;33m(\u001b[0m\u001b[0mself\u001b[0m\u001b[1;33m)\u001b[0m\u001b[1;33m:\u001b[0m\u001b[1;33m\u001b[0m\u001b[0m\n",
      "\u001b[1;32mC:\\ProgramData\\Anaconda3\\lib\\site-packages\\sklearn\\externals\\joblib\\parallel.py\u001b[0m in \u001b[0;36m__call__\u001b[1;34m(self)\u001b[0m\n\u001b[0;32m    129\u001b[0m \u001b[1;33m\u001b[0m\u001b[0m\n\u001b[0;32m    130\u001b[0m     \u001b[1;32mdef\u001b[0m \u001b[0m__call__\u001b[0m\u001b[1;33m(\u001b[0m\u001b[0mself\u001b[0m\u001b[1;33m)\u001b[0m\u001b[1;33m:\u001b[0m\u001b[1;33m\u001b[0m\u001b[0m\n\u001b[1;32m--> 131\u001b[1;33m         \u001b[1;32mreturn\u001b[0m \u001b[1;33m[\u001b[0m\u001b[0mfunc\u001b[0m\u001b[1;33m(\u001b[0m\u001b[1;33m*\u001b[0m\u001b[0margs\u001b[0m\u001b[1;33m,\u001b[0m \u001b[1;33m**\u001b[0m\u001b[0mkwargs\u001b[0m\u001b[1;33m)\u001b[0m \u001b[1;32mfor\u001b[0m \u001b[0mfunc\u001b[0m\u001b[1;33m,\u001b[0m \u001b[0margs\u001b[0m\u001b[1;33m,\u001b[0m \u001b[0mkwargs\u001b[0m \u001b[1;32min\u001b[0m \u001b[0mself\u001b[0m\u001b[1;33m.\u001b[0m\u001b[0mitems\u001b[0m\u001b[1;33m]\u001b[0m\u001b[1;33m\u001b[0m\u001b[0m\n\u001b[0m\u001b[0;32m    132\u001b[0m \u001b[1;33m\u001b[0m\u001b[0m\n\u001b[0;32m    133\u001b[0m     \u001b[1;32mdef\u001b[0m \u001b[0m__len__\u001b[0m\u001b[1;33m(\u001b[0m\u001b[0mself\u001b[0m\u001b[1;33m)\u001b[0m\u001b[1;33m:\u001b[0m\u001b[1;33m\u001b[0m\u001b[0m\n",
      "\u001b[1;32mC:\\ProgramData\\Anaconda3\\lib\\site-packages\\sklearn\\externals\\joblib\\parallel.py\u001b[0m in \u001b[0;36m<listcomp>\u001b[1;34m(.0)\u001b[0m\n\u001b[0;32m    129\u001b[0m \u001b[1;33m\u001b[0m\u001b[0m\n\u001b[0;32m    130\u001b[0m     \u001b[1;32mdef\u001b[0m \u001b[0m__call__\u001b[0m\u001b[1;33m(\u001b[0m\u001b[0mself\u001b[0m\u001b[1;33m)\u001b[0m\u001b[1;33m:\u001b[0m\u001b[1;33m\u001b[0m\u001b[0m\n\u001b[1;32m--> 131\u001b[1;33m         \u001b[1;32mreturn\u001b[0m \u001b[1;33m[\u001b[0m\u001b[0mfunc\u001b[0m\u001b[1;33m(\u001b[0m\u001b[1;33m*\u001b[0m\u001b[0margs\u001b[0m\u001b[1;33m,\u001b[0m \u001b[1;33m**\u001b[0m\u001b[0mkwargs\u001b[0m\u001b[1;33m)\u001b[0m \u001b[1;32mfor\u001b[0m \u001b[0mfunc\u001b[0m\u001b[1;33m,\u001b[0m \u001b[0margs\u001b[0m\u001b[1;33m,\u001b[0m \u001b[0mkwargs\u001b[0m \u001b[1;32min\u001b[0m \u001b[0mself\u001b[0m\u001b[1;33m.\u001b[0m\u001b[0mitems\u001b[0m\u001b[1;33m]\u001b[0m\u001b[1;33m\u001b[0m\u001b[0m\n\u001b[0m\u001b[0;32m    132\u001b[0m \u001b[1;33m\u001b[0m\u001b[0m\n\u001b[0;32m    133\u001b[0m     \u001b[1;32mdef\u001b[0m \u001b[0m__len__\u001b[0m\u001b[1;33m(\u001b[0m\u001b[0mself\u001b[0m\u001b[1;33m)\u001b[0m\u001b[1;33m:\u001b[0m\u001b[1;33m\u001b[0m\u001b[0m\n",
      "\u001b[1;32mC:\\ProgramData\\Anaconda3\\lib\\site-packages\\sklearn\\model_selection\\_validation.py\u001b[0m in \u001b[0;36m_fit_and_score\u001b[1;34m(estimator, X, y, scorer, train, test, verbose, parameters, fit_params, return_train_score, return_parameters, return_n_test_samples, return_times, error_score)\u001b[0m\n\u001b[0;32m    486\u001b[0m         \u001b[0mfit_time\u001b[0m \u001b[1;33m=\u001b[0m \u001b[0mtime\u001b[0m\u001b[1;33m.\u001b[0m\u001b[0mtime\u001b[0m\u001b[1;33m(\u001b[0m\u001b[1;33m)\u001b[0m \u001b[1;33m-\u001b[0m \u001b[0mstart_time\u001b[0m\u001b[1;33m\u001b[0m\u001b[0m\n\u001b[0;32m    487\u001b[0m         \u001b[1;31m# _score will return dict if is_multimetric is True\u001b[0m\u001b[1;33m\u001b[0m\u001b[1;33m\u001b[0m\u001b[0m\n\u001b[1;32m--> 488\u001b[1;33m         \u001b[0mtest_scores\u001b[0m \u001b[1;33m=\u001b[0m \u001b[0m_score\u001b[0m\u001b[1;33m(\u001b[0m\u001b[0mestimator\u001b[0m\u001b[1;33m,\u001b[0m \u001b[0mX_test\u001b[0m\u001b[1;33m,\u001b[0m \u001b[0my_test\u001b[0m\u001b[1;33m,\u001b[0m \u001b[0mscorer\u001b[0m\u001b[1;33m,\u001b[0m \u001b[0mis_multimetric\u001b[0m\u001b[1;33m)\u001b[0m\u001b[1;33m\u001b[0m\u001b[0m\n\u001b[0m\u001b[0;32m    489\u001b[0m         \u001b[0mscore_time\u001b[0m \u001b[1;33m=\u001b[0m \u001b[0mtime\u001b[0m\u001b[1;33m.\u001b[0m\u001b[0mtime\u001b[0m\u001b[1;33m(\u001b[0m\u001b[1;33m)\u001b[0m \u001b[1;33m-\u001b[0m \u001b[0mstart_time\u001b[0m \u001b[1;33m-\u001b[0m \u001b[0mfit_time\u001b[0m\u001b[1;33m\u001b[0m\u001b[0m\n\u001b[0;32m    490\u001b[0m         \u001b[1;32mif\u001b[0m \u001b[0mreturn_train_score\u001b[0m\u001b[1;33m:\u001b[0m\u001b[1;33m\u001b[0m\u001b[0m\n",
      "\u001b[1;32mC:\\ProgramData\\Anaconda3\\lib\\site-packages\\sklearn\\model_selection\\_validation.py\u001b[0m in \u001b[0;36m_score\u001b[1;34m(estimator, X_test, y_test, scorer, is_multimetric)\u001b[0m\n\u001b[0;32m    521\u001b[0m     \"\"\"\n\u001b[0;32m    522\u001b[0m     \u001b[1;32mif\u001b[0m \u001b[0mis_multimetric\u001b[0m\u001b[1;33m:\u001b[0m\u001b[1;33m\u001b[0m\u001b[0m\n\u001b[1;32m--> 523\u001b[1;33m         \u001b[1;32mreturn\u001b[0m \u001b[0m_multimetric_score\u001b[0m\u001b[1;33m(\u001b[0m\u001b[0mestimator\u001b[0m\u001b[1;33m,\u001b[0m \u001b[0mX_test\u001b[0m\u001b[1;33m,\u001b[0m \u001b[0my_test\u001b[0m\u001b[1;33m,\u001b[0m \u001b[0mscorer\u001b[0m\u001b[1;33m)\u001b[0m\u001b[1;33m\u001b[0m\u001b[0m\n\u001b[0m\u001b[0;32m    524\u001b[0m     \u001b[1;32melse\u001b[0m\u001b[1;33m:\u001b[0m\u001b[1;33m\u001b[0m\u001b[0m\n\u001b[0;32m    525\u001b[0m         \u001b[1;32mif\u001b[0m \u001b[0my_test\u001b[0m \u001b[1;32mis\u001b[0m \u001b[1;32mNone\u001b[0m\u001b[1;33m:\u001b[0m\u001b[1;33m\u001b[0m\u001b[0m\n",
      "\u001b[1;32mC:\\ProgramData\\Anaconda3\\lib\\site-packages\\sklearn\\model_selection\\_validation.py\u001b[0m in \u001b[0;36m_multimetric_score\u001b[1;34m(estimator, X_test, y_test, scorers)\u001b[0m\n\u001b[0;32m    551\u001b[0m             \u001b[0mscore\u001b[0m \u001b[1;33m=\u001b[0m \u001b[0mscorer\u001b[0m\u001b[1;33m(\u001b[0m\u001b[0mestimator\u001b[0m\u001b[1;33m,\u001b[0m \u001b[0mX_test\u001b[0m\u001b[1;33m)\u001b[0m\u001b[1;33m\u001b[0m\u001b[0m\n\u001b[0;32m    552\u001b[0m         \u001b[1;32melse\u001b[0m\u001b[1;33m:\u001b[0m\u001b[1;33m\u001b[0m\u001b[0m\n\u001b[1;32m--> 553\u001b[1;33m             \u001b[0mscore\u001b[0m \u001b[1;33m=\u001b[0m \u001b[0mscorer\u001b[0m\u001b[1;33m(\u001b[0m\u001b[0mestimator\u001b[0m\u001b[1;33m,\u001b[0m \u001b[0mX_test\u001b[0m\u001b[1;33m,\u001b[0m \u001b[0my_test\u001b[0m\u001b[1;33m)\u001b[0m\u001b[1;33m\u001b[0m\u001b[0m\n\u001b[0m\u001b[0;32m    554\u001b[0m \u001b[1;33m\u001b[0m\u001b[0m\n\u001b[0;32m    555\u001b[0m         \u001b[1;32mif\u001b[0m \u001b[0mhasattr\u001b[0m\u001b[1;33m(\u001b[0m\u001b[0mscore\u001b[0m\u001b[1;33m,\u001b[0m \u001b[1;34m'item'\u001b[0m\u001b[1;33m)\u001b[0m\u001b[1;33m:\u001b[0m\u001b[1;33m\u001b[0m\u001b[0m\n",
      "\u001b[1;32mC:\\ProgramData\\Anaconda3\\lib\\site-packages\\sklearn\\metrics\\scorer.py\u001b[0m in \u001b[0;36m__call__\u001b[1;34m(self, estimator, X, y_true, sample_weight)\u001b[0m\n\u001b[0;32m    106\u001b[0m         \u001b[1;32melse\u001b[0m\u001b[1;33m:\u001b[0m\u001b[1;33m\u001b[0m\u001b[0m\n\u001b[0;32m    107\u001b[0m             return self._sign * self._score_func(y_true, y_pred,\n\u001b[1;32m--> 108\u001b[1;33m                                                  **self._kwargs)\n\u001b[0m\u001b[0;32m    109\u001b[0m \u001b[1;33m\u001b[0m\u001b[0m\n\u001b[0;32m    110\u001b[0m \u001b[1;33m\u001b[0m\u001b[0m\n",
      "\u001b[1;32mC:\\ProgramData\\Anaconda3\\lib\\site-packages\\sklearn\\metrics\\classification.py\u001b[0m in \u001b[0;36mprecision_score\u001b[1;34m(y_true, y_pred, labels, pos_label, average, sample_weight)\u001b[0m\n\u001b[0;32m   1259\u001b[0m                                                  \u001b[0maverage\u001b[0m\u001b[1;33m=\u001b[0m\u001b[0maverage\u001b[0m\u001b[1;33m,\u001b[0m\u001b[1;33m\u001b[0m\u001b[0m\n\u001b[0;32m   1260\u001b[0m                                                  \u001b[0mwarn_for\u001b[0m\u001b[1;33m=\u001b[0m\u001b[1;33m(\u001b[0m\u001b[1;34m'precision'\u001b[0m\u001b[1;33m,\u001b[0m\u001b[1;33m)\u001b[0m\u001b[1;33m,\u001b[0m\u001b[1;33m\u001b[0m\u001b[0m\n\u001b[1;32m-> 1261\u001b[1;33m                                                  sample_weight=sample_weight)\n\u001b[0m\u001b[0;32m   1262\u001b[0m     \u001b[1;32mreturn\u001b[0m \u001b[0mp\u001b[0m\u001b[1;33m\u001b[0m\u001b[0m\n\u001b[0;32m   1263\u001b[0m \u001b[1;33m\u001b[0m\u001b[0m\n",
      "\u001b[1;32mC:\\ProgramData\\Anaconda3\\lib\\site-packages\\sklearn\\metrics\\classification.py\u001b[0m in \u001b[0;36mprecision_recall_fscore_support\u001b[1;34m(y_true, y_pred, beta, labels, pos_label, average, warn_for, sample_weight)\u001b[0m\n\u001b[0;32m   1038\u001b[0m         \u001b[1;32melse\u001b[0m\u001b[1;33m:\u001b[0m\u001b[1;33m\u001b[0m\u001b[0m\n\u001b[0;32m   1039\u001b[0m             raise ValueError(\"Target is %s but average='binary'. Please \"\n\u001b[1;32m-> 1040\u001b[1;33m                              \"choose another average setting.\" % y_type)\n\u001b[0m\u001b[0;32m   1041\u001b[0m     \u001b[1;32melif\u001b[0m \u001b[0mpos_label\u001b[0m \u001b[1;32mnot\u001b[0m \u001b[1;32min\u001b[0m \u001b[1;33m(\u001b[0m\u001b[1;32mNone\u001b[0m\u001b[1;33m,\u001b[0m \u001b[1;36m1\u001b[0m\u001b[1;33m)\u001b[0m\u001b[1;33m:\u001b[0m\u001b[1;33m\u001b[0m\u001b[0m\n\u001b[0;32m   1042\u001b[0m         warnings.warn(\"Note that pos_label (set to %r) is ignored when \"\n",
      "\u001b[1;31mValueError\u001b[0m: Target is multiclass but average='binary'. Please choose another average setting."
     ]
    }
   ],
   "source": [
    "val = cross_validate(clf, X1, y, scoring = ['accuracy', 'precision'], cv=10)"
   ]
  },
  {
   "cell_type": "code",
   "execution_count": 83,
   "metadata": {},
   "outputs": [
    {
     "name": "stdout",
     "output_type": "stream",
     "text": [
      "<built-in method values of DeprecationDict object at 0x000001B26BFB5E08>\n"
     ]
    }
   ],
   "source": [
    "print(val)"
   ]
  },
  {
   "cell_type": "code",
   "execution_count": 64,
   "metadata": {},
   "outputs": [
    {
     "ename": "TypeError",
     "evalue": "fit() missing 1 required positional argument: 'y'",
     "output_type": "error",
     "traceback": [
      "\u001b[1;31m---------------------------------------------------------------------------\u001b[0m",
      "\u001b[1;31mTypeError\u001b[0m                                 Traceback (most recent call last)",
      "\u001b[1;32m<ipython-input-64-c3b2a53a61e0>\u001b[0m in \u001b[0;36m<module>\u001b[1;34m()\u001b[0m\n\u001b[1;32m----> 1\u001b[1;33m \u001b[0mpredictions\u001b[0m \u001b[1;33m=\u001b[0m \u001b[0mcross_val_predict\u001b[0m\u001b[1;33m(\u001b[0m\u001b[0mclf\u001b[0m\u001b[1;33m,\u001b[0m \u001b[0mX\u001b[0m\u001b[1;33m,\u001b[0m \u001b[0mcv\u001b[0m\u001b[1;33m=\u001b[0m\u001b[1;36m10\u001b[0m\u001b[1;33m)\u001b[0m\u001b[1;33m\u001b[0m\u001b[0m\n\u001b[0m",
      "\u001b[1;32mC:\\ProgramData\\Anaconda3\\lib\\site-packages\\sklearn\\model_selection\\_validation.py\u001b[0m in \u001b[0;36mcross_val_predict\u001b[1;34m(estimator, X, y, groups, cv, n_jobs, verbose, fit_params, pre_dispatch, method)\u001b[0m\n\u001b[0;32m    678\u001b[0m     prediction_blocks = parallel(delayed(_fit_and_predict)(\n\u001b[0;32m    679\u001b[0m         clone(estimator), X, y, train, test, verbose, fit_params, method)\n\u001b[1;32m--> 680\u001b[1;33m         for train, test in cv.split(X, y, groups))\n\u001b[0m\u001b[0;32m    681\u001b[0m \u001b[1;33m\u001b[0m\u001b[0m\n\u001b[0;32m    682\u001b[0m     \u001b[1;31m# Concatenate the predictions\u001b[0m\u001b[1;33m\u001b[0m\u001b[1;33m\u001b[0m\u001b[0m\n",
      "\u001b[1;32mC:\\ProgramData\\Anaconda3\\lib\\site-packages\\sklearn\\externals\\joblib\\parallel.py\u001b[0m in \u001b[0;36m__call__\u001b[1;34m(self, iterable)\u001b[0m\n\u001b[0;32m    777\u001b[0m             \u001b[1;31m# was dispatched. In particular this covers the edge\u001b[0m\u001b[1;33m\u001b[0m\u001b[1;33m\u001b[0m\u001b[0m\n\u001b[0;32m    778\u001b[0m             \u001b[1;31m# case of Parallel used with an exhausted iterator.\u001b[0m\u001b[1;33m\u001b[0m\u001b[1;33m\u001b[0m\u001b[0m\n\u001b[1;32m--> 779\u001b[1;33m             \u001b[1;32mwhile\u001b[0m \u001b[0mself\u001b[0m\u001b[1;33m.\u001b[0m\u001b[0mdispatch_one_batch\u001b[0m\u001b[1;33m(\u001b[0m\u001b[0miterator\u001b[0m\u001b[1;33m)\u001b[0m\u001b[1;33m:\u001b[0m\u001b[1;33m\u001b[0m\u001b[0m\n\u001b[0m\u001b[0;32m    780\u001b[0m                 \u001b[0mself\u001b[0m\u001b[1;33m.\u001b[0m\u001b[0m_iterating\u001b[0m \u001b[1;33m=\u001b[0m \u001b[1;32mTrue\u001b[0m\u001b[1;33m\u001b[0m\u001b[0m\n\u001b[0;32m    781\u001b[0m             \u001b[1;32melse\u001b[0m\u001b[1;33m:\u001b[0m\u001b[1;33m\u001b[0m\u001b[0m\n",
      "\u001b[1;32mC:\\ProgramData\\Anaconda3\\lib\\site-packages\\sklearn\\externals\\joblib\\parallel.py\u001b[0m in \u001b[0;36mdispatch_one_batch\u001b[1;34m(self, iterator)\u001b[0m\n\u001b[0;32m    623\u001b[0m                 \u001b[1;32mreturn\u001b[0m \u001b[1;32mFalse\u001b[0m\u001b[1;33m\u001b[0m\u001b[0m\n\u001b[0;32m    624\u001b[0m             \u001b[1;32melse\u001b[0m\u001b[1;33m:\u001b[0m\u001b[1;33m\u001b[0m\u001b[0m\n\u001b[1;32m--> 625\u001b[1;33m                 \u001b[0mself\u001b[0m\u001b[1;33m.\u001b[0m\u001b[0m_dispatch\u001b[0m\u001b[1;33m(\u001b[0m\u001b[0mtasks\u001b[0m\u001b[1;33m)\u001b[0m\u001b[1;33m\u001b[0m\u001b[0m\n\u001b[0m\u001b[0;32m    626\u001b[0m                 \u001b[1;32mreturn\u001b[0m \u001b[1;32mTrue\u001b[0m\u001b[1;33m\u001b[0m\u001b[0m\n\u001b[0;32m    627\u001b[0m \u001b[1;33m\u001b[0m\u001b[0m\n",
      "\u001b[1;32mC:\\ProgramData\\Anaconda3\\lib\\site-packages\\sklearn\\externals\\joblib\\parallel.py\u001b[0m in \u001b[0;36m_dispatch\u001b[1;34m(self, batch)\u001b[0m\n\u001b[0;32m    586\u001b[0m         \u001b[0mdispatch_timestamp\u001b[0m \u001b[1;33m=\u001b[0m \u001b[0mtime\u001b[0m\u001b[1;33m.\u001b[0m\u001b[0mtime\u001b[0m\u001b[1;33m(\u001b[0m\u001b[1;33m)\u001b[0m\u001b[1;33m\u001b[0m\u001b[0m\n\u001b[0;32m    587\u001b[0m         \u001b[0mcb\u001b[0m \u001b[1;33m=\u001b[0m \u001b[0mBatchCompletionCallBack\u001b[0m\u001b[1;33m(\u001b[0m\u001b[0mdispatch_timestamp\u001b[0m\u001b[1;33m,\u001b[0m \u001b[0mlen\u001b[0m\u001b[1;33m(\u001b[0m\u001b[0mbatch\u001b[0m\u001b[1;33m)\u001b[0m\u001b[1;33m,\u001b[0m \u001b[0mself\u001b[0m\u001b[1;33m)\u001b[0m\u001b[1;33m\u001b[0m\u001b[0m\n\u001b[1;32m--> 588\u001b[1;33m         \u001b[0mjob\u001b[0m \u001b[1;33m=\u001b[0m \u001b[0mself\u001b[0m\u001b[1;33m.\u001b[0m\u001b[0m_backend\u001b[0m\u001b[1;33m.\u001b[0m\u001b[0mapply_async\u001b[0m\u001b[1;33m(\u001b[0m\u001b[0mbatch\u001b[0m\u001b[1;33m,\u001b[0m \u001b[0mcallback\u001b[0m\u001b[1;33m=\u001b[0m\u001b[0mcb\u001b[0m\u001b[1;33m)\u001b[0m\u001b[1;33m\u001b[0m\u001b[0m\n\u001b[0m\u001b[0;32m    589\u001b[0m         \u001b[0mself\u001b[0m\u001b[1;33m.\u001b[0m\u001b[0m_jobs\u001b[0m\u001b[1;33m.\u001b[0m\u001b[0mappend\u001b[0m\u001b[1;33m(\u001b[0m\u001b[0mjob\u001b[0m\u001b[1;33m)\u001b[0m\u001b[1;33m\u001b[0m\u001b[0m\n\u001b[0;32m    590\u001b[0m \u001b[1;33m\u001b[0m\u001b[0m\n",
      "\u001b[1;32mC:\\ProgramData\\Anaconda3\\lib\\site-packages\\sklearn\\externals\\joblib\\_parallel_backends.py\u001b[0m in \u001b[0;36mapply_async\u001b[1;34m(self, func, callback)\u001b[0m\n\u001b[0;32m    109\u001b[0m     \u001b[1;32mdef\u001b[0m \u001b[0mapply_async\u001b[0m\u001b[1;33m(\u001b[0m\u001b[0mself\u001b[0m\u001b[1;33m,\u001b[0m \u001b[0mfunc\u001b[0m\u001b[1;33m,\u001b[0m \u001b[0mcallback\u001b[0m\u001b[1;33m=\u001b[0m\u001b[1;32mNone\u001b[0m\u001b[1;33m)\u001b[0m\u001b[1;33m:\u001b[0m\u001b[1;33m\u001b[0m\u001b[0m\n\u001b[0;32m    110\u001b[0m         \u001b[1;34m\"\"\"Schedule a func to be run\"\"\"\u001b[0m\u001b[1;33m\u001b[0m\u001b[0m\n\u001b[1;32m--> 111\u001b[1;33m         \u001b[0mresult\u001b[0m \u001b[1;33m=\u001b[0m \u001b[0mImmediateResult\u001b[0m\u001b[1;33m(\u001b[0m\u001b[0mfunc\u001b[0m\u001b[1;33m)\u001b[0m\u001b[1;33m\u001b[0m\u001b[0m\n\u001b[0m\u001b[0;32m    112\u001b[0m         \u001b[1;32mif\u001b[0m \u001b[0mcallback\u001b[0m\u001b[1;33m:\u001b[0m\u001b[1;33m\u001b[0m\u001b[0m\n\u001b[0;32m    113\u001b[0m             \u001b[0mcallback\u001b[0m\u001b[1;33m(\u001b[0m\u001b[0mresult\u001b[0m\u001b[1;33m)\u001b[0m\u001b[1;33m\u001b[0m\u001b[0m\n",
      "\u001b[1;32mC:\\ProgramData\\Anaconda3\\lib\\site-packages\\sklearn\\externals\\joblib\\_parallel_backends.py\u001b[0m in \u001b[0;36m__init__\u001b[1;34m(self, batch)\u001b[0m\n\u001b[0;32m    330\u001b[0m         \u001b[1;31m# Don't delay the application, to avoid keeping the input\u001b[0m\u001b[1;33m\u001b[0m\u001b[1;33m\u001b[0m\u001b[0m\n\u001b[0;32m    331\u001b[0m         \u001b[1;31m# arguments in memory\u001b[0m\u001b[1;33m\u001b[0m\u001b[1;33m\u001b[0m\u001b[0m\n\u001b[1;32m--> 332\u001b[1;33m         \u001b[0mself\u001b[0m\u001b[1;33m.\u001b[0m\u001b[0mresults\u001b[0m \u001b[1;33m=\u001b[0m \u001b[0mbatch\u001b[0m\u001b[1;33m(\u001b[0m\u001b[1;33m)\u001b[0m\u001b[1;33m\u001b[0m\u001b[0m\n\u001b[0m\u001b[0;32m    333\u001b[0m \u001b[1;33m\u001b[0m\u001b[0m\n\u001b[0;32m    334\u001b[0m     \u001b[1;32mdef\u001b[0m \u001b[0mget\u001b[0m\u001b[1;33m(\u001b[0m\u001b[0mself\u001b[0m\u001b[1;33m)\u001b[0m\u001b[1;33m:\u001b[0m\u001b[1;33m\u001b[0m\u001b[0m\n",
      "\u001b[1;32mC:\\ProgramData\\Anaconda3\\lib\\site-packages\\sklearn\\externals\\joblib\\parallel.py\u001b[0m in \u001b[0;36m__call__\u001b[1;34m(self)\u001b[0m\n\u001b[0;32m    129\u001b[0m \u001b[1;33m\u001b[0m\u001b[0m\n\u001b[0;32m    130\u001b[0m     \u001b[1;32mdef\u001b[0m \u001b[0m__call__\u001b[0m\u001b[1;33m(\u001b[0m\u001b[0mself\u001b[0m\u001b[1;33m)\u001b[0m\u001b[1;33m:\u001b[0m\u001b[1;33m\u001b[0m\u001b[0m\n\u001b[1;32m--> 131\u001b[1;33m         \u001b[1;32mreturn\u001b[0m \u001b[1;33m[\u001b[0m\u001b[0mfunc\u001b[0m\u001b[1;33m(\u001b[0m\u001b[1;33m*\u001b[0m\u001b[0margs\u001b[0m\u001b[1;33m,\u001b[0m \u001b[1;33m**\u001b[0m\u001b[0mkwargs\u001b[0m\u001b[1;33m)\u001b[0m \u001b[1;32mfor\u001b[0m \u001b[0mfunc\u001b[0m\u001b[1;33m,\u001b[0m \u001b[0margs\u001b[0m\u001b[1;33m,\u001b[0m \u001b[0mkwargs\u001b[0m \u001b[1;32min\u001b[0m \u001b[0mself\u001b[0m\u001b[1;33m.\u001b[0m\u001b[0mitems\u001b[0m\u001b[1;33m]\u001b[0m\u001b[1;33m\u001b[0m\u001b[0m\n\u001b[0m\u001b[0;32m    132\u001b[0m \u001b[1;33m\u001b[0m\u001b[0m\n\u001b[0;32m    133\u001b[0m     \u001b[1;32mdef\u001b[0m \u001b[0m__len__\u001b[0m\u001b[1;33m(\u001b[0m\u001b[0mself\u001b[0m\u001b[1;33m)\u001b[0m\u001b[1;33m:\u001b[0m\u001b[1;33m\u001b[0m\u001b[0m\n",
      "\u001b[1;32mC:\\ProgramData\\Anaconda3\\lib\\site-packages\\sklearn\\externals\\joblib\\parallel.py\u001b[0m in \u001b[0;36m<listcomp>\u001b[1;34m(.0)\u001b[0m\n\u001b[0;32m    129\u001b[0m \u001b[1;33m\u001b[0m\u001b[0m\n\u001b[0;32m    130\u001b[0m     \u001b[1;32mdef\u001b[0m \u001b[0m__call__\u001b[0m\u001b[1;33m(\u001b[0m\u001b[0mself\u001b[0m\u001b[1;33m)\u001b[0m\u001b[1;33m:\u001b[0m\u001b[1;33m\u001b[0m\u001b[0m\n\u001b[1;32m--> 131\u001b[1;33m         \u001b[1;32mreturn\u001b[0m \u001b[1;33m[\u001b[0m\u001b[0mfunc\u001b[0m\u001b[1;33m(\u001b[0m\u001b[1;33m*\u001b[0m\u001b[0margs\u001b[0m\u001b[1;33m,\u001b[0m \u001b[1;33m**\u001b[0m\u001b[0mkwargs\u001b[0m\u001b[1;33m)\u001b[0m \u001b[1;32mfor\u001b[0m \u001b[0mfunc\u001b[0m\u001b[1;33m,\u001b[0m \u001b[0margs\u001b[0m\u001b[1;33m,\u001b[0m \u001b[0mkwargs\u001b[0m \u001b[1;32min\u001b[0m \u001b[0mself\u001b[0m\u001b[1;33m.\u001b[0m\u001b[0mitems\u001b[0m\u001b[1;33m]\u001b[0m\u001b[1;33m\u001b[0m\u001b[0m\n\u001b[0m\u001b[0;32m    132\u001b[0m \u001b[1;33m\u001b[0m\u001b[0m\n\u001b[0;32m    133\u001b[0m     \u001b[1;32mdef\u001b[0m \u001b[0m__len__\u001b[0m\u001b[1;33m(\u001b[0m\u001b[0mself\u001b[0m\u001b[1;33m)\u001b[0m\u001b[1;33m:\u001b[0m\u001b[1;33m\u001b[0m\u001b[0m\n",
      "\u001b[1;32mC:\\ProgramData\\Anaconda3\\lib\\site-packages\\sklearn\\model_selection\\_validation.py\u001b[0m in \u001b[0;36m_fit_and_predict\u001b[1;34m(estimator, X, y, train, test, verbose, fit_params, method)\u001b[0m\n\u001b[0;32m    749\u001b[0m \u001b[1;33m\u001b[0m\u001b[0m\n\u001b[0;32m    750\u001b[0m     \u001b[1;32mif\u001b[0m \u001b[0my_train\u001b[0m \u001b[1;32mis\u001b[0m \u001b[1;32mNone\u001b[0m\u001b[1;33m:\u001b[0m\u001b[1;33m\u001b[0m\u001b[0m\n\u001b[1;32m--> 751\u001b[1;33m         \u001b[0mestimator\u001b[0m\u001b[1;33m.\u001b[0m\u001b[0mfit\u001b[0m\u001b[1;33m(\u001b[0m\u001b[0mX_train\u001b[0m\u001b[1;33m,\u001b[0m \u001b[1;33m**\u001b[0m\u001b[0mfit_params\u001b[0m\u001b[1;33m)\u001b[0m\u001b[1;33m\u001b[0m\u001b[0m\n\u001b[0m\u001b[0;32m    752\u001b[0m     \u001b[1;32melse\u001b[0m\u001b[1;33m:\u001b[0m\u001b[1;33m\u001b[0m\u001b[0m\n\u001b[0;32m    753\u001b[0m         \u001b[0mestimator\u001b[0m\u001b[1;33m.\u001b[0m\u001b[0mfit\u001b[0m\u001b[1;33m(\u001b[0m\u001b[0mX_train\u001b[0m\u001b[1;33m,\u001b[0m \u001b[0my_train\u001b[0m\u001b[1;33m,\u001b[0m \u001b[1;33m**\u001b[0m\u001b[0mfit_params\u001b[0m\u001b[1;33m)\u001b[0m\u001b[1;33m\u001b[0m\u001b[0m\n",
      "\u001b[1;31mTypeError\u001b[0m: fit() missing 1 required positional argument: 'y'"
     ]
    }
   ],
   "source": [
    "predictions = cross_val_predict(clf, X, cv=10)"
   ]
  },
  {
   "cell_type": "code",
   "execution_count": 66,
   "metadata": {},
   "outputs": [
    {
     "ename": "NameError",
     "evalue": "name 'RandomForestRegressor' is not defined",
     "output_type": "error",
     "traceback": [
      "\u001b[1;31m---------------------------------------------------------------------------\u001b[0m",
      "\u001b[1;31mNameError\u001b[0m                                 Traceback (most recent call last)",
      "\u001b[1;32m<ipython-input-66-e4dd3ef33f97>\u001b[0m in \u001b[0;36m<module>\u001b[1;34m()\u001b[0m\n\u001b[1;32m----> 1\u001b[1;33m \u001b[0mrf\u001b[0m \u001b[1;33m=\u001b[0m \u001b[0mRandomForestRegressor\u001b[0m\u001b[1;33m(\u001b[0m\u001b[0mn_estimators\u001b[0m \u001b[1;33m=\u001b[0m \u001b[1;36m1000\u001b[0m\u001b[1;33m)\u001b[0m\u001b[1;33m\u001b[0m\u001b[0m\n\u001b[0m",
      "\u001b[1;31mNameError\u001b[0m: name 'RandomForestRegressor' is not defined"
     ]
    }
   ],
   "source": [
    "rf = RandomForestRegressor(n_estimators = 1000)"
   ]
  },
  {
   "cell_type": "code",
   "execution_count": 67,
   "metadata": {
    "collapsed": true
   },
   "outputs": [],
   "source": [
    "rf = RandomForestClassifier(n_estimators=100, max_depth=2, random_state=0)"
   ]
  },
  {
   "cell_type": "code",
   "execution_count": 68,
   "metadata": {
    "collapsed": true
   },
   "outputs": [],
   "source": [
    "scores2 = cross_val_score(rf, X1, y, cv=10)"
   ]
  },
  {
   "cell_type": "code",
   "execution_count": 69,
   "metadata": {},
   "outputs": [
    {
     "name": "stdout",
     "output_type": "stream",
     "text": [
      "Cross-validated scores:  [ 0.63414634  0.6097561   0.6097561   0.56097561  0.625       0.6         0.575\n",
      "  0.56410256  0.56410256  0.52631579]\n"
     ]
    }
   ],
   "source": [
    "print(\"Cross-validated scores: \", scores2)"
   ]
  },
  {
   "cell_type": "code",
   "execution_count": 72,
   "metadata": {},
   "outputs": [
    {
     "name": "stdout",
     "output_type": "stream",
     "text": [
      "0.586915506402\n"
     ]
    }
   ],
   "source": [
    "print(mean(scores2))"
   ]
  },
  {
   "cell_type": "code",
   "execution_count": null,
   "metadata": {
    "collapsed": true
   },
   "outputs": [],
   "source": []
  }
 ],
 "metadata": {
  "kernelspec": {
   "display_name": "Python 3",
   "language": "python",
   "name": "python3"
  },
  "language_info": {
   "codemirror_mode": {
    "name": "ipython",
    "version": 3
   },
   "file_extension": ".py",
   "mimetype": "text/x-python",
   "name": "python",
   "nbconvert_exporter": "python",
   "pygments_lexer": "ipython3",
   "version": "3.6.3"
  }
 },
 "nbformat": 4,
 "nbformat_minor": 2
}
