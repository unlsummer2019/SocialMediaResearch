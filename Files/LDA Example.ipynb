{
 "cells": [
  {
   "cell_type": "markdown",
   "metadata": {},
   "source": [
    "# 1. Import Packages"
   ]
  },
  {
   "cell_type": "code",
   "execution_count": 1,
   "metadata": {},
   "outputs": [
    {
     "ename": "ModuleNotFoundError",
     "evalue": "No module named 'spacy'",
     "output_type": "error",
     "traceback": [
      "\u001b[1;31m---------------------------------------------------------------------------\u001b[0m",
      "\u001b[1;31mModuleNotFoundError\u001b[0m                       Traceback (most recent call last)",
      "\u001b[1;32m<ipython-input-1-447963f4b785>\u001b[0m in \u001b[0;36m<module>\u001b[1;34m\u001b[0m\n\u001b[0;32m      1\u001b[0m \u001b[1;32mimport\u001b[0m \u001b[0mnumpy\u001b[0m \u001b[1;32mas\u001b[0m \u001b[0mnp\u001b[0m\u001b[1;33m\u001b[0m\u001b[1;33m\u001b[0m\u001b[0m\n\u001b[0;32m      2\u001b[0m \u001b[1;32mimport\u001b[0m \u001b[0mpandas\u001b[0m \u001b[1;32mas\u001b[0m \u001b[0mpd\u001b[0m\u001b[1;33m\u001b[0m\u001b[1;33m\u001b[0m\u001b[0m\n\u001b[1;32m----> 3\u001b[1;33m \u001b[1;32mimport\u001b[0m \u001b[0mre\u001b[0m\u001b[1;33m,\u001b[0m \u001b[0mnltk\u001b[0m\u001b[1;33m,\u001b[0m \u001b[0mspacy\u001b[0m\u001b[1;33m,\u001b[0m \u001b[0mgensim\u001b[0m\u001b[1;33m\u001b[0m\u001b[1;33m\u001b[0m\u001b[0m\n\u001b[0m\u001b[0;32m      4\u001b[0m \u001b[1;33m\u001b[0m\u001b[0m\n\u001b[0;32m      5\u001b[0m \u001b[1;31m# Sklearn\u001b[0m\u001b[1;33m\u001b[0m\u001b[1;33m\u001b[0m\u001b[1;33m\u001b[0m\u001b[0m\n",
      "\u001b[1;31mModuleNotFoundError\u001b[0m: No module named 'spacy'"
     ]
    }
   ],
   "source": [
    "import numpy as np\n",
    "import pandas as pd\n",
    "import re, nltk, spacy, gensim\n",
    "\n",
    "# Sklearn\n",
    "from sklearn.decomposition import LatentDirichletAllocation, TruncatedSVD\n",
    "from sklearn.feature_extraction.text import CountVectorizer, TfidfVectorizer\n",
    "from sklearn.model_selection import GridSearchCV\n",
    "from pprint import pprint\n",
    "\n",
    "# Plotting tools\n",
    "import pyLDAvis\n",
    "import pyLDAvis.sklearn\n",
    "import matplotlib.pyplot as plt\n",
    "%run functions.ipynb\n",
    "%run LDA_Example_Functions.ipynb\n",
    "%matplotlib inline"
   ]
  },
  {
   "cell_type": "markdown",
   "metadata": {},
   "source": [
    "# 2. Import Newsgroups Text Data"
   ]
  },
  {
   "cell_type": "code",
   "execution_count": 41,
   "metadata": {},
   "outputs": [],
   "source": [
    "# Import Dataset\n",
    "features1 = featuresExtraction(\"../Data/secondTwitterDataFull.json\")\n",
    "features2 = featuresExtraction(\"../Data/secondTwitterData21.json\")\n",
    "features3 = featuresExtraction(\"../Data/secondTwitterData4.json\")\n",
    "features4 = featuresExtraction(\"../Data/secondTwitterData5.json\")\n",
    "features5 = featuresExtraction(\"../Data/secondTwitterDataFull9.json\")\n",
    "features6 = featuresExtraction(\"../Data/secondTwitterDataFull2.json\")\n",
    "features7 = featuresExtraction(\"../Data/secondTwitterData3.json\")\n",
    "features8 = featuresExtraction(\"../Data/secondTwitterData2.json\")\n",
    "features9 = featuresExtraction(\"../Data/secondTwitterData1.json\")"
   ]
  },
  {
   "cell_type": "code",
   "execution_count": 42,
   "metadata": {},
   "outputs": [],
   "source": [
    "featuresFull = np.append(features1, features2)\n",
    "featuresFull = np.append(featuresFull, features3)\n",
    "featuresFull = np.append(featuresFull, features4)\n",
    "featuresFull = np.append(featuresFull, features5)\n",
    "featuresFull= np.append(featuresFull, features6)\n",
    "featuresFull = np.append(featuresFull, features7)\n",
    "featuresFull = np.append(featuresFull, features8)\n",
    "featuresFull = np.append(featuresFull, features9)"
   ]
  },
  {
   "cell_type": "code",
   "execution_count": 43,
   "metadata": {},
   "outputs": [
    {
     "data": {
      "text/plain": [
       "35556"
      ]
     },
     "execution_count": 43,
     "metadata": {},
     "output_type": "execute_result"
    }
   ],
   "source": [
    "len(featuresFull)"
   ]
  },
  {
   "cell_type": "code",
   "execution_count": 9,
   "metadata": {},
   "outputs": [
    {
     "ename": "SyntaxError",
     "evalue": "EOL while scanning string literal (<ipython-input-9-36bb5d583e07>, line 1)",
     "output_type": "error",
     "traceback": [
      "\u001b[1;36m  File \u001b[1;32m\"<ipython-input-9-36bb5d583e07>\"\u001b[1;36m, line \u001b[1;32m1\u001b[0m\n\u001b[1;33m    ex = pd.read_json('https://raw.githubusercontent.com/selva86/datasets/master/newsgroups.json)\u001b[0m\n\u001b[1;37m                                                                                                 ^\u001b[0m\n\u001b[1;31mSyntaxError\u001b[0m\u001b[1;31m:\u001b[0m EOL while scanning string literal\n"
     ]
    }
   ],
   "source": [
    "ex = pd.read_json('https://raw.githubusercontent.com/selva86/datasets/master/newsgroups.json)"
   ]
  },
  {
   "cell_type": "code",
   "execution_count": 34,
   "metadata": {},
   "outputs": [
    {
     "data": {
      "text/plain": [
       "'Heads up! You Can Now Get Safe #Abortion Pills Mailed to You in the United States\\xa0#kavanaugh #roevwade #protectyourself #darktimesahead\\n\\nhttps://t.co/wUBQTYGwMG via @jezebel'"
      ]
     },
     "execution_count": 34,
     "metadata": {},
     "output_type": "execute_result"
    }
   ],
   "source": []
  },
  {
   "cell_type": "code",
   "execution_count": 44,
   "metadata": {},
   "outputs": [
    {
     "ename": "AttributeError",
     "evalue": "'numpy.ndarray' object has no attribute 'head'",
     "output_type": "error",
     "traceback": [
      "\u001b[1;31m---------------------------------------------------------------------------\u001b[0m",
      "\u001b[1;31mAttributeError\u001b[0m                            Traceback (most recent call last)",
      "\u001b[1;32m<ipython-input-44-705cd637d3bc>\u001b[0m in \u001b[0;36m<module>\u001b[1;34m()\u001b[0m\n\u001b[1;32m----> 1\u001b[1;33m \u001b[0mdf\u001b[0m\u001b[1;33m.\u001b[0m\u001b[0mhead\u001b[0m\u001b[1;33m(\u001b[0m\u001b[1;36m15\u001b[0m\u001b[1;33m)\u001b[0m\u001b[1;33m\u001b[0m\u001b[0m\n\u001b[0m",
      "\u001b[1;31mAttributeError\u001b[0m: 'numpy.ndarray' object has no attribute 'head'"
     ]
    }
   ],
   "source": [
    "df.head(15)"
   ]
  },
  {
   "cell_type": "markdown",
   "metadata": {},
   "source": [
    "# 3. Remove emails and newline characters"
   ]
  },
  {
   "cell_type": "code",
   "execution_count": 13,
   "metadata": {},
   "outputs": [
    {
     "name": "stderr",
     "output_type": "stream",
     "text": [
      "<input>:4: DeprecationWarning: invalid escape sequence \\S\n",
      "<input>:4: DeprecationWarning: invalid escape sequence \\S\n",
      "<input>:4: DeprecationWarning: invalid escape sequence \\S\n",
      "<input>:4: DeprecationWarning: invalid escape sequence \\S\n",
      "<input>:4: DeprecationWarning: invalid escape sequence \\S\n",
      "<input>:4: DeprecationWarning: invalid escape sequence \\S\n",
      "<input>:4: DeprecationWarning: invalid escape sequence \\S\n",
      "<input>:6: DeprecationWarning: invalid escape sequence \\s\n",
      "<input>:4: DeprecationWarning: invalid escape sequence \\S\n",
      "<input>:6: DeprecationWarning: invalid escape sequence \\s\n",
      "<input>:4: DeprecationWarning: invalid escape sequence \\S\n",
      "<input>:6: DeprecationWarning: invalid escape sequence \\s\n",
      "<input>:4: DeprecationWarning: invalid escape sequence \\S\n",
      "<input>:6: DeprecationWarning: invalid escape sequence \\s\n",
      "<input>:4: DeprecationWarning: invalid escape sequence \\S\n",
      "<input>:6: DeprecationWarning: invalid escape sequence \\s\n",
      "<input>:4: DeprecationWarning: invalid escape sequence \\S\n",
      "<input>:6: DeprecationWarning: invalid escape sequence \\s\n",
      "<input>:4: DeprecationWarning: invalid escape sequence \\S\n",
      "<input>:6: DeprecationWarning: invalid escape sequence \\s\n",
      "<input>:4: DeprecationWarning: invalid escape sequence \\S\n",
      "<input>:6: DeprecationWarning: invalid escape sequence \\s\n",
      "<input>:4: DeprecationWarning: invalid escape sequence \\S\n",
      "<input>:6: DeprecationWarning: invalid escape sequence \\s\n",
      "<ipython-input-13-ad72936af887>:4: DeprecationWarning: invalid escape sequence \\S\n",
      "  data = [re.sub('\\S*@\\S*\\s?', '', sent) for sent in data]\n",
      "<ipython-input-13-ad72936af887>:6: DeprecationWarning: invalid escape sequence \\s\n",
      "  data = [re.sub('\\s+', ' ', sent) for sent in data]\n"
     ]
    }
   ],
   "source": [
    "# Convert to list\n",
    "data = df.content.values.tolist()\n",
    "# Remove Emails\n",
    "data = [re.sub('\\S*@\\S*\\s?', '', sent) for sent in data]\n",
    "# Remove new line characters\n",
    "data = [re.sub('\\s+', ' ', sent) for sent in data]\n",
    "# Remove distracting single quotes\n",
    "data = [re.sub(\"\\'\", \"\", sent) for sent in data]"
   ]
  },
  {
   "cell_type": "code",
   "execution_count": 46,
   "metadata": {},
   "outputs": [
    {
     "name": "stdout",
     "output_type": "stream",
     "text": [
      "array(['Heads up! You Can Now Get Safe #Abortion Pills Mailed to You in the United States\\xa0#kavanaugh #roevwade #protectyourself #darktimesahead\\n\\nhttps://t.co/wUBQTYGwMG via @jezebel'],\n",
      "      dtype='<U954')\n"
     ]
    }
   ],
   "source": [
    "pprint(df[:1])"
   ]
  },
  {
   "cell_type": "markdown",
   "metadata": {},
   "source": [
    "# 4. Token and Clean-up using gensim's simple_preprocess()"
   ]
  },
  {
   "cell_type": "code",
   "execution_count": 47,
   "metadata": {},
   "outputs": [
    {
     "name": "stdout",
     "output_type": "stream",
     "text": [
      "[['heads', 'up', 'you', 'can', 'now', 'get', 'safe', 'abortion', 'pills', 'mailed', 'to', 'you', 'in', 'the', 'united', 'states', 'kavanaugh', 'roevwade', 'protectyourself', 'darktimesahead', 'https', 'co', 'wubqtygwmg', 'via', 'jezebel']]\n"
     ]
    }
   ],
   "source": [
    "data_words = list(sent_to_words(df))\n",
    "print(data_words[:1])"
   ]
  },
  {
   "cell_type": "markdown",
   "metadata": {},
   "source": [
    "# 5. Lemmatization"
   ]
  },
  {
   "cell_type": "code",
   "execution_count": 48,
   "metadata": {},
   "outputs": [
    {
     "name": "stderr",
     "output_type": "stream",
     "text": [
      "C:\\ProgramData\\Anaconda3\\lib\\importlib\\_bootstrap.py:219: RuntimeWarning: cymem.cymem.Pool size changed, may indicate binary incompatibility. Expected 48 from C header, got 64 from PyObject\n",
      "  return f(*args, **kwds)\n",
      "C:\\ProgramData\\Anaconda3\\lib\\importlib\\_bootstrap.py:219: RuntimeWarning: cymem.cymem.Address size changed, may indicate binary incompatibility. Expected 24 from C header, got 40 from PyObject\n",
      "  return f(*args, **kwds)\n"
     ]
    },
    {
     "name": "stdout",
     "output_type": "stream",
     "text": [
      "['head can now get safe abortion pill mail united state kavanaugh roevwade protectyourself darktimesahead https co wubqtygwmg jezebel', 'diversity be  strength love trump hate transright be human right metoo methree npcmeme condition prochoice']\n"
     ]
    }
   ],
   "source": [
    "nlp = spacy.load('en', disable=['parser', 'ner'])\n",
    "\n",
    "# Do lemmatization keeping only Noun, Adj, Verb, Adverb\n",
    "data_lemmatized = lemmatization(data_words, allowed_postags=['NOUN', 'ADJ', 'VERB', 'ADV'])\n",
    "\n",
    "print(data_lemmatized[:2])"
   ]
  },
  {
   "cell_type": "markdown",
   "metadata": {},
   "source": [
    "# 6. Create the Document-Word matrix"
   ]
  },
  {
   "cell_type": "code",
   "execution_count": 49,
   "metadata": {
    "collapsed": true
   },
   "outputs": [],
   "source": [
    "vectorizer = CountVectorizer(analyzer='word', min_df=10, stop_words='english', lowercase = True, token_pattern='[a-zA-Z0-9]{3,}')\n",
    "data_vectorized = vectorizer.fit_transform(data_lemmatized)"
   ]
  },
  {
   "cell_type": "markdown",
   "metadata": {},
   "source": [
    "# 7. Check the Sparsicity"
   ]
  },
  {
   "cell_type": "code",
   "execution_count": 50,
   "metadata": {},
   "outputs": [
    {
     "name": "stdout",
     "output_type": "stream",
     "text": [
      "Sparsicity:  2.418005100985731 %\n"
     ]
    }
   ],
   "source": [
    "#materialize the sparse data\n",
    "data_dense = data_vectorized.todense()\n",
    "\n",
    "# Compute Sparsicity = Percentage of Non-Zero cells\n",
    "print(\"Sparsicity: \", ((data_dense > 0).sum()/data_dense.size)*100, \"%\")"
   ]
  },
  {
   "cell_type": "markdown",
   "metadata": {},
   "source": [
    "# 8. Build LDA model with sklearn"
   ]
  },
  {
   "cell_type": "code",
   "execution_count": 51,
   "metadata": {},
   "outputs": [
    {
     "name": "stdout",
     "output_type": "stream",
     "text": [
      "LatentDirichletAllocation(batch_size=128, doc_topic_prior=None,\n",
      "             evaluate_every=-1, learning_decay=0.7,\n",
      "             learning_method='online', learning_offset=10.0,\n",
      "             max_doc_update_iter=100, max_iter=10, mean_change_tol=0.001,\n",
      "             n_components=20, n_jobs=-1, n_topics=None, perp_tol=0.1,\n",
      "             random_state=100, topic_word_prior=None,\n",
      "             total_samples=1000000.0, verbose=0)\n"
     ]
    }
   ],
   "source": [
    "lda_model = LatentDirichletAllocation(n_components=20, max_iter=10, learning_method = 'online', random_state = 100, batch_size = 128, evaluate_every = -1, n_jobs = -1)\n",
    "lda_output = lda_model.fit_transform(data_vectorized)\n",
    "print(lda_model)"
   ]
  },
  {
   "cell_type": "markdown",
   "metadata": {},
   "source": [
    "# 9. Diagnose model performace with perplexity and log-likelihood"
   ]
  },
  {
   "cell_type": "code",
   "execution_count": 52,
   "metadata": {},
   "outputs": [
    {
     "name": "stdout",
     "output_type": "stream",
     "text": [
      "Log Likelihood:  -82580.48368361667\n",
      "Perplexity:  82.45835861587987\n",
      "{'batch_size': 128,\n",
      " 'doc_topic_prior': None,\n",
      " 'evaluate_every': -1,\n",
      " 'learning_decay': 0.7,\n",
      " 'learning_method': 'online',\n",
      " 'learning_offset': 10.0,\n",
      " 'max_doc_update_iter': 100,\n",
      " 'max_iter': 10,\n",
      " 'mean_change_tol': 0.001,\n",
      " 'n_components': 20,\n",
      " 'n_jobs': -1,\n",
      " 'n_topics': None,\n",
      " 'perp_tol': 0.1,\n",
      " 'random_state': 100,\n",
      " 'topic_word_prior': None,\n",
      " 'total_samples': 1000000.0,\n",
      " 'verbose': 0}\n"
     ]
    }
   ],
   "source": [
    "# Log Likelihood: Higher the better\n",
    "print(\"Log Likelihood: \", lda_model.score(data_vectorized))\n",
    "\n",
    "# Perplexity: Lower the better, Perplexity = exp(-1 * log-likelihood per word)\n",
    "print(\"Perplexity: \", lda_model.perplexity(data_vectorized))\n",
    "\n",
    "# See model paramters\n",
    "pprint(lda_model.get_params())"
   ]
  },
  {
   "cell_type": "markdown",
   "metadata": {},
   "source": [
    "# 10. GridSearch"
   ]
  },
  {
   "cell_type": "code",
   "execution_count": 57,
   "metadata": {},
   "outputs": [
    {
     "name": "stderr",
     "output_type": "stream",
     "text": [
      "C:\\ProgramData\\Anaconda3\\lib\\site-packages\\sklearn\\decomposition\\online_lda.py:536: DeprecationWarning: The default value for 'learning_method' will be changed from 'online' to 'batch' in the release 0.20. This warning was introduced in 0.18.\n",
      "  DeprecationWarning)\n",
      "C:\\ProgramData\\Anaconda3\\lib\\site-packages\\sklearn\\decomposition\\online_lda.py:536: DeprecationWarning: The default value for 'learning_method' will be changed from 'online' to 'batch' in the release 0.20. This warning was introduced in 0.18.\n",
      "  DeprecationWarning)\n",
      "C:\\ProgramData\\Anaconda3\\lib\\site-packages\\sklearn\\decomposition\\online_lda.py:536: DeprecationWarning: The default value for 'learning_method' will be changed from 'online' to 'batch' in the release 0.20. This warning was introduced in 0.18.\n",
      "  DeprecationWarning)\n",
      "C:\\ProgramData\\Anaconda3\\lib\\site-packages\\sklearn\\decomposition\\online_lda.py:536: DeprecationWarning: The default value for 'learning_method' will be changed from 'online' to 'batch' in the release 0.20. This warning was introduced in 0.18.\n",
      "  DeprecationWarning)\n",
      "C:\\ProgramData\\Anaconda3\\lib\\site-packages\\sklearn\\decomposition\\online_lda.py:536: DeprecationWarning: The default value for 'learning_method' will be changed from 'online' to 'batch' in the release 0.20. This warning was introduced in 0.18.\n",
      "  DeprecationWarning)\n",
      "C:\\ProgramData\\Anaconda3\\lib\\site-packages\\sklearn\\decomposition\\online_lda.py:536: DeprecationWarning: The default value for 'learning_method' will be changed from 'online' to 'batch' in the release 0.20. This warning was introduced in 0.18.\n",
      "  DeprecationWarning)\n",
      "C:\\ProgramData\\Anaconda3\\lib\\site-packages\\sklearn\\decomposition\\online_lda.py:536: DeprecationWarning: The default value for 'learning_method' will be changed from 'online' to 'batch' in the release 0.20. This warning was introduced in 0.18.\n",
      "  DeprecationWarning)\n",
      "C:\\ProgramData\\Anaconda3\\lib\\site-packages\\sklearn\\decomposition\\online_lda.py:536: DeprecationWarning: The default value for 'learning_method' will be changed from 'online' to 'batch' in the release 0.20. This warning was introduced in 0.18.\n",
      "  DeprecationWarning)\n",
      "C:\\ProgramData\\Anaconda3\\lib\\site-packages\\sklearn\\decomposition\\online_lda.py:536: DeprecationWarning: The default value for 'learning_method' will be changed from 'online' to 'batch' in the release 0.20. This warning was introduced in 0.18.\n",
      "  DeprecationWarning)\n",
      "C:\\ProgramData\\Anaconda3\\lib\\site-packages\\sklearn\\decomposition\\online_lda.py:536: DeprecationWarning: The default value for 'learning_method' will be changed from 'online' to 'batch' in the release 0.20. This warning was introduced in 0.18.\n",
      "  DeprecationWarning)\n",
      "C:\\ProgramData\\Anaconda3\\lib\\site-packages\\sklearn\\decomposition\\online_lda.py:536: DeprecationWarning: The default value for 'learning_method' will be changed from 'online' to 'batch' in the release 0.20. This warning was introduced in 0.18.\n",
      "  DeprecationWarning)\n",
      "C:\\ProgramData\\Anaconda3\\lib\\site-packages\\sklearn\\decomposition\\online_lda.py:536: DeprecationWarning: The default value for 'learning_method' will be changed from 'online' to 'batch' in the release 0.20. This warning was introduced in 0.18.\n",
      "  DeprecationWarning)\n",
      "C:\\ProgramData\\Anaconda3\\lib\\site-packages\\sklearn\\decomposition\\online_lda.py:536: DeprecationWarning: The default value for 'learning_method' will be changed from 'online' to 'batch' in the release 0.20. This warning was introduced in 0.18.\n",
      "  DeprecationWarning)\n",
      "C:\\ProgramData\\Anaconda3\\lib\\site-packages\\sklearn\\decomposition\\online_lda.py:536: DeprecationWarning: The default value for 'learning_method' will be changed from 'online' to 'batch' in the release 0.20. This warning was introduced in 0.18.\n",
      "  DeprecationWarning)\n",
      "C:\\ProgramData\\Anaconda3\\lib\\site-packages\\sklearn\\decomposition\\online_lda.py:536: DeprecationWarning: The default value for 'learning_method' will be changed from 'online' to 'batch' in the release 0.20. This warning was introduced in 0.18.\n",
      "  DeprecationWarning)\n",
      "C:\\ProgramData\\Anaconda3\\lib\\site-packages\\sklearn\\decomposition\\online_lda.py:536: DeprecationWarning: The default value for 'learning_method' will be changed from 'online' to 'batch' in the release 0.20. This warning was introduced in 0.18.\n",
      "  DeprecationWarning)\n",
      "C:\\ProgramData\\Anaconda3\\lib\\site-packages\\sklearn\\decomposition\\online_lda.py:536: DeprecationWarning: The default value for 'learning_method' will be changed from 'online' to 'batch' in the release 0.20. This warning was introduced in 0.18.\n",
      "  DeprecationWarning)\n",
      "C:\\ProgramData\\Anaconda3\\lib\\site-packages\\sklearn\\decomposition\\online_lda.py:536: DeprecationWarning: The default value for 'learning_method' will be changed from 'online' to 'batch' in the release 0.20. This warning was introduced in 0.18.\n",
      "  DeprecationWarning)\n",
      "C:\\ProgramData\\Anaconda3\\lib\\site-packages\\sklearn\\decomposition\\online_lda.py:536: DeprecationWarning: The default value for 'learning_method' will be changed from 'online' to 'batch' in the release 0.20. This warning was introduced in 0.18.\n",
      "  DeprecationWarning)\n",
      "C:\\ProgramData\\Anaconda3\\lib\\site-packages\\sklearn\\decomposition\\online_lda.py:536: DeprecationWarning: The default value for 'learning_method' will be changed from 'online' to 'batch' in the release 0.20. This warning was introduced in 0.18.\n",
      "  DeprecationWarning)\n",
      "C:\\ProgramData\\Anaconda3\\lib\\site-packages\\sklearn\\decomposition\\online_lda.py:536: DeprecationWarning: The default value for 'learning_method' will be changed from 'online' to 'batch' in the release 0.20. This warning was introduced in 0.18.\n",
      "  DeprecationWarning)\n",
      "C:\\ProgramData\\Anaconda3\\lib\\site-packages\\sklearn\\decomposition\\online_lda.py:536: DeprecationWarning: The default value for 'learning_method' will be changed from 'online' to 'batch' in the release 0.20. This warning was introduced in 0.18.\n",
      "  DeprecationWarning)\n",
      "C:\\ProgramData\\Anaconda3\\lib\\site-packages\\sklearn\\decomposition\\online_lda.py:536: DeprecationWarning: The default value for 'learning_method' will be changed from 'online' to 'batch' in the release 0.20. This warning was introduced in 0.18.\n",
      "  DeprecationWarning)\n",
      "C:\\ProgramData\\Anaconda3\\lib\\site-packages\\sklearn\\decomposition\\online_lda.py:536: DeprecationWarning: The default value for 'learning_method' will be changed from 'online' to 'batch' in the release 0.20. This warning was introduced in 0.18.\n",
      "  DeprecationWarning)\n",
      "C:\\ProgramData\\Anaconda3\\lib\\site-packages\\sklearn\\decomposition\\online_lda.py:536: DeprecationWarning: The default value for 'learning_method' will be changed from 'online' to 'batch' in the release 0.20. This warning was introduced in 0.18.\n",
      "  DeprecationWarning)\n",
      "C:\\ProgramData\\Anaconda3\\lib\\site-packages\\sklearn\\decomposition\\online_lda.py:536: DeprecationWarning: The default value for 'learning_method' will be changed from 'online' to 'batch' in the release 0.20. This warning was introduced in 0.18.\n",
      "  DeprecationWarning)\n",
      "C:\\ProgramData\\Anaconda3\\lib\\site-packages\\sklearn\\decomposition\\online_lda.py:536: DeprecationWarning: The default value for 'learning_method' will be changed from 'online' to 'batch' in the release 0.20. This warning was introduced in 0.18.\n",
      "  DeprecationWarning)\n",
      "C:\\ProgramData\\Anaconda3\\lib\\site-packages\\sklearn\\decomposition\\online_lda.py:536: DeprecationWarning: The default value for 'learning_method' will be changed from 'online' to 'batch' in the release 0.20. This warning was introduced in 0.18.\n",
      "  DeprecationWarning)\n",
      "C:\\ProgramData\\Anaconda3\\lib\\site-packages\\sklearn\\decomposition\\online_lda.py:536: DeprecationWarning: The default value for 'learning_method' will be changed from 'online' to 'batch' in the release 0.20. This warning was introduced in 0.18.\n",
      "  DeprecationWarning)\n",
      "C:\\ProgramData\\Anaconda3\\lib\\site-packages\\sklearn\\decomposition\\online_lda.py:536: DeprecationWarning: The default value for 'learning_method' will be changed from 'online' to 'batch' in the release 0.20. This warning was introduced in 0.18.\n",
      "  DeprecationWarning)\n",
      "C:\\ProgramData\\Anaconda3\\lib\\site-packages\\sklearn\\decomposition\\online_lda.py:536: DeprecationWarning: The default value for 'learning_method' will be changed from 'online' to 'batch' in the release 0.20. This warning was introduced in 0.18.\n",
      "  DeprecationWarning)\n"
     ]
    },
    {
     "name": "stderr",
     "output_type": "stream",
     "text": [
      "C:\\ProgramData\\Anaconda3\\lib\\site-packages\\sklearn\\decomposition\\online_lda.py:536: DeprecationWarning: The default value for 'learning_method' will be changed from 'online' to 'batch' in the release 0.20. This warning was introduced in 0.18.\n",
      "  DeprecationWarning)\n",
      "C:\\ProgramData\\Anaconda3\\lib\\site-packages\\sklearn\\decomposition\\online_lda.py:536: DeprecationWarning: The default value for 'learning_method' will be changed from 'online' to 'batch' in the release 0.20. This warning was introduced in 0.18.\n",
      "  DeprecationWarning)\n",
      "C:\\ProgramData\\Anaconda3\\lib\\site-packages\\sklearn\\decomposition\\online_lda.py:536: DeprecationWarning: The default value for 'learning_method' will be changed from 'online' to 'batch' in the release 0.20. This warning was introduced in 0.18.\n",
      "  DeprecationWarning)\n",
      "C:\\ProgramData\\Anaconda3\\lib\\site-packages\\sklearn\\decomposition\\online_lda.py:536: DeprecationWarning: The default value for 'learning_method' will be changed from 'online' to 'batch' in the release 0.20. This warning was introduced in 0.18.\n",
      "  DeprecationWarning)\n",
      "C:\\ProgramData\\Anaconda3\\lib\\site-packages\\sklearn\\decomposition\\online_lda.py:536: DeprecationWarning: The default value for 'learning_method' will be changed from 'online' to 'batch' in the release 0.20. This warning was introduced in 0.18.\n",
      "  DeprecationWarning)\n",
      "C:\\ProgramData\\Anaconda3\\lib\\site-packages\\sklearn\\decomposition\\online_lda.py:536: DeprecationWarning: The default value for 'learning_method' will be changed from 'online' to 'batch' in the release 0.20. This warning was introduced in 0.18.\n",
      "  DeprecationWarning)\n",
      "C:\\ProgramData\\Anaconda3\\lib\\site-packages\\sklearn\\decomposition\\online_lda.py:536: DeprecationWarning: The default value for 'learning_method' will be changed from 'online' to 'batch' in the release 0.20. This warning was introduced in 0.18.\n",
      "  DeprecationWarning)\n",
      "C:\\ProgramData\\Anaconda3\\lib\\site-packages\\sklearn\\decomposition\\online_lda.py:536: DeprecationWarning: The default value for 'learning_method' will be changed from 'online' to 'batch' in the release 0.20. This warning was introduced in 0.18.\n",
      "  DeprecationWarning)\n",
      "C:\\ProgramData\\Anaconda3\\lib\\site-packages\\sklearn\\decomposition\\online_lda.py:536: DeprecationWarning: The default value for 'learning_method' will be changed from 'online' to 'batch' in the release 0.20. This warning was introduced in 0.18.\n",
      "  DeprecationWarning)\n",
      "C:\\ProgramData\\Anaconda3\\lib\\site-packages\\sklearn\\decomposition\\online_lda.py:536: DeprecationWarning: The default value for 'learning_method' will be changed from 'online' to 'batch' in the release 0.20. This warning was introduced in 0.18.\n",
      "  DeprecationWarning)\n",
      "C:\\ProgramData\\Anaconda3\\lib\\site-packages\\sklearn\\decomposition\\online_lda.py:536: DeprecationWarning: The default value for 'learning_method' will be changed from 'online' to 'batch' in the release 0.20. This warning was introduced in 0.18.\n",
      "  DeprecationWarning)\n",
      "C:\\ProgramData\\Anaconda3\\lib\\site-packages\\sklearn\\decomposition\\online_lda.py:536: DeprecationWarning: The default value for 'learning_method' will be changed from 'online' to 'batch' in the release 0.20. This warning was introduced in 0.18.\n",
      "  DeprecationWarning)\n",
      "C:\\ProgramData\\Anaconda3\\lib\\site-packages\\sklearn\\decomposition\\online_lda.py:536: DeprecationWarning: The default value for 'learning_method' will be changed from 'online' to 'batch' in the release 0.20. This warning was introduced in 0.18.\n",
      "  DeprecationWarning)\n",
      "C:\\ProgramData\\Anaconda3\\lib\\site-packages\\sklearn\\decomposition\\online_lda.py:536: DeprecationWarning: The default value for 'learning_method' will be changed from 'online' to 'batch' in the release 0.20. This warning was introduced in 0.18.\n",
      "  DeprecationWarning)\n",
      "C:\\ProgramData\\Anaconda3\\lib\\site-packages\\sklearn\\decomposition\\online_lda.py:536: DeprecationWarning: The default value for 'learning_method' will be changed from 'online' to 'batch' in the release 0.20. This warning was introduced in 0.18.\n",
      "  DeprecationWarning)\n",
      "C:\\ProgramData\\Anaconda3\\lib\\site-packages\\sklearn\\decomposition\\online_lda.py:536: DeprecationWarning: The default value for 'learning_method' will be changed from 'online' to 'batch' in the release 0.20. This warning was introduced in 0.18.\n",
      "  DeprecationWarning)\n",
      "C:\\ProgramData\\Anaconda3\\lib\\site-packages\\sklearn\\decomposition\\online_lda.py:536: DeprecationWarning: The default value for 'learning_method' will be changed from 'online' to 'batch' in the release 0.20. This warning was introduced in 0.18.\n",
      "  DeprecationWarning)\n",
      "C:\\ProgramData\\Anaconda3\\lib\\site-packages\\sklearn\\decomposition\\online_lda.py:536: DeprecationWarning: The default value for 'learning_method' will be changed from 'online' to 'batch' in the release 0.20. This warning was introduced in 0.18.\n",
      "  DeprecationWarning)\n",
      "C:\\ProgramData\\Anaconda3\\lib\\site-packages\\sklearn\\decomposition\\online_lda.py:536: DeprecationWarning: The default value for 'learning_method' will be changed from 'online' to 'batch' in the release 0.20. This warning was introduced in 0.18.\n",
      "  DeprecationWarning)\n",
      "C:\\ProgramData\\Anaconda3\\lib\\site-packages\\sklearn\\decomposition\\online_lda.py:536: DeprecationWarning: The default value for 'learning_method' will be changed from 'online' to 'batch' in the release 0.20. This warning was introduced in 0.18.\n",
      "  DeprecationWarning)\n",
      "C:\\ProgramData\\Anaconda3\\lib\\site-packages\\sklearn\\decomposition\\online_lda.py:536: DeprecationWarning: The default value for 'learning_method' will be changed from 'online' to 'batch' in the release 0.20. This warning was introduced in 0.18.\n",
      "  DeprecationWarning)\n",
      "C:\\ProgramData\\Anaconda3\\lib\\site-packages\\sklearn\\decomposition\\online_lda.py:536: DeprecationWarning: The default value for 'learning_method' will be changed from 'online' to 'batch' in the release 0.20. This warning was introduced in 0.18.\n",
      "  DeprecationWarning)\n",
      "C:\\ProgramData\\Anaconda3\\lib\\site-packages\\sklearn\\decomposition\\online_lda.py:536: DeprecationWarning: The default value for 'learning_method' will be changed from 'online' to 'batch' in the release 0.20. This warning was introduced in 0.18.\n",
      "  DeprecationWarning)\n",
      "C:\\ProgramData\\Anaconda3\\lib\\site-packages\\sklearn\\decomposition\\online_lda.py:536: DeprecationWarning: The default value for 'learning_method' will be changed from 'online' to 'batch' in the release 0.20. This warning was introduced in 0.18.\n",
      "  DeprecationWarning)\n"
     ]
    },
    {
     "data": {
      "text/plain": [
       "GridSearchCV(cv=None, error_score='raise',\n",
       "       estimator=LatentDirichletAllocation(batch_size=128, doc_topic_prior=None,\n",
       "             evaluate_every=-1, learning_decay=0.7, learning_method=None,\n",
       "             learning_offset=10.0, max_doc_update_iter=100, max_iter=10,\n",
       "             mean_change_tol=0.001, n_components=10, n_jobs=1,\n",
       "             n_topics=None, perp_tol=0.1, random_state=None,\n",
       "             topic_word_prior=None, total_samples=1000000.0, verbose=0),\n",
       "       fit_params=None, iid=True, n_jobs=1,\n",
       "       param_grid={'n_components': [3, 10, 15, 20, 25, 30], 'learning_decay': [0.5, 0.7, 0.9]},\n",
       "       pre_dispatch='2*n_jobs', refit=True, return_train_score='warn',\n",
       "       scoring=None, verbose=0)"
      ]
     },
     "execution_count": 57,
     "metadata": {},
     "output_type": "execute_result"
    }
   ],
   "source": [
    "# Define Search Param\n",
    "search_params = {'n_components': [3,10,15,20,25,30], 'learning_decay': [.5, .7, .9]}\n",
    "\n",
    "# Init the Model\n",
    "lda = LatentDirichletAllocation()\n",
    "\n",
    "# Init Grid Search Class\n",
    "model = GridSearchCV(lda, param_grid=search_params)\n",
    "\n",
    "# Do the Grid Search\n",
    "model.fit(data_vectorized)"
   ]
  },
  {
   "cell_type": "markdown",
   "metadata": {},
   "source": [
    "# 11. Best topic model and its parameters"
   ]
  },
  {
   "cell_type": "code",
   "execution_count": 58,
   "metadata": {},
   "outputs": [
    {
     "name": "stdout",
     "output_type": "stream",
     "text": [
      "Best Model's Parameters:  {'learning_decay': 0.7, 'n_components': 3}\n",
      "Best Log Likelihood Score:  -34957.1042360079\n",
      "Model Perplexity:  143.5220105202665\n"
     ]
    }
   ],
   "source": [
    "# Best model\n",
    "best_lda_model = model.best_estimator_\n",
    "\n",
    "# Model Parameters\n",
    "print(\"Best Model's Parameters: \", model.best_params_)\n",
    "\n",
    "# Log Likelihood Score\n",
    "print(\"Best Log Likelihood Score: \", model.best_score_)\n",
    "\n",
    "# Perplexity\n",
    "print(\"Model Perplexity: \", best_lda_model.perplexity(data_vectorized))"
   ]
  },
  {
   "cell_type": "markdown",
   "metadata": {},
   "source": [
    "# 12. Comparing LDA Model Peformance Scores"
   ]
  },
  {
   "cell_type": "code",
   "execution_count": 55,
   "metadata": {},
   "outputs": [
    {
     "name": "stderr",
     "output_type": "stream",
     "text": [
      "C:\\ProgramData\\Anaconda3\\lib\\site-packages\\sklearn\\model_selection\\_search.py:761: DeprecationWarning: The grid_scores_ attribute was deprecated in version 0.18 in favor of the more elaborate cv_results_ attribute. The grid_scores_ attribute will not be available from 0.20\n",
      "  DeprecationWarning)\n",
      "C:\\ProgramData\\Anaconda3\\lib\\site-packages\\sklearn\\model_selection\\_search.py:761: DeprecationWarning: The grid_scores_ attribute was deprecated in version 0.18 in favor of the more elaborate cv_results_ attribute. The grid_scores_ attribute will not be available from 0.20\n",
      "  DeprecationWarning)\n",
      "C:\\ProgramData\\Anaconda3\\lib\\site-packages\\sklearn\\model_selection\\_search.py:761: DeprecationWarning: The grid_scores_ attribute was deprecated in version 0.18 in favor of the more elaborate cv_results_ attribute. The grid_scores_ attribute will not be available from 0.20\n",
      "  DeprecationWarning)\n"
     ]
    },
    {
     "data": {
      "image/png": "[encoded data removed]",
      "text/plain": [
       "<matplotlib.figure.Figure at 0x277888e3b38>"
      ]
     },
     "metadata": {},
     "output_type": "display_data"
    }
   ],
   "source": [
    "# Get Log Likelihoods from Grid Search Output\n",
    "n_topics = [10,15,20,25,30]\n",
    "log_likelyhoods_5 = [round(gscore.mean_validation_score) for gscore in model.grid_scores_ if gscore.parameters['learning_decay'] == 0.5]\n",
    "log_likelyhoods_7 = [round(gscore.mean_validation_score) for gscore in model.grid_scores_ if gscore.parameters['learning_decay'] == 0.7]\n",
    "log_likelyhoods_9 = [round(gscore.mean_validation_score) for gscore in model.grid_scores_ if gscore.parameters['learning_decay'] == 0.9]\n",
    "\n",
    "# Show graph\n",
    "plt.figure(figsize=(12,8))\n",
    "plt.plot(n_topics, log_likelyhoods_5, label='0.5')\n",
    "plt.plot(n_topics, log_likelyhoods_7, label='0.7')\n",
    "plt.plot(n_topics, log_likelyhoods_9, label='0.9')\n",
    "plt.title(\"Choosing Optimal LDA Model\")\n",
    "plt.xlabel(\"Num Topics\")\n",
    "plt.ylabel(\"Log Likelihood Scores\")\n",
    "plt.legend(title='Learning decay', loc='best')\n",
    "plt.show()"
   ]
  },
  {
   "cell_type": "markdown",
   "metadata": {},
   "source": [
    "# 13. Dominant Topic in each Document"
   ]
  },
  {
   "cell_type": "code",
   "execution_count": null,
   "metadata": {
    "collapsed": true
   },
   "outputs": [],
   "source": []
  },
  {
   "cell_type": "markdown",
   "metadata": {},
   "source": [
    "# 14. Topics Distribution across Documents"
   ]
  },
  {
   "cell_type": "code",
   "execution_count": null,
   "metadata": {
    "collapsed": true
   },
   "outputs": [],
   "source": []
  },
  {
   "cell_type": "markdown",
   "metadata": {},
   "source": [
    "# 15. Visualizing LDA Model"
   ]
  },
  {
   "cell_type": "code",
   "execution_count": 59,
   "metadata": {},
   "outputs": [
    {
     "data": {
      "text/html": [
       "\n",
       "<link rel=\"stylesheet\" type=\"text/css\" href=\"https://cdn.rawgit.com/bmabey/pyLDAvis/files/ldavis.v1.0.0.css\">\n",
       "\n",
       "\n",
       "<div id=\"ldavis_el512427125477082648654861688\"></div>\n",
       "<script type=\"text/javascript\">\n",
       "\n",
       "var ldavis_el512427125477082648654861688_data = {\"mdsDat\": {\"Freq\": [40.1741146842499, 35.812008996463156, 24.013876319286943], \"cluster\": [1, 1, 1], \"topics\": [1, 2, 3], \"x\": [-372.1424560546875, -437.7695617675781, -620.1272583007812], \"y\": [-195.24327087402344, -443.70355224609375, -262.63836669921875]}, \"tinfo\": {\"Category\": [\"Default\", \"Default\", \"Default\", \"Default\", \"Default\", \"Default\", \"Default\", \"Default\", \"Default\", \"Default\", \"Default\", \"Default\", \"Default\", \"Default\", \"Default\", \"Default\", \"Default\", \"Default\", \"Default\", \"Default\", \"Default\", \"Default\", \"Default\", \"Default\", \"Default\", \"Default\", \"Default\", \"Default\", \"Default\", \"Default\", \"Topic1\", \"Topic1\", \"Topic1\", \"Topic1\", \"Topic1\", \"Topic1\", \"Topic1\", \"Topic1\", \"Topic1\", \"Topic1\", \"Topic1\", \"Topic1\", \"Topic1\", \"Topic1\", \"Topic1\", \"Topic1\", \"Topic1\", \"Topic1\", \"Topic1\", \"Topic1\", \"Topic1\", \"Topic1\", \"Topic1\", \"Topic1\", \"Topic1\", \"Topic1\", \"Topic1\", \"Topic1\", \"Topic1\", \"Topic1\", \"Topic1\", \"Topic1\", \"Topic1\", \"Topic1\", \"Topic1\", \"Topic1\", \"Topic1\", \"Topic1\", \"Topic1\", \"Topic1\", \"Topic1\", \"Topic1\", \"Topic1\", \"Topic2\", \"Topic2\", \"Topic2\", \"Topic2\", \"Topic2\", \"Topic2\", \"Topic2\", \"Topic2\", \"Topic2\", \"Topic2\", \"Topic2\", \"Topic2\", \"Topic2\", \"Topic2\", \"Topic2\", \"Topic2\", \"Topic2\", \"Topic2\", \"Topic2\", \"Topic2\", \"Topic2\", \"Topic2\", \"Topic2\", \"Topic2\", \"Topic2\", \"Topic2\", \"Topic2\", \"Topic2\", \"Topic2\", \"Topic2\", \"Topic2\", \"Topic2\", \"Topic2\", \"Topic2\", \"Topic2\", \"Topic2\", \"Topic2\", \"Topic2\", \"Topic2\", \"Topic2\", \"Topic2\", \"Topic2\", \"Topic2\", \"Topic2\", \"Topic3\", \"Topic3\", \"Topic3\", \"Topic3\", \"Topic3\", \"Topic3\", \"Topic3\", \"Topic3\", \"Topic3\", \"Topic3\", \"Topic3\", \"Topic3\", \"Topic3\", \"Topic3\", \"Topic3\", \"Topic3\", \"Topic3\", \"Topic3\", \"Topic3\", \"Topic3\", \"Topic3\", \"Topic3\", \"Topic3\", \"Topic3\", \"Topic3\", \"Topic3\", \"Topic3\", \"Topic3\", \"Topic3\", \"Topic3\", \"Topic3\", \"Topic3\", \"Topic3\", \"Topic3\", \"Topic3\", \"Topic3\", \"Topic3\", \"Topic3\"], \"Freq\": [242.0, 170.0, 164.0, 185.0, 163.0, 137.0, 129.0, 128.0, 128.0, 128.0, 128.0, 127.0, 127.0, 127.0, 127.0, 257.0, 113.0, 77.0, 76.0, 73.0, 118.0, 70.0, 70.0, 70.0, 70.0, 70.0, 70.0, 70.0, 70.0, 99.0, 163.13612065352171, 184.20691724198613, 117.49354540932586, 109.94257998970734, 67.69270810631163, 67.86629056570101, 66.79799435191367, 68.16111641347442, 61.504096588576665, 80.18274382081039, 51.8122227743992, 47.00361338657256, 48.69060703959498, 47.905626128097516, 63.161989567112855, 44.25063492285204, 42.010160768939244, 41.02669895406582, 45.791743379312614, 38.42891401634772, 38.28796128955388, 36.3091780271087, 36.57360811825066, 36.46095803614689, 35.335234507569304, 34.90300460298689, 34.57009715954109, 34.56837158363501, 33.61690671375554, 33.615660716177466, 34.2993695841889, 224.8511120878742, 48.31897862334203, 108.34229862881045, 366.7293441690222, 105.04706771434364, 543.0349079549798, 644.2422533321217, 56.20876826818096, 66.01787003644036, 44.550617837196356, 46.953335391146794, 46.77217169974929, 163.67936151248435, 169.81520371849254, 137.0930105657281, 128.77082420049888, 127.88206751239605, 127.88194338976508, 127.8815877341969, 128.12290361299463, 127.04742146215656, 127.04744531136258, 127.04729427340789, 127.04723626992987, 98.61968026521899, 98.61966469572626, 94.82871401394848, 111.7504476766573, 50.09331764503068, 47.61908698445541, 49.069327575513334, 46.69494020257652, 46.03009444879921, 45.69679033576073, 43.97427320841523, 45.04747859477218, 41.43318259278269, 42.48704318553728, 40.754628733693046, 42.9567820518886, 39.92174780309359, 40.01517212391647, 64.40243015163847, 65.49157477414583, 47.99210885218388, 51.527756801880486, 69.62168759000285, 51.350274926699655, 77.33158704668182, 634.2816429891537, 396.6075335314842, 244.61169794371784, 105.43303915402224, 74.09449741020208, 64.34415543391516, 51.57151289368087, 76.44810869004284, 76.31558320475648, 73.01785226965274, 69.95811805789342, 69.95816997021294, 69.95814759650283, 69.95810192322631, 69.95816273890718, 69.9580924703701, 69.95809002703166, 69.95803131583011, 67.2095583708795, 64.8097684920964, 64.80722990171815, 63.76973401375947, 63.76943114994729, 63.76940010181399, 63.76936804912746, 63.76927686700555, 63.769152458456, 63.769214694074506, 40.208317272964486, 39.83906157001389, 37.956586683603355, 37.95641181292881, 37.95634432856461, 37.95633813775585, 37.956275164273514, 37.95625980866233, 47.29937452506857, 191.40126223605432, 68.91386295449975, 46.02808999779837, 418.84914635778017, 323.2514266523951, 77.3061065543413, 71.80084801589673, 49.53108969610174], \"Term\": [\"baby\", \"state\", \"law\", \"pro\", \"maga\", \"line\", \"avoid\", \"federal\", \"custody\", \"administration\", \"teenage\", \"transport\", \"parental\", \"facilitate\", \"involvement\", \"life\", \"health\", \"sacrament\", \"absolutely\", \"aborted\", \"vote\", \"hauler\", \"ikphkk\", \"xsbaldkfrt\", \"burn\", \"generate\", \"sicken\", \"waste\", \"electricity\", \"uqdl\", \"maga\", \"pro\", \"vote\", \"prochoice\", \"christian\", \"humanity\", \"child\", \"realdonaldtrump\", \"news\", \"people\", \"don\", \"shouldn\", \"mean\", \"choice\", \"need\", \"god\", \"new\", \"political\", \"look\", \"time\", \"actually\", \"evidence\", \"trump\", \"kill\", \"simply\", \"democrat\", \"preponderance\", \"examine\", \"fairly\", \"ropo\", \"tcot\", \"life\", \"thank\", \"right\", \"abortion\", \"woman\", \"prolife\", \"https\", \"support\", \"say\", \"make\", \"want\", \"amp\", \"law\", \"state\", \"line\", \"avoid\", \"custody\", \"administration\", \"teenage\", \"federal\", \"transport\", \"parental\", \"facilitate\", \"involvement\", \"uqdl\", \"fiprgw\", \"gosnell\", \"health\", \"pregnant\", \"guess\", \"basic\", \"amy\", \"schumer\", \"wonder\", \"keg\", \"medium\", \"regulation\", \"justice\", \"ignore\", \"center\", \"grassley\", \"criminal\", \"week\", \"fight\", \"provide\", \"bigabortion\", \"clinic\", \"false\", \"human\", \"https\", \"prolife\", \"abortion\", \"care\", \"gosnellmovie\", \"amp\", \"believe\", \"sacrament\", \"absolutely\", \"aborted\", \"ikphkk\", \"hauler\", \"xsbaldkfrt\", \"burn\", \"generate\", \"sicken\", \"waste\", \"electricity\", \"mom\", \"contract\", \"sad\", \"fatal\", \"ruczgkjk\", \"warn\", \"newborn\", \"kiss\", \"herpe\", \"virus\", \"isn\", \"searcy\", \"wmqhbab\", \"arguement\", \"lonestarmango\", \"argue\", \"twisted\", \"finy\", \"left\", \"baby\", \"read\", \"tell\", \"https\", \"prolife\", \"care\", \"abortion\", \"gosnellmovie\"], \"Total\": [242.0, 170.0, 164.0, 185.0, 163.0, 137.0, 129.0, 128.0, 128.0, 128.0, 128.0, 127.0, 127.0, 127.0, 127.0, 257.0, 113.0, 77.0, 76.0, 73.0, 118.0, 70.0, 70.0, 70.0, 70.0, 70.0, 70.0, 70.0, 70.0, 99.0, 163.83283778867437, 185.14598242718193, 118.16296931827098, 110.68791179661415, 68.35571240462586, 68.54456399829735, 67.48492018492375, 68.88314742111501, 62.187115593924815, 81.20346252022969, 52.54179415156145, 47.666781319132646, 49.39407676752021, 48.64952892439511, 64.1529361360938, 44.95503881321585, 42.68534324972729, 41.68824672528438, 46.55917944930946, 39.09493351564765, 38.95369762217953, 36.97178930342149, 37.24308588193561, 37.14294985711776, 35.99851590238261, 35.56536092169171, 35.23787456507388, 35.237898992511155, 34.283786127355654, 34.283878617849716, 34.99671631729011, 257.43969366060816, 51.19547482566812, 142.06029611020176, 683.1418901286368, 147.59308237067242, 1262.893868138859, 1697.3730426790557, 77.72979445524876, 116.0416961986495, 61.56533587732529, 86.6842840384121, 111.76184811807119, 164.3800200725807, 170.61064825751748, 137.73790819747563, 129.41680270087576, 128.52373314695177, 128.52364094005415, 128.5237263456953, 128.76769075376785, 127.68896110047503, 127.68898600629014, 127.68889084000803, 127.68899550704914, 99.26120151131859, 99.26124072362217, 95.50531454583074, 113.09505108916453, 50.750543119608864, 48.268276696841234, 49.74280712280779, 47.34221494102834, 46.674379807257935, 46.34390911912277, 44.61604010616754, 45.705166861868484, 42.087741581901284, 43.1586901800707, 41.40419587904732, 43.648827586886576, 40.56973570498362, 40.6671548373472, 65.46191461083424, 66.69602609219687, 48.83741506195629, 52.63031057607384, 73.28978280374838, 53.296532058397034, 88.54641950294797, 1697.3730426790557, 1262.893868138859, 683.1418901286368, 214.86331802046504, 124.22806488909225, 111.76184811807119, 84.95404793390755, 77.10302150315786, 76.97780229273606, 73.67223128734916, 70.6109916193083, 70.61105344838823, 70.61106488742637, 70.61102848159337, 70.61112831647917, 70.61106698779409, 70.61107925111708, 70.61109530086058, 67.8810073066236, 65.46654341189866, 65.4664254472768, 64.4245008662304, 64.42441606631654, 64.42453418707527, 64.4245521796836, 64.42452222714012, 64.42449057692262, 64.42455935012137, 40.87962924640907, 40.50626140766225, 38.60987144169203, 38.60987846076405, 38.609878345173215, 38.60994297022437, 38.60987964917616, 38.60987231837616, 48.29110026307838, 242.4053052753632, 78.30287372380828, 50.13170054225402, 1697.3730426790557, 1262.893868138859, 214.86331802046504, 683.1418901286368, 124.22806488909225], \"loglift\": [30.0, 29.0, 28.0, 27.0, 26.0, 25.0, 24.0, 23.0, 22.0, 21.0, 20.0, 19.0, 18.0, 17.0, 16.0, 15.0, 14.0, 13.0, 12.0, 11.0, 10.0, 9.0, 8.0, 7.0, 6.0, 5.0, 4.0, 3.0, 2.0, 1.0, 0.9077, 0.9069, 0.9063, 0.9052, 0.9022, 0.902, 0.9017, 0.9014, 0.9009, 0.8993, 0.898, 0.8979, 0.8976, 0.8965, 0.8964, 0.8962, 0.896, 0.896, 0.8953, 0.8948, 0.8947, 0.8939, 0.8938, 0.8934, 0.8934, 0.8931, 0.8928, 0.8928, 0.8923, 0.8923, 0.8918, 0.7766, 0.8541, 0.641, 0.2899, 0.5719, 0.068, -0.0568, 0.5878, 0.3479, 0.5885, 0.2988, 0.0409, 1.0226, 1.0222, 1.0222, 1.0219, 1.0219, 1.0219, 1.0219, 1.0219, 1.0219, 1.0218, 1.0218, 1.0218, 1.0204, 1.0204, 1.0198, 1.0149, 1.0139, 1.0133, 1.0133, 1.0131, 1.013, 1.0128, 1.0124, 1.0124, 1.0112, 1.0112, 1.0111, 1.0109, 1.0108, 1.0107, 1.0106, 1.0087, 1.0094, 1.0057, 0.9755, 0.9897, 0.8915, 0.0425, -0.1313, -0.0001, 0.315, 0.5101, 0.4748, 0.5277, 1.418, 1.4179, 1.4176, 1.4172, 1.4172, 1.4172, 1.4172, 1.4172, 1.4172, 1.4172, 1.4172, 1.4166, 1.4165, 1.4164, 1.4163, 1.4163, 1.4163, 1.4163, 1.4163, 1.4163, 1.4163, 1.41, 1.4099, 1.4095, 1.4095, 1.4095, 1.4095, 1.4095, 1.4095, 1.4058, 1.1903, 1.2988, 1.3411, 0.0272, 0.0638, 0.4043, -0.8263, 0.507], \"logprob\": [30.0, 29.0, 28.0, 27.0, 26.0, 25.0, 24.0, 23.0, 22.0, 21.0, 20.0, 19.0, 18.0, 17.0, 16.0, 15.0, 14.0, 13.0, 12.0, 11.0, 10.0, 9.0, 8.0, 7.0, 6.0, 5.0, 4.0, 3.0, 2.0, 1.0, -3.8306, -3.7091, -4.1588, -4.2252, -4.7102, -4.7076, -4.7235, -4.7033, -4.8061, -4.5409, -4.9776, -5.075, -5.0397, -5.056, -4.7795, -5.1353, -5.1873, -5.211, -5.1011, -5.2764, -5.2801, -5.3331, -5.3259, -5.3289, -5.3603, -5.3726, -5.3822, -5.3822, -5.4102, -5.4102, -5.3901, -3.5097, -5.0474, -4.2399, -3.0206, -4.2708, -2.628, -2.4571, -4.8961, -4.7353, -5.1286, -5.076, -5.0799, -3.7123, -3.6755, -3.8896, -3.9522, -3.9591, -3.9591, -3.9591, -3.9573, -3.9657, -3.9657, -3.9657, -3.9657, -4.219, -4.219, -4.2582, -4.094, -4.8964, -4.947, -4.917, -4.9666, -4.981, -4.9882, -5.0266, -5.0025, -5.0862, -5.061, -5.1027, -5.0501, -5.1233, -5.121, -4.6451, -4.6283, -4.9392, -4.8681, -4.5672, -4.8716, -4.4621, -2.3578, -2.8273, -3.3106, -4.1522, -4.5049, -4.646, -4.8673, -4.074, -4.0757, -4.1199, -4.1627, -4.1627, -4.1627, -4.1627, -4.1627, -4.1627, -4.1627, -4.1627, -4.2028, -4.2391, -4.2392, -4.2553, -4.2553, -4.2553, -4.2553, -4.2553, -4.2553, -4.2553, -4.7165, -4.7257, -4.7742, -4.7742, -4.7742, -4.7742, -4.7742, -4.7742, -4.5541, -3.1562, -4.1777, -4.5813, -2.3731, -2.6322, -4.0628, -4.1367, -4.508]}, \"token.table\": {\"Topic\": [3, 1, 2, 3, 3, 1, 2, 1, 2, 3, 2, 3, 3, 2, 1, 2, 3, 2, 1, 2, 3, 2, 3, 3, 1, 2, 3, 2, 1, 1, 1, 1, 2, 3, 3, 2, 2, 1, 1, 3, 1, 1, 2, 1, 2, 3, 3, 2, 2, 3, 3, 2, 3, 1, 2, 1, 2, 3, 2, 2, 3, 1, 2, 3, 1, 2, 3, 1, 2, 3, 1, 2, 3, 2, 3, 2, 2, 1, 3, 2, 1, 3, 1, 2, 3, 2, 3, 1, 1, 1, 3, 1, 2, 3, 1, 2, 1, 3, 1, 2, 1, 3, 1, 2, 1, 1, 2, 1, 1, 2, 3, 1, 2, 1, 3, 1, 2, 1, 2, 3, 1, 3, 3, 3, 1, 2, 2, 3, 1, 3, 1, 2, 1, 2, 1, 2, 1, 3, 1, 3, 1, 2, 1, 3, 2, 3, 1, 1, 2, 3, 3, 1, 2, 3, 1, 2, 2, 3], \"Freq\": [0.9908753776612628, 0.5372236797408124, 0.3586370614073543, 0.10539538131154902, 0.9872976070553741, 0.9755171477832565, 0.9959257227991356, 0.42053706869938917, 0.5726462212076788, 0.008947597206369982, 0.9927714632394234, 0.984202437939503, 0.984204082346858, 0.9967793772355887, 0.004125322252596898, 0.2062661126298449, 0.7879365502460075, 0.9850670445482921, 0.3295899451640422, 0.6120956124475069, 0.05885534735072182, 0.988023810439751, 0.019000457893072135, 0.9913465574042354, 0.1489318897930828, 0.48868276338355293, 0.3583673598146055, 0.9851352803097625, 0.9928143919620123, 0.9866488136934578, 0.9947961568665944, 0.04093340006250593, 0.9551126681251384, 0.013644466687501976, 0.9928735597209817, 0.9835947501118395, 0.9959250082912473, 0.9841036079196123, 0.9896883203112822, 0.9913456192931603, 0.9737153834929066, 0.9932487747762228, 0.9946049273709238, 0.9917224391057201, 0.956910290975767, 0.03752589376375557, 0.9934108784620338, 0.9940381725472126, 0.9745708074143371, 0.014993397037143648, 0.9842042389224401, 0.9973681497257368, 0.9913451557700638, 0.9787556892747007, 0.9947090426513568, 0.008049710835412073, 0.5956786018204934, 0.40248554177060364, 0.9859566325714655, 0.9944419665419961, 0.991346206881974, 0.008842119883845284, 0.9903174269906719, 0.9934110371208014, 0.37940981964903836, 0.3735183628221899, 0.24685204104494887, 0.05646755710809442, 0.8696003794646541, 0.0790545799513322, 0.9920553291678845, 0.9902378039117561, 0.991347074934135, 0.9946041120903711, 0.978482455378767, 0.9731527955265485, 0.9861924073785656, 0.9692283498883507, 0.9934105490818638, 0.9976881614175926, 0.02070774934826995, 0.9732642193686876, 0.873991095936532, 0.11264774125404191, 0.015537619483316126, 0.9946426644114728, 0.984204085293383, 0.9879899204426861, 0.994916539321936, 0.730930796668871, 0.2761294120749068, 0.9920217808832629, 0.9845713972776938, 0.9870212988642902, 0.9820283184911761, 0.015587751087161525, 0.983944295686748, 0.9934100872211031, 0.9969910874280348, 0.9946041860943574, 0.9851796649689676, 0.012314745812112095, 0.9834906291497515, 0.9852111312810982, 0.9932494633115684, 0.9938103845832429, 0.005401143394474146, 0.9937851226439418, 0.42996487171184483, 0.31435737397716834, 0.25576179293356516, 0.020476104206813086, 0.9828530019270281, 0.11493831033258128, 0.8811937125497898, 0.987179049532741, 0.9741553825171498, 0.7602405665564722, 0.007039264505152521, 0.2322957286700332, 0.9917197636529399, 0.9934121860587816, 0.9856941857575233, 0.9928753487900078, 0.5687610760792042, 0.43087960309030626, 0.9855513922189691, 0.9875016506073679, 0.9860116143637118, 0.9913460167950766, 0.9722623036713434, 0.996420808057679, 0.7204444626730716, 0.27016667350240187, 0.9715197189286676, 0.9959250609939007, 0.07978983271530074, 0.9175830762259586, 0.9375828657405871, 0.058598929108786696, 0.9719929561918963, 0.9946043800925524, 0.9934729930085219, 0.984204052053056, 0.9973685437276436, 0.9934099766548024, 0.99015792066685, 0.5421974758327941, 0.44990854377614825, 0.993410364662591, 0.9913458446238462, 0.0152760579329969, 0.9776677077118016, 0.9842042612699955, 0.7114154560191237, 0.28456618240764947, 0.9925791948573267, 0.991346046283248], \"Term\": [\"aborted\", \"abortion\", \"abortion\", \"abortion\", \"absolutely\", \"actually\", \"administration\", \"amp\", \"amp\", \"amp\", \"amy\", \"argue\", \"arguement\", \"avoid\", \"baby\", \"baby\", \"baby\", \"basic\", \"believe\", \"believe\", \"believe\", \"bigabortion\", \"bigabortion\", \"burn\", \"care\", \"care\", \"care\", \"center\", \"child\", \"choice\", \"christian\", \"clinic\", \"clinic\", \"clinic\", \"contract\", \"criminal\", \"custody\", \"democrat\", \"don\", \"electricity\", \"evidence\", \"examine\", \"facilitate\", \"fairly\", \"false\", \"false\", \"fatal\", \"federal\", \"fight\", \"fight\", \"finy\", \"fiprgw\", \"generate\", \"god\", \"gosnell\", \"gosnellmovie\", \"gosnellmovie\", \"gosnellmovie\", \"grassley\", \"guess\", \"hauler\", \"health\", \"health\", \"herpe\", \"https\", \"https\", \"https\", \"human\", \"human\", \"human\", \"humanity\", \"ignore\", \"ikphkk\", \"involvement\", \"isn\", \"justice\", \"keg\", \"kill\", \"kiss\", \"law\", \"left\", \"left\", \"life\", \"life\", \"life\", \"line\", \"lonestarmango\", \"look\", \"maga\", \"make\", \"make\", \"mean\", \"medium\", \"mom\", \"need\", \"need\", \"new\", \"newborn\", \"news\", \"parental\", \"people\", \"people\", \"political\", \"pregnant\", \"preponderance\", \"pro\", \"pro\", \"prochoice\", \"prolife\", \"prolife\", \"prolife\", \"provide\", \"provide\", \"read\", \"read\", \"realdonaldtrump\", \"regulation\", \"right\", \"right\", \"right\", \"ropo\", \"ruczgkjk\", \"sacrament\", \"sad\", \"say\", \"say\", \"schumer\", \"searcy\", \"shouldn\", \"sicken\", \"simply\", \"state\", \"support\", \"support\", \"tcot\", \"teenage\", \"tell\", \"tell\", \"thank\", \"thank\", \"time\", \"transport\", \"trump\", \"twisted\", \"uqdl\", \"virus\", \"vote\", \"want\", \"want\", \"warn\", \"waste\", \"week\", \"week\", \"wmqhbab\", \"woman\", \"woman\", \"wonder\", \"xsbaldkfrt\"]}, \"R\": 30, \"lambda.step\": 0.01, \"plot.opts\": {\"xlab\": \"PC1\", \"ylab\": \"PC2\"}, \"topic.order\": [1, 3, 2]};\n",
       "\n",
       "function LDAvis_load_lib(url, callback){\n",
       "  var s = document.createElement('script');\n",
       "  s.src = url;\n",
       "  s.async = true;\n",
       "  s.onreadystatechange = s.onload = callback;\n",
       "  s.onerror = function(){console.warn(\"failed to load library \" + url);};\n",
       "  document.getElementsByTagName(\"head\")[0].appendChild(s);\n",
       "}\n",
       "\n",
       "if(typeof(LDAvis) !== \"undefined\"){\n",
       "   // already loaded: just create the visualization\n",
       "   !function(LDAvis){\n",
       "       new LDAvis(\"#\" + \"ldavis_el512427125477082648654861688\", ldavis_el512427125477082648654861688_data);\n",
       "   }(LDAvis);\n",
       "}else if(typeof define === \"function\" && define.amd){\n",
       "   // require.js is available: use it to load d3/LDAvis\n",
       "   require.config({paths: {d3: \"https://cdnjs.cloudflare.com/ajax/libs/d3/3.5.5/d3.min\"}});\n",
       "   require([\"d3\"], function(d3){\n",
       "      window.d3 = d3;\n",
       "      LDAvis_load_lib(\"https://cdn.rawgit.com/bmabey/pyLDAvis/files/ldavis.v1.0.0.js\", function(){\n",
       "        new LDAvis(\"#\" + \"ldavis_el512427125477082648654861688\", ldavis_el512427125477082648654861688_data);\n",
       "      });\n",
       "    });\n",
       "}else{\n",
       "    // require.js not available: dynamically load d3 & LDAvis\n",
       "    LDAvis_load_lib(\"https://cdnjs.cloudflare.com/ajax/libs/d3/3.5.5/d3.min.js\", function(){\n",
       "         LDAvis_load_lib(\"https://cdn.rawgit.com/bmabey/pyLDAvis/files/ldavis.v1.0.0.js\", function(){\n",
       "                 new LDAvis(\"#\" + \"ldavis_el512427125477082648654861688\", ldavis_el512427125477082648654861688_data);\n",
       "            })\n",
       "         });\n",
       "}\n",
       "</script>"
      ],
      "text/plain": [
       "PreparedData(topic_coordinates=            Freq  cluster  topics           x           y\n",
       "topic                                                    \n",
       "0      40.174115        1       1 -372.142456 -195.243271\n",
       "2      35.812009        1       2 -437.769562 -443.703552\n",
       "1      24.013876        1       3 -620.127258 -262.638367, topic_info=     Category        Freq            Term        Total  loglift  logprob\n",
       "term                                                                    \n",
       "25    Default  242.000000            baby   242.000000  30.0000  30.0000\n",
       "371   Default  170.000000           state   170.000000  29.0000  29.0000\n",
       "204   Default  164.000000             law   164.000000  28.0000  28.0000\n",
       "305   Default  185.000000             pro   185.000000  27.0000  27.0000\n",
       "227   Default  163.000000            maga   163.000000  26.0000  26.0000\n",
       "218   Default  137.000000            line   137.000000  25.0000  25.0000\n",
       "24    Default  129.000000           avoid   129.000000  24.0000  24.0000\n",
       "124   Default  128.000000         federal   128.000000  23.0000  23.0000\n",
       "86    Default  128.000000         custody   128.000000  22.0000  22.0000\n",
       "8     Default  128.000000  administration   128.000000  21.0000  21.0000\n",
       "381   Default  128.000000         teenage   128.000000  20.0000  20.0000\n",
       "394   Default  127.000000       transport   127.000000  19.0000  19.0000\n",
       "277   Default  127.000000        parental   127.000000  18.0000  18.0000\n",
       "118   Default  127.000000      facilitate   127.000000  17.0000  17.0000\n",
       "180   Default  127.000000     involvement   127.000000  16.0000  16.0000\n",
       "214   Default  257.000000            life   257.000000  15.0000  15.0000\n",
       "160   Default  113.000000          health   113.000000  14.0000  14.0000\n",
       "342   Default   77.000000       sacrament    77.000000  13.0000  13.0000\n",
       "2     Default   76.000000      absolutely    76.000000  12.0000  12.0000\n",
       "0     Default   73.000000         aborted    73.000000  11.0000  11.0000\n",
       "413   Default  118.000000            vote   118.000000  10.0000  10.0000\n",
       "157   Default   70.000000          hauler    70.000000   9.0000   9.0000\n",
       "176   Default   70.000000          ikphkk    70.000000   8.0000   8.0000\n",
       "440   Default   70.000000      xsbaldkfrt    70.000000   7.0000   7.0000\n",
       "49    Default   70.000000            burn    70.000000   6.0000   6.0000\n",
       "139   Default   70.000000        generate    70.000000   5.0000   5.0000\n",
       "360   Default   70.000000          sicken    70.000000   4.0000   4.0000\n",
       "421   Default   70.000000           waste    70.000000   3.0000   3.0000\n",
       "106   Default   70.000000     electricity    70.000000   2.0000   2.0000\n",
       "406   Default   99.000000            uqdl    99.000000   1.0000   1.0000\n",
       "...       ...         ...             ...          ...      ...      ...\n",
       "360    Topic3   69.958092          sicken    70.611067   1.4172  -4.1627\n",
       "421    Topic3   69.958090           waste    70.611079   1.4172  -4.1627\n",
       "106    Topic3   69.958031     electricity    70.611095   1.4172  -4.1627\n",
       "243    Topic3   67.209558             mom    67.881007   1.4166  -4.2028\n",
       "82     Topic3   64.809768        contract    65.466543   1.4165  -4.2391\n",
       "343    Topic3   64.807230             sad    65.466425   1.4164  -4.2392\n",
       "122    Topic3   63.769734           fatal    64.424501   1.4163  -4.2553\n",
       "340    Topic3   63.769431        ruczgkjk    64.424416   1.4163  -4.2553\n",
       "420    Topic3   63.769400            warn    64.424534   1.4163  -4.2553\n",
       "255    Topic3   63.769368         newborn    64.424552   1.4163  -4.2553\n",
       "199    Topic3   63.769277            kiss    64.424522   1.4163  -4.2553\n",
       "165    Topic3   63.769152           herpe    64.424491   1.4163  -4.2553\n",
       "412    Topic3   63.769215           virus    64.424559   1.4163  -4.2553\n",
       "183    Topic3   40.208317             isn    40.879629   1.4100  -4.7165\n",
       "353    Topic3   39.839062          searcy    40.506261   1.4099  -4.7257\n",
       "432    Topic3   37.956587         wmqhbab    38.609871   1.4095  -4.7742\n",
       "21     Topic3   37.956412       arguement    38.609878   1.4095  -4.7742\n",
       "223    Topic3   37.956344   lonestarmango    38.609878   1.4095  -4.7742\n",
       "20     Topic3   37.956338           argue    38.609943   1.4095  -4.7742\n",
       "401    Topic3   37.956275         twisted    38.609880   1.4095  -4.7742\n",
       "126    Topic3   37.956260            finy    38.609872   1.4095  -4.7742\n",
       "208    Topic3   47.299375            left    48.291100   1.4058  -4.5541\n",
       "25     Topic3  191.401262            baby   242.405305   1.1903  -3.1562\n",
       "319    Topic3   68.913863            read    78.302874   1.2988  -4.1777\n",
       "382    Topic3   46.028090            tell    50.131701   1.3411  -4.5813\n",
       "171    Topic3  418.849146           https  1697.373043   0.0272  -2.3731\n",
       "308    Topic3  323.251427         prolife  1262.893868   0.0638  -2.6322\n",
       "53     Topic3   77.306107            care   214.863318   0.4043  -4.0628\n",
       "1      Topic3   71.800848        abortion   683.141890  -0.8263  -4.1367\n",
       "147    Topic3   49.531090    gosnellmovie   124.228065   0.5070  -4.5080\n",
       "\n",
       "[155 rows x 6 columns], token_table=      Topic      Freq            Term\n",
       "term                                 \n",
       "0         3  0.990875         aborted\n",
       "1         1  0.537224        abortion\n",
       "1         2  0.358637        abortion\n",
       "1         3  0.105395        abortion\n",
       "2         3  0.987298      absolutely\n",
       "6         1  0.975517        actually\n",
       "8         2  0.995926  administration\n",
       "17        1  0.420537             amp\n",
       "17        2  0.572646             amp\n",
       "17        3  0.008948             amp\n",
       "18        2  0.992771             amy\n",
       "20        3  0.984202           argue\n",
       "21        3  0.984204       arguement\n",
       "24        2  0.996779           avoid\n",
       "25        1  0.004125            baby\n",
       "25        2  0.206266            baby\n",
       "25        3  0.787937            baby\n",
       "28        2  0.985067           basic\n",
       "32        1  0.329590         believe\n",
       "32        2  0.612096         believe\n",
       "32        3  0.058855         believe\n",
       "36        2  0.988024     bigabortion\n",
       "36        3  0.019000     bigabortion\n",
       "49        3  0.991347            burn\n",
       "53        1  0.148932            care\n",
       "53        2  0.488683            care\n",
       "53        3  0.358367            care\n",
       "59        2  0.985135          center\n",
       "63        1  0.992814           child\n",
       "64        1  0.986649          choice\n",
       "...     ...       ...             ...\n",
       "359       1  0.986012         shouldn\n",
       "360       3  0.991346          sicken\n",
       "362       1  0.972262          simply\n",
       "371       2  0.996421           state\n",
       "376       1  0.720444         support\n",
       "376       2  0.270167         support\n",
       "379       1  0.971520            tcot\n",
       "381       2  0.995925         teenage\n",
       "382       1  0.079790            tell\n",
       "382       3  0.917583            tell\n",
       "385       1  0.937583           thank\n",
       "385       3  0.058599           thank\n",
       "390       1  0.971993            time\n",
       "394       2  0.994604       transport\n",
       "396       1  0.993473           trump\n",
       "401       3  0.984204         twisted\n",
       "406       2  0.997369            uqdl\n",
       "412       3  0.993410           virus\n",
       "413       1  0.990158            vote\n",
       "419       1  0.542197            want\n",
       "419       2  0.449909            want\n",
       "420       3  0.993410            warn\n",
       "421       3  0.991346           waste\n",
       "425       1  0.015276            week\n",
       "425       2  0.977668            week\n",
       "432       3  0.984204         wmqhbab\n",
       "433       1  0.711415           woman\n",
       "433       2  0.284566           woman\n",
       "435       2  0.992579          wonder\n",
       "440       3  0.991346      xsbaldkfrt\n",
       "\n",
       "[158 rows x 3 columns], R=30, lambda_step=0.01, plot_opts={'xlab': 'PC1', 'ylab': 'PC2'}, topic_order=[1, 3, 2])"
      ]
     },
     "execution_count": 59,
     "metadata": {},
     "output_type": "execute_result"
    }
   ],
   "source": [
    "pyLDAvis.enable_notebook()\n",
    "panel = pyLDAvis.sklearn.prepare(best_lda_model, data_vectorized, vectorizer, mds='tsne')\n",
    "panel"
   ]
  },
  {
   "cell_type": "code",
   "execution_count": null,
   "metadata": {
    "collapsed": true
   },
   "outputs": [],
   "source": []
  }
 ],
 "metadata": {
  "kernelspec": {
   "display_name": "Python 3",
   "language": "python",
   "name": "python3"
  },
  "language_info": {
   "codemirror_mode": {
    "name": "ipython",
    "version": 3
   },
   "file_extension": ".py",
   "mimetype": "text/x-python",
   "name": "python",
   "nbconvert_exporter": "python",
   "pygments_lexer": "ipython3",
   "version": "3.7.2"
  }
 },
 "nbformat": 4,
 "nbformat_minor": 2
}
