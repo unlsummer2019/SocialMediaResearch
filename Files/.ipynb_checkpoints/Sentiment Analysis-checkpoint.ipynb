{
 "cells": [
  {
   "cell_type": "code",
   "execution_count": 4,
   "metadata": {},
   "outputs": [],
   "source": [
    "import re\n",
    "from textblob import TextBlob\n",
    "%run LDA_Example_Functions.ipynb\n",
    "%run functions.ipynb"
   ]
  },
  {
   "cell_type": "code",
   "execution_count": 5,
   "metadata": {},
   "outputs": [],
   "source": [
    "# Import Dataset\n",
    "features1 = featuresExtraction(\"../Data/secondTwitterDataFull.json\")\n",
    "features2 = featuresExtraction(\"../Data/secondTwitterData21.json\")\n",
    "features3 = featuresExtraction(\"../Data/secondTwitterData4.json\")\n",
    "features4 = featuresExtraction(\"../Data/secondTwitterData5.json\")\n",
    "features5 = featuresExtraction(\"../Data/secondTwitterDataFull9.json\")\n",
    "features6 = featuresExtraction(\"../Data/secondTwitterDataFull2.json\")\n",
    "features7 = featuresExtraction(\"../Data/secondTwitterData3.json\")\n",
    "features8 = featuresExtraction(\"../Data/secondTwitterData2.json\")\n",
    "features9 = featuresExtraction(\"../Data/secondTwitterData1.json\")\n",
    "\n",
    "featuresFull = np.append(features1, features2)\n",
    "featuresFull = np.append(featuresFull, features3)\n",
    "featuresFull = np.append(featuresFull, features4)\n",
    "featuresFull = np.append(featuresFull, features5)\n",
    "featuresFull= np.append(featuresFull, features6)\n",
    "featuresFull = np.append(featuresFull, features7)\n",
    "featuresFull = np.append(featuresFull, features8)\n",
    "featuresFull = np.append(featuresFull, features9)"
   ]
  },
  {
   "cell_type": "code",
   "execution_count": null,
   "metadata": {},
   "outputs": [],
   "source": [
    "def get_tweet_sentiment(self, tweet):\n",
    "    \n",
    "    sentiment_tweets = []\n",
    "    \n",
    "    for tweet in tweets:\n",
    "        analysis = TextBlob(self.clean_tweet(tweet))\n",
    "    \n",
    "        if analysis.sentiment.polarity > 0:\n",
    "             sentiment_tweets.append({\"text\": tweet, \"sentiment\": 'positive'})\n",
    "        elif analysis.sentiment.polarity == 0:\n",
    "            sentiment_tweets.append({\"text\": tweet, \"sentiment\": 'neutral'})\n",
    "        else:\n",
    "            sentiment_tweets.append({\"text\": tweet, \"sentiment\": 'negative'})\n",
    "        "
   ]
  }
 ],
 "metadata": {
  "kernelspec": {
   "display_name": "Python 3",
   "language": "python",
   "name": "python3"
  },
  "language_info": {
   "codemirror_mode": {
    "name": "ipython",
    "version": 3
   },
   "file_extension": ".py",
   "mimetype": "text/x-python",
   "name": "python",
   "nbconvert_exporter": "python",
   "pygments_lexer": "ipython3",
   "version": "3.7.0"
  }
 },
 "nbformat": 4,
 "nbformat_minor": 2
}
