{
 "cells": [
  {
   "cell_type": "code",
   "execution_count": 1,
   "metadata": {},
   "outputs": [],
   "source": [
    "import pandas as pd\n",
    "import numpy as np\n",
    "import matplotlib.pyplot as plt\n",
    "from sklearn.model_selection import train_test_split, GridSearchCV\n",
    "from sklearn.svm import SVC\n",
    "from sklearn.naive_bayes import GaussianNB\n",
    "from sklearn.neighbors import KNeighborsClassifier\n",
    "from sklearn.utils import shuffle\n",
    "import urllib\n",
    "import re\n",
    "from datetime import datetime\n",
    "from datetime import timedelta\n",
    "from sklearn.metrics import f1_score, accuracy_score, precision_score, recall_score, confusion_matrix\n",
    "%run functions.ipynb\n",
    "%matplotlib inline"
   ]
  },
  {
   "cell_type": "code",
   "execution_count": null,
   "metadata": {},
   "outputs": [],
   "source": [
    "# Converting tweets to their features values and holding them in a csv file\n",
    "cred_Processing(\"/media/eric/TOSHIBA EXT/University/Research/Data/CREDBANK/cred_event_SearchTweets.data\")"
   ]
  },
  {
   "cell_type": "code",
   "execution_count": null,
   "metadata": {},
   "outputs": [],
   "source": [
    "rating_processing(\"/media/eric/TOSHIBA EXT/University/Research/Data/CREDBANK/cred_event_TurkRatings.data\", \"outputTweets.json\")"
   ]
  },
  {
   "cell_type": "code",
   "execution_count": null,
   "metadata": {},
   "outputs": [],
   "source": [
    "labels = binaryConversion(\"/media/eric/TOSHIBA EXT/University/Research/Data/CREDBANK/finalOutput.json\")"
   ]
  },
  {
   "cell_type": "markdown",
   "metadata": {},
   "source": [
    "# Data Partition"
   ]
  },
  {
   "cell_type": "code",
   "execution_count": null,
   "metadata": {},
   "outputs": [],
   "source": [
    "tweets = {}\n",
    "missing = []\n",
    "for key, value in labels.items():\n",
    "    for subdir, dirs, files in os.walk(\"/media/eric/TOSHIBA EXT/University/Research/Data/singleFileEventData\"):\n",
    "         for file in files:\n",
    "            if(file == str(key)+\".json\"):\n",
    "                print(file)\n",
    "                try:\n",
    "                    with open(subdir+os.sep+file) as f:\n",
    "                        first = True\n",
    "                        for line in f:\n",
    "                            tweet = json.loads(line)\n",
    "                            if(first == True):\n",
    "                                tweets[key] = [{'id': tweet['id'], 'tweet': tweet, 'label': value}]\n",
    "                                first = False\n",
    "                            else:\n",
    "                                tweets[key].append({'id': tweet['id'], 'tweet': tweet, 'label': value})\n",
    "    \n",
    "                except Exception as e:\n",
    "                    print(e)\n",
    "                    missing.append(key)\n",
    "                    continue"
   ]
  },
  {
   "cell_type": "code",
   "execution_count": null,
   "metadata": {},
   "outputs": [],
   "source": [
    "features = retrieveFeatures(tweets)"
   ]
  },
  {
   "cell_type": "code",
   "execution_count": null,
   "metadata": {},
   "outputs": [],
   "source": []
  }
 ],
 "metadata": {
  "kernelspec": {
   "display_name": "Python 3",
   "language": "python",
   "name": "python3"
  },
  "language_info": {
   "codemirror_mode": {
    "name": "ipython",
    "version": 3
   },
   "file_extension": ".py",
   "mimetype": "text/x-python",
   "name": "python",
   "nbconvert_exporter": "python",
   "pygments_lexer": "ipython3",
   "version": "3.7.3"
  }
 },
 "nbformat": 4,
 "nbformat_minor": 2
}
