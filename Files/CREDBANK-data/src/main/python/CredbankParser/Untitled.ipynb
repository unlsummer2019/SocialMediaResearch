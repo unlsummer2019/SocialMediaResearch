{
 "cells": [
  {
   "cell_type": "code",
   "execution_count": 5,
   "metadata": {},
   "outputs": [
    {
     "ename": "PermissionError",
     "evalue": "[Errno 13] Permission denied: 'C:\\\\Users\\\\eric4\\\\Desktop\\\\University\\\\Research\\\\Data\\\\CREDBANK'",
     "output_type": "error",
     "traceback": [
      "\u001b[1;31m---------------------------------------------------------------------------\u001b[0m",
      "\u001b[1;31mPermissionError\u001b[0m                           Traceback (most recent call last)",
      "\u001b[1;32m<ipython-input-5-2fbeb47e1222>\u001b[0m in \u001b[0;36m<module>\u001b[1;34m()\u001b[0m\n\u001b[0;32m     15\u001b[0m \u001b[0moutputFile\u001b[0m \u001b[1;33m=\u001b[0m \u001b[1;34mr\"C:\\Users\\eric4\\Desktop\\University\\Research\\Data\\CREDBANK\"\u001b[0m\u001b[1;33m\u001b[0m\u001b[1;33m\u001b[0m\u001b[0m\n\u001b[0;32m     16\u001b[0m \u001b[1;33m\u001b[0m\u001b[0m\n\u001b[1;32m---> 17\u001b[1;33m \u001b[0moutput\u001b[0m \u001b[1;33m=\u001b[0m \u001b[0mopen\u001b[0m\u001b[1;33m(\u001b[0m\u001b[0moutputFile\u001b[0m\u001b[1;33m,\u001b[0m \u001b[1;34m\"w\"\u001b[0m\u001b[1;33m)\u001b[0m\u001b[1;33m\u001b[0m\u001b[1;33m\u001b[0m\u001b[0m\n\u001b[0m\u001b[0;32m     18\u001b[0m \u001b[1;33m\u001b[0m\u001b[0m\n\u001b[0;32m     19\u001b[0m \u001b[1;32mwith\u001b[0m \u001b[0mopen\u001b[0m\u001b[1;33m(\u001b[0m\u001b[0minputFile\u001b[0m\u001b[1;33m,\u001b[0m \u001b[1;34m\"r\"\u001b[0m\u001b[1;33m)\u001b[0m \u001b[1;32mas\u001b[0m \u001b[0mf\u001b[0m\u001b[1;33m:\u001b[0m\u001b[1;33m\u001b[0m\u001b[1;33m\u001b[0m\u001b[0m\n",
      "\u001b[1;31mPermissionError\u001b[0m: [Errno 13] Permission denied: 'C:\\\\Users\\\\eric4\\\\Desktop\\\\University\\\\Research\\\\Data\\\\CREDBANK'"
     ]
    }
   ],
   "source": [
    "#!/usr/bin/python\n",
    "\n",
    "# Given a file in the format of cred_event_SearchTweets.data,\n",
    "# find the topic key, terms, count, and tweet data. Then output\n",
    "# the topic ID, term count, and list of tweet IDs.\n",
    "\n",
    "import json\n",
    "import sys\n",
    "import re\n",
    "\n",
    "idRegEx = re.compile(r\".*ID=\")\n",
    "endElRegEx = re.compile(r\"'.*\")\n",
    "\n",
    "inputFile = r\"C:\\Users\\eric4\\Desktop\\University\\Research\\Data\\CREDBANK\\cred_event_SearchTweets.data\"\n",
    "outputFile = r\"C:\\Users\\eric4\\Desktop\\University\\Research\\Data\\CREDBANK\"\n",
    "\n",
    "output = open(outputFile, \"w\")\n",
    "\n",
    "with open(inputFile, \"r\") as f:\n",
    "    header = f.next()\n",
    "\n",
    "    for line in f:\n",
    "        topicData = line.split(\"\\t\")\n",
    "\n",
    "        topicKey = topicData[0]\n",
    "        topicTerms = topicData[1]\n",
    "        topicTweetCount = topicData[2]\n",
    "        tweetIdList = topicData[3]\n",
    "\n",
    "        print(topicKey)\n",
    "\n",
    "        realTweetIds = []\n",
    "\n",
    "        # Need to read: [('ID=522759240817971202', 'AUTHOR=i_Celeb_Gossips', 'CreatedAt=2014-10-16 14:41:30'),...]\n",
    "        idElements = tweetIdList.split(\"),\")\n",
    "        for element in idElements:\n",
    "            elArr = element.split(\",\")\n",
    "            idEl = filter(lambda x: \"ID\" in x, elArr)[0]\n",
    "            idEl = idRegEx.sub(\"\", idEl)\n",
    "            idEl = endElRegEx.sub(\"\", idEl)\n",
    "\n",
    "            realTweetIds.append(long(idEl))\n",
    "\n",
    "        realTweetIds = list(set(realTweetIds))\n",
    "\n",
    "        topicMap = {\n",
    "            \"key\" : topicKey,\n",
    "            \"terms\" : topicTerms.split(\",\"),\n",
    "            \"count\" : topicTweetCount,\n",
    "            \"tweets\" : realTweetIds\n",
    "        }\n",
    "\n",
    "        json.dump(topicMap, output, sort_keys=True)\n",
    "        output.write(\"\\n\")\n",
    "\n",
    "output.close()"
   ]
  },
  {
   "cell_type": "code",
   "execution_count": null,
   "metadata": {},
   "outputs": [],
   "source": []
  }
 ],
 "metadata": {
  "kernelspec": {
   "display_name": "Python 3",
   "language": "python",
   "name": "python3"
  },
  "language_info": {
   "codemirror_mode": {
    "name": "ipython",
    "version": 3
   },
   "file_extension": ".py",
   "mimetype": "text/x-python",
   "name": "python",
   "nbconvert_exporter": "python",
   "pygments_lexer": "ipython3",
   "version": "3.7.2"
  }
 },
 "nbformat": 4,
 "nbformat_minor": 2
}
